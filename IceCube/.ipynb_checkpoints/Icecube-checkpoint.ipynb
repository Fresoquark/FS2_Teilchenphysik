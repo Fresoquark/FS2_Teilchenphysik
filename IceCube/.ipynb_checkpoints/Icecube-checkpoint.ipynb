{
 "cells": [
  {
   "cell_type": "code",
   "execution_count": 1,
   "metadata": {},
   "outputs": [],
   "source": [
    "%matplotlib inline\n",
    "\n",
    "import numpy as np\n",
    "import matplotlib.pyplot as plt\n",
    "import pandas as pd\n",
    "from skfeature.function.information_theoretical_based import MRMR\n",
    "\n",
    "pd.set_option('display.max_columns', None)"
   ]
  },
  {
   "cell_type": "code",
   "execution_count": 2,
   "metadata": {},
   "outputs": [],
   "source": [
    "signal = pd.read_csv(\"signal.csv\", sep = \";\")\n",
    "bkg = pd.read_csv(\"background.csv\", sep = \";\")\n"
   ]
  },
  {
   "cell_type": "code",
   "execution_count": 3,
   "metadata": {},
   "outputs": [],
   "source": [
    "signal = signal.drop(signal.filter(regex='MC').columns, axis=1)\n",
    "signal = signal.drop(signal.filter(regex='Weight').columns, axis=1)\n",
    "signal = signal.drop(signal.filter(regex='Corsika').columns, axis=1)\n",
    "signal = signal.drop(signal.filter(regex='I3EventHeader').columns, axis=1)\n",
    "signal = signal.drop(signal.filter(regex='end').columns, axis=1)\n",
    "signal = signal.drop(signal.filter(regex='start').columns, axis=1)\n",
    "signal = signal.drop(signal.filter(regex='time').columns, axis=1)\n",
    "signal = signal.drop(signal.filter(regex='NewID').columns, axis=1)\n",
    "signal = signal.drop('label', axis=1)"
   ]
  },
  {
   "cell_type": "code",
   "execution_count": 4,
   "metadata": {},
   "outputs": [],
   "source": [
    "bkg = bkg.drop(bkg.filter(regex='MC').columns, axis=1)\n",
    "bkg = bkg.drop(bkg.filter(regex='Weight').columns, axis=1)\n",
    "bkg = bkg.drop(bkg.filter(regex='Corsika').columns, axis=1)\n",
    "bkg = bkg.drop(bkg.filter(regex='I3EventHeader').columns, axis=1)\n",
    "bkg = bkg.drop(bkg.filter(regex='end').columns, axis=1)\n",
    "bkg = bkg.drop(bkg.filter(regex='start').columns, axis=1)\n",
    "bkg = bkg.drop(bkg.filter(regex='time').columns, axis=1)\n",
    "bkg = bkg.drop(bkg.filter(regex='NewID').columns, axis=1)\n",
    "bkg = bkg.drop('label', axis=1)"
   ]
  },
  {
   "cell_type": "code",
   "execution_count": 5,
   "metadata": {},
   "outputs": [],
   "source": [
    "signal.replace([np.inf, -np.inf], np.nan)\n",
    "signal.dropna(axis = 'columns', inplace = True)\n",
    "signal = signal.drop(signal.std()[(signal.std() == 0)].index, axis=1)\n",
    "#signal.dropna(inplace = True)\n",
    "\n",
    "bkg.replace([np.inf, -np.inf], np.nan)\n",
    "bkg.dropna(axis = 'columns', inplace = True)\n",
    "bkg = bkg.drop(bkg.std()[(bkg.std() == 0)].index, axis=1)\n",
    "#bkg.dropna(inplace = True)"
   ]
  },
  {
   "cell_type": "code",
   "execution_count": 6,
   "metadata": {},
   "outputs": [],
   "source": [
    "bcol = bkg.columns\n",
    "scol = signal.columns"
   ]
  },
  {
   "cell_type": "code",
   "execution_count": 7,
   "metadata": {},
   "outputs": [],
   "source": [
    "for att in scol:\n",
    "    if att not in bcol:\n",
    "        signal.drop(att, axis=1, inplace = True)\n",
    "    \n",
    "for att in bcol:\n",
    "    if att not in scol:\n",
    "        bkg.drop(att, axis=1, inplace = True)"
   ]
  },
  {
   "cell_type": "code",
   "execution_count": 8,
   "metadata": {},
   "outputs": [],
   "source": [
    "import scipy.io\n",
    "from sklearn.metrics import accuracy_score\n",
    "from sklearn.model_selection import cross_validate\n",
    "from sklearn import svm\n",
    "from sklearn.metrics import jaccard_score"
   ]
  },
  {
   "cell_type": "code",
   "execution_count": 9,
   "metadata": {},
   "outputs": [],
   "source": [
    "sig_label = np.zeros(signal.shape[0])\n",
    "bkg_label = np.ones(bkg.shape[0])"
   ]
  },
  {
   "cell_type": "code",
   "execution_count": 10,
   "metadata": {},
   "outputs": [],
   "source": [
    "combined_df = pd.concat([signal, bkg], ignore_index=True)\n",
    "combined_label = np.append(sig_label, bkg_label)"
   ]
  },
  {
   "cell_type": "code",
   "execution_count": 11,
   "metadata": {},
   "outputs": [],
   "source": [
    "combined_df.insert(114, 'label', combined_label)\n",
    "shuffled = combined_df.sample(frac = 1)"
   ]
  },
  {
   "cell_type": "code",
   "execution_count": 12,
   "metadata": {},
   "outputs": [],
   "source": [
    "y = shuffled['label']\n",
    "X = shuffled.drop('label', axis=1)"
   ]
  },
  {
   "cell_type": "code",
   "execution_count": 13,
   "metadata": {},
   "outputs": [],
   "source": [
    "from sklearn import (\n",
    "    ensemble, linear_model, neighbors, svm, tree, naive_bayes,\n",
    "    gaussian_process, neural_network, dummy)\n",
    "from sklearn.model_selection import KFold\n",
    "from sklearn.model_selection import cross_val_score\n",
    "from sklearn.base import clone\n",
    "from tqdm import tqdm\n",
    "model = ensemble.RandomForestClassifier(n_estimators=100)\n",
    "model.get_params()\n",
    "from sklearn.model_selection import train_test_split"
   ]
  },
  {
   "cell_type": "code",
   "execution_count": 14,
   "metadata": {},
   "outputs": [],
   "source": [
    "X_train, X_test, y_train, y_test = train_test_split(X, y, test_size=0.2, random_state=42)"
   ]
  },
  {
   "cell_type": "code",
   "execution_count": 15,
   "metadata": {},
   "outputs": [],
   "source": [
    "from sklearn.feature_selection import SelectKBest, chi2, mutual_info_classif, f_classif\n",
    "# Anzahl der features die wir nehmen wollen\n",
    "N_feat = 20\n",
    "X_new = SelectKBest(score_func=f_classif, k=N_feat)\n",
    "d_fit = X_new.fit(X_train, y_train)\n",
    "# generiere scores die die güte des features angeben\n",
    "scores = d_fit.scores_\n",
    "# sortiere nach größe...\n",
    "sorted_scores = sorted(scores, reverse=True)\n",
    "args_max = np.argsort(scores)[::-1]\n",
    "# print(args_max)\n",
    "# lese die N_feat wichtigsten features aus und speichere sie weg\n",
    "features = []\n",
    "for i in range(N_feat):\n",
    "    features.append(X.columns.tolist()[args_max[i]])\n",
    "print(features)\n",
    "# werfe aus den trainingsdaten und testdaten alle features bis auf die wichtigsten raus\n",
    "X_train = X_train.loc[:, features]\n",
    "X_test = X_test.loc[:, features]"
   ]
  },
  {
   "cell_type": "code",
   "execution_count": 16,
   "metadata": {},
   "outputs": [],
   "source": [
    "from sklearn.metrics import accuracy_score\n",
    "from sklearn.metrics import precision_score\n",
    "from sklearn.metrics import r2_score, roc_auc_score, roc_curve\n",
    "# trainiere den lerner\n",
    "model.fit(X_train, y_train)\n",
    "# sage die labels vorher\n",
    "y_pred = model.predict_proba(X_test)\n",
    "y_pred = y_pred[:, 1]\n",
    "fpr1, tpr1, thr1 = roc_curve(y_test, y_pred)"
   ]
  },
  {
   "cell_type": "code",
   "execution_count": 17,
   "metadata": {},
   "outputs": [
    {
     "name": "stdout",
     "output_type": "stream",
     "text": [
      "RFC accuracy score(sklearn) =  0.946875\n",
      "RFC precision score(sklearn) =  0.9377897048060503\n",
      "jaccard score, RFC:  0.9004450691028344\n"
     ]
    }
   ],
   "source": [
    "#print(roc_auc_score(y_test, y_pred))\n",
    "#print(r2_score(y_test, y_pred))\n",
    "\n",
    "RFC_precision = precision_score(y_test, model.predict(X_test))\n",
    "RFC_eff = accuracy_score(y_test, model.predict(X_test))\n",
    "print('RFC accuracy score(sklearn) = ', RFC_eff)\n",
    "print('RFC precision score(sklearn) = ', RFC_precision)\n",
    "rfc_Jscore = jaccard_score(y_test, model.predict(X_test))\n",
    "print('jaccard score, RFC: ', rfc_Jscore)"
   ]
  },
  {
   "cell_type": "code",
   "execution_count": 18,
   "metadata": {},
   "outputs": [],
   "source": [
    "import numpy as np\n",
    "from sklearn.model_selection import train_test_split\n",
    "import pandas as pd\n",
    "from scipy.spatial import distance\n",
    "from sklearn.metrics.cluster import v_measure_score\n",
    "from sklearn.metrics import accuracy_score\n",
    "\n",
    "class KNN:\n",
    "    def __init__(self, k):\n",
    "        self.k = k\n",
    "\n",
    "\n",
    "    def euc(self, a, b):\n",
    "        return distance.euclidean(a, b)\n",
    "\n",
    "\n",
    "    def fit(self, X_train, y_train):\n",
    "        self.X_train = X_train\n",
    "        self.y_train = y_train\n",
    "\n",
    "        \n",
    "    def predict(self, X):\n",
    "        pred = []\n",
    "        # row_count = 0\n",
    "        for row in X: # iteriere durch jedes event\n",
    "            # label = orte mit kleinstem abstand\n",
    "            label = self.closest_points(row, self.X_train)\n",
    "            # pred.append(prediction)\n",
    "            N_sig = 0\n",
    "            N_bg = 0\n",
    "            for i in label:\n",
    "                if self.y_train[i] == 0:\n",
    "                    N_sig += 1\n",
    "                else:\n",
    "                    N_bg += 1\n",
    "            if N_sig >= N_bg: # wenn label = signal ist dann 0 ( weil 0 = signal heisst)\n",
    "                pred.append(0)\n",
    "            else:\n",
    "                pred.append(1) # sonst 1 appenden da 1 = bg\n",
    "            # if row_count % 10000 == 0:\n",
    "                # print(row_count)\n",
    "            # row_count += 1\n",
    "        return pred\n",
    "\n",
    "    \n",
    "    def closest_points(self, row, X):\n",
    "        index = [] # speichere hier die besten indizes\n",
    "        distances = [] # alle distanzen\n",
    "        distances = distance.cdist([row], X, 'euclidean')\n",
    "        \n",
    "        sort_dist = np.argsort(distances) # sortiere die distancen und gibt die k kleinsten zurueck\n",
    "        for j in range(self.k):\n",
    "            index.append(sort_dist[0][j])\n",
    "\n",
    "        return index"
   ]
  },
  {
   "cell_type": "code",
   "execution_count": 19,
   "metadata": {},
   "outputs": [],
   "source": [
    "nn = 20\n",
    "knn = KNN(nn)\n",
    "# daten muessen np arrays sein\n",
    "X_trn = np.array(X_train)\n",
    "y_trn = np.array(y_train)\n",
    "X_t = np.array(X_test)\n",
    "y_t = np.array(y_test)\n",
    "\n",
    "knn_fit = knn.fit(X_trn, y_trn)\n",
    "knn_pred = knn.predict(X_t)"
   ]
  },
  {
   "cell_type": "code",
   "execution_count": 20,
   "metadata": {},
   "outputs": [
    {
     "name": "stdout",
     "output_type": "stream",
     "text": [
      "for kNN:\n",
      "accuracy score(sklearn) =  0.90175\n",
      "Eff:  0.9074259909683894\n",
      "Purity:  0.8966286564204263\n",
      "Signifikanz:  42.585371454704095\n",
      "Accuracy:  0.90175\n"
     ]
    }
   ],
   "source": [
    "import numpy as np\n",
    "from sklearn.model_selection import train_test_split\n",
    "import pandas as pd\n",
    "from scipy.spatial import distance\n",
    "from sklearn.metrics.cluster import v_measure_score\n",
    "from sklearn.metrics import accuracy_score\n",
    "\n",
    "knn_roc_score = roc_auc_score(y_test, knn_pred)\n",
    "#print('roc_auc score (knn): ', knn_roc_score)\n",
    "\n",
    "y_true = y_t.tolist()\n",
    "\n",
    "tp = 0\n",
    "fp = 0\n",
    "fn = 0\n",
    "tn = 0\n",
    "for i in range(len(y_true)):\n",
    "    if knn_pred[i] == y_true[i] and knn_pred[i] == 0:\n",
    "        tp += 1\n",
    "    if knn_pred[i] == 0 and y_true[i] == 1:\n",
    "        fp += 1\n",
    "    if knn_pred[i] == 1 and y_true[i] == 0:\n",
    "        fn += 1\n",
    "    if knn_pred[i] == y_true[i] and knn_pred[i] == 1:\n",
    "        tn += 1\n",
    "\n",
    "# print('tp: ', tp, 'fp: ', fp, 'fn: ', fn, 'tn:', tn)\n",
    "\n",
    "Eff = tp / (tp + fn)\n",
    "P = tp / (tp + fp)\n",
    "S = tp / np.sqrt(tp + tn)\n",
    "accuracy = (tp + tn) / (tp + fp + tn + fn)\n",
    "\n",
    "print('for kNN:')\n",
    "print('accuracy score(sklearn) = ', accuracy_score(knn_pred, y_true))\n",
    "print('Eff: ', Eff)\n",
    "print('Purity: ', P)\n",
    "print('Signifikanz: ', S)\n",
    "print('Accuracy: ', accuracy)"
   ]
  },
  {
   "cell_type": "code",
   "execution_count": 21,
   "metadata": {},
   "outputs": [],
   "source": [
    "# knn von sklearn:\n",
    "from sklearn.neighbors import KNeighborsClassifier\n",
    "knn_clf = KNeighborsClassifier(n_neighbors=nn)\n",
    "knn_clf.fit(X_train, y_train)\n",
    "PRED_knn = knn_clf.predict_proba(X_test)\n",
    "PRED_knn = PRED_knn[:, 1]\n",
    "fpr2, tpr2, thr2 = roc_curve(y_test, PRED_knn)"
   ]
  },
  {
   "cell_type": "code",
   "execution_count": 22,
   "metadata": {},
   "outputs": [
    {
     "name": "stdout",
     "output_type": "stream",
     "text": [
      "KNN accuracy score(sklearn) =  0.90175\n",
      "KNN precision score(sklearn) =  0.9069591527987897\n",
      "jaccard score, kNN:  0.8206707734428473\n"
     ]
    }
   ],
   "source": [
    "knn_precision = precision_score(y_true, knn_clf.predict(X_test))\n",
    "knn_eff = accuracy_score(y_true, knn_clf.predict(X_test))\n",
    "print('KNN accuracy score(sklearn) = ', knn_eff)\n",
    "print('KNN precision score(sklearn) = ', knn_precision)\n",
    "knn_Jscore = jaccard_score(y_true, knn_clf.predict(X_test))\n",
    "print('jaccard score, kNN: ', knn_Jscore)"
   ]
  },
  {
   "cell_type": "code",
   "execution_count": 23,
   "metadata": {},
   "outputs": [],
   "source": [
    "# naive bayes:\n",
    "from sklearn.naive_bayes import GaussianNB\n",
    "clf = GaussianNB()\n",
    "clf.fit(X_train, y_train)\n",
    "NB_pred = clf.predict_proba(X_test)\n",
    "NB_pred = NB_pred[:, 1]\n",
    "fpr3, tpr3, thr3 = roc_curve(y_test, NB_pred)"
   ]
  },
  {
   "cell_type": "code",
   "execution_count": 24,
   "metadata": {},
   "outputs": [
    {
     "data": {
      "image/png": "[encoded data removed]",
      "text/plain": [
       "<Figure size 432x288 with 1 Axes>"
      ]
     },
     "metadata": {
      "needs_background": "light"
     },
     "output_type": "display_data"
    }
   ],
   "source": [
    "plt.figure(1)\n",
    "plt.plot(fpr3, tpr3, label='naive bayes ROC')\n",
    "plt.plot(fpr2, tpr2, label='knn ROC, NN = {}'.format(nn))\n",
    "plt.plot(fpr1, tpr1, label='Random Forest ROC')\n",
    "plt.xlabel('False positive rate')\n",
    "plt.ylabel('True positive rate')\n",
    "plt.title('ROC curve')\n",
    "plt.legend(loc='best')\n",
    "plt.show()"
   ]
  },
  {
   "cell_type": "code",
   "execution_count": 25,
   "metadata": {},
   "outputs": [
    {
     "name": "stdout",
     "output_type": "stream",
     "text": [
      "NB accuracy score(sklearn) =  0.7985\n",
      "NB precision score(sklearn) =  0.7568434559452524\n",
      "jaccard score, NB:  0.6870510580469812\n"
     ]
    }
   ],
   "source": [
    "NB_precision = precision_score(y_true, clf.predict(X_test))\n",
    "NB_eff = accuracy_score(y_true, clf.predict(X_test))\n",
    "print('NB accuracy score(sklearn) = ', NB_eff)\n",
    "print('NB precision score(sklearn) = ', NB_precision)\n",
    "NB_Jscore = jaccard_score(y_true, clf.predict(X_test))\n",
    "print('jaccard score, NB: ', NB_Jscore)"
   ]
  }
 ],
 "metadata": {
  "kernelspec": {
   "display_name": "Python 3",
   "language": "python",
   "name": "python3"
  },
  "language_info": {
   "codemirror_mode": {
    "name": "ipython",
    "version": 3
   },
   "file_extension": ".py",
   "mimetype": "text/x-python",
   "name": "python",
   "nbconvert_exporter": "python",
   "pygments_lexer": "ipython3",
   "version": "3.7.7"
  }
 },
 "nbformat": 4,
 "nbformat_minor": 2
}
