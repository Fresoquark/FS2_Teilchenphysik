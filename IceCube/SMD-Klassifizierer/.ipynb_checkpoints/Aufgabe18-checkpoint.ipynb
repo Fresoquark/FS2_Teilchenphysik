<<<<<<< HEAD
{
 "cells": [
  {
   "cell_type": "markdown",
   "metadata": {},
   "source": [
    "# Abgabe zum 7.Übungsblatt von Maiworm,Koch,Birkwald\n",
    "# Aufgabe 18) Data Mining Anwendung – Gamma/Hadron-Klassifizierung "
   ]
  },
  {
   "cell_type": "markdown",
   "metadata": {},
   "source": [
    "Es soll ein reales Problem aus der Gammaastronomie untersucht werden.\n",
    "Dafür wird eine Gamma/Hadronen-Klassifizierung mit Hilfe eines Random Forest durchgeführt."
   ]
  },
  {
   "cell_type": "markdown",
   "metadata": {},
   "source": [
    "#### Warum ist das wichtig?"
   ]
  },
  {
   "cell_type": "markdown",
   "metadata": {},
   "source": [
    "Hochenergetische Gammateilchen weisen mehr oder weniger direkt an den Ort, an dem sie entstanden sind.\n",
    "Anhand ihrer Eigenschaften, wie z.B. ihrer Energie, lassen sich so Rückschlüsse auf ihre Entstehung ziehen.\n",
    "Es ist damit z.B. möglich schwarze Löcher und andere extreme galaktische Phänomene indirekt zu untersuchen.\n",
    "\n",
    "Schlussendlich wird in einem Teleskop aber nicht einmal das ursprüngliche Gammateilchen gemessen.\n",
    "Das Gammateilchen wechselwirkt mit der Atmsophäre, wo es unter Paarbildung zur Ausbildung eines Schauers aus Sekundärteilchen kommt.\n",
    "Dieser Schauer kann von einem Teleskop gemessen werden und erlaubt es das ursprüngliche Gammateilchen zu rekonstruieren.\n",
    "\n",
    "Es gibt allerdings ein Problem: Protonen.\n",
    "\n",
    "Neben hochenergetischen Gammateilchen können kosmische Protonen ebenfalls in der Atmosphäre Schauer von Sekundärteilchen erzeugen.\n",
    "Diese können ebenfalls von einem Teleskop gemessen werden.\n",
    "Da das Teleksop per se nicht weiss, ob es da ein Proton oder eine Gammateilchen gemessen hat, müssen wir nun mit Hilfe des oben bereits erwähnten Random Forests eine entsprechende Klassifizierung vornehmen."
   ]
  },
  {
   "cell_type": "markdown",
   "metadata": {},
   "source": [
    "## Teilaufgabe a)"
   ]
  },
  {
   "cell_type": "markdown",
   "metadata": {},
   "source": [
    "Hier soll zunächst der Datensatz eingelesen werden und für das Training ein Label $y_i$ erstellt werden.\n",
    "Für Gammateilchen ist $y_i = 0$ und für Protonen ist $y_i = 1$.\n",
    "Aus dem verwendeten Dataframe soll weiterhin ein Set von Features ausgewählt werden, mit denen die Klassifizierung durchgeführt werden soll."
   ]
  },
  {
   "cell_type": "code",
   "execution_count": 16,
   "metadata": {},
   "outputs": [],
   "source": [
    "%matplotlib inline\n",
    "\n",
    "import numpy as np\n",
    "import matplotlib.pyplot as plt\n",
    "import pandas as pd\n",
    "import h5py\n",
    "\n",
    "\n",
    "filename = 'image_parameters_smd_train.hdf5'\n",
    "dataframe = pd.read_hdf(filename)\n"
   ]
  },
  {
   "cell_type": "code",
   "execution_count": 2,
   "metadata": {},
   "outputs": [
    {
     "data": {
      "text/html": [
       "<div>\n",
       "<style scoped>\n",
       "    .dataframe tbody tr th:only-of-type {\n",
       "        vertical-align: middle;\n",
       "    }\n",
       "\n",
       "    .dataframe tbody tr th {\n",
       "        vertical-align: top;\n",
       "    }\n",
       "\n",
       "    .dataframe thead th {\n",
       "        text-align: right;\n",
       "    }\n",
       "</style>\n",
       "<table border=\"1\" class=\"dataframe\">\n",
       "  <thead>\n",
       "    <tr style=\"text-align: right;\">\n",
       "      <th></th>\n",
       "      <th>run_id</th>\n",
       "      <th>event_num</th>\n",
       "      <th>corsika_event_header_total_energy</th>\n",
       "      <th>corsika_run_header_particle_id</th>\n",
       "      <th>concentration_cog</th>\n",
       "      <th>concentration_core</th>\n",
       "      <th>concentration_one_pixel</th>\n",
       "      <th>concentration_two_pixel</th>\n",
       "      <th>leakage1</th>\n",
       "      <th>leakage2</th>\n",
       "      <th>...</th>\n",
       "      <th>width</th>\n",
       "      <th>length</th>\n",
       "      <th>skewness_long</th>\n",
       "      <th>skewness_trans</th>\n",
       "      <th>kurtosis_long</th>\n",
       "      <th>kurtosis_trans</th>\n",
       "      <th>num_islands</th>\n",
       "      <th>num_pixel_in_shower</th>\n",
       "      <th>photoncharge_shower_mean</th>\n",
       "      <th>photoncharge_shower_variance</th>\n",
       "    </tr>\n",
       "  </thead>\n",
       "  <tbody>\n",
       "    <tr>\n",
       "      <th>1</th>\n",
       "      <td>12702</td>\n",
       "      <td>3</td>\n",
       "      <td>433.69394</td>\n",
       "      <td>1</td>\n",
       "      <td>0.586610</td>\n",
       "      <td>0.455474</td>\n",
       "      <td>0.246464</td>\n",
       "      <td>0.455474</td>\n",
       "      <td>0.0</td>\n",
       "      <td>0.0</td>\n",
       "      <td>...</td>\n",
       "      <td>5.008837</td>\n",
       "      <td>8.355993</td>\n",
       "      <td>0.038369</td>\n",
       "      <td>-0.114003</td>\n",
       "      <td>1.747550</td>\n",
       "      <td>1.689157</td>\n",
       "      <td>1</td>\n",
       "      <td>7</td>\n",
       "      <td>5.209295</td>\n",
       "      <td>4.893394</td>\n",
       "    </tr>\n",
       "    <tr>\n",
       "      <th>2</th>\n",
       "      <td>12702</td>\n",
       "      <td>4</td>\n",
       "      <td>473.65216</td>\n",
       "      <td>1</td>\n",
       "      <td>0.424287</td>\n",
       "      <td>0.424287</td>\n",
       "      <td>0.178021</td>\n",
       "      <td>0.336471</td>\n",
       "      <td>0.0</td>\n",
       "      <td>0.0</td>\n",
       "      <td>...</td>\n",
       "      <td>5.713048</td>\n",
       "      <td>9.323578</td>\n",
       "      <td>-0.034917</td>\n",
       "      <td>0.117764</td>\n",
       "      <td>1.531659</td>\n",
       "      <td>1.728964</td>\n",
       "      <td>1</td>\n",
       "      <td>9</td>\n",
       "      <td>7.086197</td>\n",
       "      <td>7.917912</td>\n",
       "    </tr>\n",
       "    <tr>\n",
       "      <th>5</th>\n",
       "      <td>12702</td>\n",
       "      <td>10</td>\n",
       "      <td>15238.82400</td>\n",
       "      <td>1</td>\n",
       "      <td>0.086792</td>\n",
       "      <td>0.464911</td>\n",
       "      <td>0.049563</td>\n",
       "      <td>0.096657</td>\n",
       "      <td>0.0</td>\n",
       "      <td>0.0</td>\n",
       "      <td>...</td>\n",
       "      <td>9.503945</td>\n",
       "      <td>36.189809</td>\n",
       "      <td>-0.796868</td>\n",
       "      <td>0.164766</td>\n",
       "      <td>3.190828</td>\n",
       "      <td>3.281966</td>\n",
       "      <td>1</td>\n",
       "      <td>100</td>\n",
       "      <td>26.658584</td>\n",
       "      <td>901.313791</td>\n",
       "    </tr>\n",
       "    <tr>\n",
       "      <th>6</th>\n",
       "      <td>12702</td>\n",
       "      <td>11</td>\n",
       "      <td>2236.51000</td>\n",
       "      <td>1</td>\n",
       "      <td>0.135448</td>\n",
       "      <td>0.356647</td>\n",
       "      <td>0.098123</td>\n",
       "      <td>0.191281</td>\n",
       "      <td>0.0</td>\n",
       "      <td>0.0</td>\n",
       "      <td>...</td>\n",
       "      <td>7.193686</td>\n",
       "      <td>18.298463</td>\n",
       "      <td>0.591534</td>\n",
       "      <td>0.384114</td>\n",
       "      <td>2.375837</td>\n",
       "      <td>2.546314</td>\n",
       "      <td>1</td>\n",
       "      <td>23</td>\n",
       "      <td>9.051240</td>\n",
       "      <td>28.829864</td>\n",
       "    </tr>\n",
       "    <tr>\n",
       "      <th>7</th>\n",
       "      <td>12702</td>\n",
       "      <td>12</td>\n",
       "      <td>525.05634</td>\n",
       "      <td>1</td>\n",
       "      <td>0.640389</td>\n",
       "      <td>0.378509</td>\n",
       "      <td>0.261880</td>\n",
       "      <td>0.478792</td>\n",
       "      <td>0.0</td>\n",
       "      <td>0.0</td>\n",
       "      <td>...</td>\n",
       "      <td>5.738275</td>\n",
       "      <td>7.390484</td>\n",
       "      <td>0.608018</td>\n",
       "      <td>-0.379429</td>\n",
       "      <td>1.691941</td>\n",
       "      <td>2.031471</td>\n",
       "      <td>1</td>\n",
       "      <td>5</td>\n",
       "      <td>5.323000</td>\n",
       "      <td>1.362421</td>\n",
       "    </tr>\n",
       "  </tbody>\n",
       "</table>\n",
       "<p>5 rows × 21 columns</p>\n",
       "</div>"
      ],
      "text/plain": [
       "   run_id  event_num  corsika_event_header_total_energy  \\\n",
       "1   12702          3                          433.69394   \n",
       "2   12702          4                          473.65216   \n",
       "5   12702         10                        15238.82400   \n",
       "6   12702         11                         2236.51000   \n",
       "7   12702         12                          525.05634   \n",
       "\n",
       "   corsika_run_header_particle_id  concentration_cog  concentration_core  \\\n",
       "1                               1           0.586610            0.455474   \n",
       "2                               1           0.424287            0.424287   \n",
       "5                               1           0.086792            0.464911   \n",
       "6                               1           0.135448            0.356647   \n",
       "7                               1           0.640389            0.378509   \n",
       "\n",
       "   concentration_one_pixel  concentration_two_pixel  leakage1  leakage2  \\\n",
       "1                 0.246464                 0.455474       0.0       0.0   \n",
       "2                 0.178021                 0.336471       0.0       0.0   \n",
       "5                 0.049563                 0.096657       0.0       0.0   \n",
       "6                 0.098123                 0.191281       0.0       0.0   \n",
       "7                 0.261880                 0.478792       0.0       0.0   \n",
       "\n",
       "               ...                  width     length  skewness_long  \\\n",
       "1              ...               5.008837   8.355993       0.038369   \n",
       "2              ...               5.713048   9.323578      -0.034917   \n",
       "5              ...               9.503945  36.189809      -0.796868   \n",
       "6              ...               7.193686  18.298463       0.591534   \n",
       "7              ...               5.738275   7.390484       0.608018   \n",
       "\n",
       "   skewness_trans  kurtosis_long  kurtosis_trans  num_islands  \\\n",
       "1       -0.114003       1.747550        1.689157            1   \n",
       "2        0.117764       1.531659        1.728964            1   \n",
       "5        0.164766       3.190828        3.281966            1   \n",
       "6        0.384114       2.375837        2.546314            1   \n",
       "7       -0.379429       1.691941        2.031471            1   \n",
       "\n",
       "   num_pixel_in_shower  photoncharge_shower_mean  photoncharge_shower_variance  \n",
       "1                    7                  5.209295                      4.893394  \n",
       "2                    9                  7.086197                      7.917912  \n",
       "5                  100                 26.658584                    901.313791  \n",
       "6                   23                  9.051240                     28.829864  \n",
       "7                    5                  5.323000                      1.362421  \n",
       "\n",
       "[5 rows x 21 columns]"
      ]
     },
     "execution_count": 2,
     "metadata": {},
     "output_type": "execute_result"
    }
   ],
   "source": [
    "dataframe.head()"
   ]
  },
  {
   "cell_type": "code",
   "execution_count": 3,
   "metadata": {},
   "outputs": [],
   "source": [
    "def labeling(id):\n",
    "    if(id == 1):\n",
    "        return 1\n",
    "    else:\n",
    "        return 0\n",
    "    \n",
    "y_i = np.array(dataframe['corsika_run_header_particle_id'].apply(labeling))\n"
   ]
  },
  {
   "cell_type": "markdown",
   "metadata": {},
   "source": [
    "Einführung von X als Set von Feature zur Klassifizierung"
   ]
  },
  {
   "cell_type": "code",
   "execution_count": 4,
   "metadata": {},
   "outputs": [],
   "source": [
    "X = ['concentration_cog','concentration_core','concentration_one_pixel','concentration_two_pixel','leakage1','leakage2','size','width','length','skewness_long','skewness_trans','kurtosis_long','kurtosis_trans','num_islands','num_pixel_in_shower','photoncharge_shower_mean','photoncharge_shower_variance']\n",
    "notX = ['run_id','event_num','corsika_event_header_total_energy','corsika_run_header_particle_id']\n",
    "dataframe = dataframe.drop(notX, axis=1)\n"
   ]
  },
  {
   "cell_type": "markdown",
   "metadata": {},
   "source": [
    "Jetzt wird der Datensatz in Trainings- und Validierungsdatensatz aufgeteilt."
   ]
  },
  {
   "cell_type": "code",
   "execution_count": 5,
   "metadata": {},
   "outputs": [
    {
     "data": {
      "text/html": [
       "<div>\n",
       "<style scoped>\n",
       "    .dataframe tbody tr th:only-of-type {\n",
       "        vertical-align: middle;\n",
       "    }\n",
       "\n",
       "    .dataframe tbody tr th {\n",
       "        vertical-align: top;\n",
       "    }\n",
       "\n",
       "    .dataframe thead th {\n",
       "        text-align: right;\n",
       "    }\n",
       "</style>\n",
       "<table border=\"1\" class=\"dataframe\">\n",
       "  <thead>\n",
       "    <tr style=\"text-align: right;\">\n",
       "      <th></th>\n",
       "      <th>concentration_cog</th>\n",
       "      <th>concentration_core</th>\n",
       "      <th>concentration_one_pixel</th>\n",
       "      <th>concentration_two_pixel</th>\n",
       "      <th>leakage1</th>\n",
       "      <th>leakage2</th>\n",
       "      <th>size</th>\n",
       "      <th>width</th>\n",
       "      <th>length</th>\n",
       "      <th>skewness_long</th>\n",
       "      <th>skewness_trans</th>\n",
       "      <th>kurtosis_long</th>\n",
       "      <th>kurtosis_trans</th>\n",
       "      <th>num_islands</th>\n",
       "      <th>num_pixel_in_shower</th>\n",
       "      <th>photoncharge_shower_mean</th>\n",
       "      <th>photoncharge_shower_variance</th>\n",
       "    </tr>\n",
       "  </thead>\n",
       "  <tbody>\n",
       "    <tr>\n",
       "      <th>298338</th>\n",
       "      <td>0.145136</td>\n",
       "      <td>0.417348</td>\n",
       "      <td>0.165094</td>\n",
       "      <td>0.325846</td>\n",
       "      <td>0.0</td>\n",
       "      <td>0.15412</td>\n",
       "      <td>60.886470</td>\n",
       "      <td>5.237851</td>\n",
       "      <td>18.310135</td>\n",
       "      <td>0.012092</td>\n",
       "      <td>-0.091449</td>\n",
       "      <td>1.284633</td>\n",
       "      <td>2.303035</td>\n",
       "      <td>1</td>\n",
       "      <td>12</td>\n",
       "      <td>5.073872</td>\n",
       "      <td>7.313409</td>\n",
       "    </tr>\n",
       "    <tr>\n",
       "      <th>288546</th>\n",
       "      <td>0.114989</td>\n",
       "      <td>0.431135</td>\n",
       "      <td>0.059584</td>\n",
       "      <td>0.109565</td>\n",
       "      <td>0.0</td>\n",
       "      <td>0.00000</td>\n",
       "      <td>299.140096</td>\n",
       "      <td>11.875189</td>\n",
       "      <td>18.206438</td>\n",
       "      <td>-0.271572</td>\n",
       "      <td>-0.018125</td>\n",
       "      <td>2.350277</td>\n",
       "      <td>2.082922</td>\n",
       "      <td>1</td>\n",
       "      <td>36</td>\n",
       "      <td>8.309447</td>\n",
       "      <td>11.704022</td>\n",
       "    </tr>\n",
       "    <tr>\n",
       "      <th>305783</th>\n",
       "      <td>0.110926</td>\n",
       "      <td>0.353892</td>\n",
       "      <td>0.053530</td>\n",
       "      <td>0.100798</td>\n",
       "      <td>0.0</td>\n",
       "      <td>0.00000</td>\n",
       "      <td>181.436871</td>\n",
       "      <td>11.977538</td>\n",
       "      <td>24.358672</td>\n",
       "      <td>-0.528586</td>\n",
       "      <td>-0.531132</td>\n",
       "      <td>2.583371</td>\n",
       "      <td>2.416098</td>\n",
       "      <td>2</td>\n",
       "      <td>34</td>\n",
       "      <td>5.336379</td>\n",
       "      <td>3.628204</td>\n",
       "    </tr>\n",
       "    <tr>\n",
       "      <th>19710</th>\n",
       "      <td>0.136402</td>\n",
       "      <td>0.405555</td>\n",
       "      <td>0.072386</td>\n",
       "      <td>0.142169</td>\n",
       "      <td>0.0</td>\n",
       "      <td>0.00000</td>\n",
       "      <td>322.391371</td>\n",
       "      <td>8.251606</td>\n",
       "      <td>25.541036</td>\n",
       "      <td>-0.506275</td>\n",
       "      <td>-0.063181</td>\n",
       "      <td>2.086318</td>\n",
       "      <td>2.984828</td>\n",
       "      <td>1</td>\n",
       "      <td>39</td>\n",
       "      <td>8.266445</td>\n",
       "      <td>32.529353</td>\n",
       "    </tr>\n",
       "    <tr>\n",
       "      <th>16371</th>\n",
       "      <td>0.568970</td>\n",
       "      <td>0.430080</td>\n",
       "      <td>0.225783</td>\n",
       "      <td>0.430080</td>\n",
       "      <td>0.0</td>\n",
       "      <td>0.00000</td>\n",
       "      <td>34.772601</td>\n",
       "      <td>4.176852</td>\n",
       "      <td>9.505095</td>\n",
       "      <td>-0.001493</td>\n",
       "      <td>0.667135</td>\n",
       "      <td>1.711153</td>\n",
       "      <td>1.299073</td>\n",
       "      <td>1</td>\n",
       "      <td>7</td>\n",
       "      <td>4.967514</td>\n",
       "      <td>3.327944</td>\n",
       "    </tr>\n",
       "  </tbody>\n",
       "</table>\n",
       "</div>"
      ],
      "text/plain": [
       "        concentration_cog  concentration_core  concentration_one_pixel  \\\n",
       "298338           0.145136            0.417348                 0.165094   \n",
       "288546           0.114989            0.431135                 0.059584   \n",
       "305783           0.110926            0.353892                 0.053530   \n",
       "19710            0.136402            0.405555                 0.072386   \n",
       "16371            0.568970            0.430080                 0.225783   \n",
       "\n",
       "        concentration_two_pixel  leakage1  leakage2        size      width  \\\n",
       "298338                 0.325846       0.0   0.15412   60.886470   5.237851   \n",
       "288546                 0.109565       0.0   0.00000  299.140096  11.875189   \n",
       "305783                 0.100798       0.0   0.00000  181.436871  11.977538   \n",
       "19710                  0.142169       0.0   0.00000  322.391371   8.251606   \n",
       "16371                  0.430080       0.0   0.00000   34.772601   4.176852   \n",
       "\n",
       "           length  skewness_long  skewness_trans  kurtosis_long  \\\n",
       "298338  18.310135       0.012092       -0.091449       1.284633   \n",
       "288546  18.206438      -0.271572       -0.018125       2.350277   \n",
       "305783  24.358672      -0.528586       -0.531132       2.583371   \n",
       "19710   25.541036      -0.506275       -0.063181       2.086318   \n",
       "16371    9.505095      -0.001493        0.667135       1.711153   \n",
       "\n",
       "        kurtosis_trans  num_islands  num_pixel_in_shower  \\\n",
       "298338        2.303035            1                   12   \n",
       "288546        2.082922            1                   36   \n",
       "305783        2.416098            2                   34   \n",
       "19710         2.984828            1                   39   \n",
       "16371         1.299073            1                    7   \n",
       "\n",
       "        photoncharge_shower_mean  photoncharge_shower_variance  \n",
       "298338                  5.073872                      7.313409  \n",
       "288546                  8.309447                     11.704022  \n",
       "305783                  5.336379                      3.628204  \n",
       "19710                   8.266445                     32.529353  \n",
       "16371                   4.967514                      3.327944  "
      ]
     },
     "execution_count": 5,
     "metadata": {},
     "output_type": "execute_result"
    }
   ],
   "source": [
    "from sklearn.model_selection import train_test_split\n",
    "\n",
    "X_train, X_test, y_train, y_test = train_test_split(dataframe, y_i, test_size=0.2, random_state=42)\n",
    "\n",
    "X_train.head()"
   ]
  },
  {
   "cell_type": "markdown",
   "metadata": {},
   "source": [
    "## Teilaufgabe b)"
   ]
  },
  {
   "cell_type": "markdown",
   "metadata": {},
   "source": [
    "Nun wird eine Feature-Selection mittels der F-Statistik durchgeführt.\n",
    "Dafür wird die univariante Feature-selection von sklearn genutzt.\n",
    "Für erhöhte Geschwindigkeit wird der Trainingsframe in ein Array umgewandelt."
   ]
  },
  {
   "cell_type": "code",
   "execution_count": 6,
   "metadata": {},
   "outputs": [
    {
     "name": "stdout",
     "output_type": "stream",
     "text": [
      "[6.07789994e+02 9.67972815e+01 1.44393183e+02 1.72737119e+02\n",
      " 2.78440300e+02 2.56043676e+02 5.63985189e+01 1.03391110e+03\n",
      " 1.50009856e+03 1.68848396e-01 3.76106392e-01 2.44144434e+01\n",
      " 3.25516004e+01 5.89898047e+02 2.88446807e+02 2.18953346e+02\n",
      " 3.26448417e+01]\n"
     ]
    },
    {
     "data": {
      "text/html": [
       "<div>\n",
       "<style scoped>\n",
       "    .dataframe tbody tr th:only-of-type {\n",
       "        vertical-align: middle;\n",
       "    }\n",
       "\n",
       "    .dataframe tbody tr th {\n",
       "        vertical-align: top;\n",
       "    }\n",
       "\n",
       "    .dataframe thead th {\n",
       "        text-align: right;\n",
       "    }\n",
       "</style>\n",
       "<table border=\"1\" class=\"dataframe\">\n",
       "  <thead>\n",
       "    <tr style=\"text-align: right;\">\n",
       "      <th></th>\n",
       "      <th>concentration_cog</th>\n",
       "      <th>concentration_core</th>\n",
       "      <th>concentration_one_pixel</th>\n",
       "      <th>concentration_two_pixel</th>\n",
       "      <th>leakage1</th>\n",
       "      <th>leakage2</th>\n",
       "      <th>size</th>\n",
       "      <th>width</th>\n",
       "      <th>length</th>\n",
       "      <th>skewness_long</th>\n",
       "      <th>skewness_trans</th>\n",
       "      <th>kurtosis_long</th>\n",
       "      <th>kurtosis_trans</th>\n",
       "      <th>num_islands</th>\n",
       "      <th>num_pixel_in_shower</th>\n",
       "      <th>photoncharge_shower_mean</th>\n",
       "      <th>photoncharge_shower_variance</th>\n",
       "    </tr>\n",
       "  </thead>\n",
       "  <tbody>\n",
       "    <tr>\n",
       "      <th>298338</th>\n",
       "      <td>0.145136</td>\n",
       "      <td>0.417348</td>\n",
       "      <td>0.165094</td>\n",
       "      <td>0.325846</td>\n",
       "      <td>0.0</td>\n",
       "      <td>0.15412</td>\n",
       "      <td>60.886470</td>\n",
       "      <td>5.237851</td>\n",
       "      <td>18.310135</td>\n",
       "      <td>0.012092</td>\n",
       "      <td>-0.091449</td>\n",
       "      <td>1.284633</td>\n",
       "      <td>2.303035</td>\n",
       "      <td>1</td>\n",
       "      <td>12</td>\n",
       "      <td>5.073872</td>\n",
       "      <td>7.313409</td>\n",
       "    </tr>\n",
       "    <tr>\n",
       "      <th>288546</th>\n",
       "      <td>0.114989</td>\n",
       "      <td>0.431135</td>\n",
       "      <td>0.059584</td>\n",
       "      <td>0.109565</td>\n",
       "      <td>0.0</td>\n",
       "      <td>0.00000</td>\n",
       "      <td>299.140096</td>\n",
       "      <td>11.875189</td>\n",
       "      <td>18.206438</td>\n",
       "      <td>-0.271572</td>\n",
       "      <td>-0.018125</td>\n",
       "      <td>2.350277</td>\n",
       "      <td>2.082922</td>\n",
       "      <td>1</td>\n",
       "      <td>36</td>\n",
       "      <td>8.309447</td>\n",
       "      <td>11.704022</td>\n",
       "    </tr>\n",
       "    <tr>\n",
       "      <th>305783</th>\n",
       "      <td>0.110926</td>\n",
       "      <td>0.353892</td>\n",
       "      <td>0.053530</td>\n",
       "      <td>0.100798</td>\n",
       "      <td>0.0</td>\n",
       "      <td>0.00000</td>\n",
       "      <td>181.436871</td>\n",
       "      <td>11.977538</td>\n",
       "      <td>24.358672</td>\n",
       "      <td>-0.528586</td>\n",
       "      <td>-0.531132</td>\n",
       "      <td>2.583371</td>\n",
       "      <td>2.416098</td>\n",
       "      <td>2</td>\n",
       "      <td>34</td>\n",
       "      <td>5.336379</td>\n",
       "      <td>3.628204</td>\n",
       "    </tr>\n",
       "    <tr>\n",
       "      <th>19710</th>\n",
       "      <td>0.136402</td>\n",
       "      <td>0.405555</td>\n",
       "      <td>0.072386</td>\n",
       "      <td>0.142169</td>\n",
       "      <td>0.0</td>\n",
       "      <td>0.00000</td>\n",
       "      <td>322.391371</td>\n",
       "      <td>8.251606</td>\n",
       "      <td>25.541036</td>\n",
       "      <td>-0.506275</td>\n",
       "      <td>-0.063181</td>\n",
       "      <td>2.086318</td>\n",
       "      <td>2.984828</td>\n",
       "      <td>1</td>\n",
       "      <td>39</td>\n",
       "      <td>8.266445</td>\n",
       "      <td>32.529353</td>\n",
       "    </tr>\n",
       "    <tr>\n",
       "      <th>16371</th>\n",
       "      <td>0.568970</td>\n",
       "      <td>0.430080</td>\n",
       "      <td>0.225783</td>\n",
       "      <td>0.430080</td>\n",
       "      <td>0.0</td>\n",
       "      <td>0.00000</td>\n",
       "      <td>34.772601</td>\n",
       "      <td>4.176852</td>\n",
       "      <td>9.505095</td>\n",
       "      <td>-0.001493</td>\n",
       "      <td>0.667135</td>\n",
       "      <td>1.711153</td>\n",
       "      <td>1.299073</td>\n",
       "      <td>1</td>\n",
       "      <td>7</td>\n",
       "      <td>4.967514</td>\n",
       "      <td>3.327944</td>\n",
       "    </tr>\n",
       "  </tbody>\n",
       "</table>\n",
       "</div>"
      ],
      "text/plain": [
       "        concentration_cog  concentration_core  concentration_one_pixel  \\\n",
       "298338           0.145136            0.417348                 0.165094   \n",
       "288546           0.114989            0.431135                 0.059584   \n",
       "305783           0.110926            0.353892                 0.053530   \n",
       "19710            0.136402            0.405555                 0.072386   \n",
       "16371            0.568970            0.430080                 0.225783   \n",
       "\n",
       "        concentration_two_pixel  leakage1  leakage2        size      width  \\\n",
       "298338                 0.325846       0.0   0.15412   60.886470   5.237851   \n",
       "288546                 0.109565       0.0   0.00000  299.140096  11.875189   \n",
       "305783                 0.100798       0.0   0.00000  181.436871  11.977538   \n",
       "19710                  0.142169       0.0   0.00000  322.391371   8.251606   \n",
       "16371                  0.430080       0.0   0.00000   34.772601   4.176852   \n",
       "\n",
       "           length  skewness_long  skewness_trans  kurtosis_long  \\\n",
       "298338  18.310135       0.012092       -0.091449       1.284633   \n",
       "288546  18.206438      -0.271572       -0.018125       2.350277   \n",
       "305783  24.358672      -0.528586       -0.531132       2.583371   \n",
       "19710   25.541036      -0.506275       -0.063181       2.086318   \n",
       "16371    9.505095      -0.001493        0.667135       1.711153   \n",
       "\n",
       "        kurtosis_trans  num_islands  num_pixel_in_shower  \\\n",
       "298338        2.303035            1                   12   \n",
       "288546        2.082922            1                   36   \n",
       "305783        2.416098            2                   34   \n",
       "19710         2.984828            1                   39   \n",
       "16371         1.299073            1                    7   \n",
       "\n",
       "        photoncharge_shower_mean  photoncharge_shower_variance  \n",
       "298338                  5.073872                      7.313409  \n",
       "288546                  8.309447                     11.704022  \n",
       "305783                  5.336379                      3.628204  \n",
       "19710                   8.266445                     32.529353  \n",
       "16371                   4.967514                      3.327944  "
      ]
     },
     "execution_count": 6,
     "metadata": {},
     "output_type": "execute_result"
    }
   ],
   "source": [
    "from sklearn.feature_selection import SelectKBest\n",
    "from sklearn.feature_selection import f_classif\n",
    "\n",
    "#X_ta = X_train.values\n",
    "test = SelectKBest(score_func=f_classif, k=5)\n",
    "d_fit = test.fit(X_train, y_train)\n",
    "\n",
    "print(d_fit.scores_)\n",
    "\n",
    "#X_traintemp = d_fit.transform(X_train)\n",
    "X_train.head()"
   ]
  },
  {
   "cell_type": "markdown",
   "metadata": {},
   "source": [
    "Anhand der oben berechneten Scores werden die fünf besten Features ausgewählt.\n",
    "Diese lauten:\n",
    "\n",
    "- concentration_cog\n",
    "- width\n",
    "- length\n",
    "- num_islands\n",
    "- num_pixel_in_shower"
   ]
  },
  {
   "cell_type": "code",
   "execution_count": 7,
   "metadata": {},
   "outputs": [],
   "source": [
    "X_train = X_train.drop(['concentration_core', 'concentration_one_pixel', 'concentration_two_pixel', 'leakage1', 'leakage2', 'size', 'skewness_long', 'skewness_trans', 'kurtosis_long', 'kurtosis_trans', 'photoncharge_shower_mean', 'photoncharge_shower_variance'], axis=1)\n",
    "X_test = X_test.drop(['concentration_core', 'concentration_one_pixel', 'concentration_two_pixel', 'leakage1', 'leakage2', 'size', 'skewness_long', 'skewness_trans', 'kurtosis_long', 'kurtosis_trans', 'photoncharge_shower_mean', 'photoncharge_shower_variance'], axis=1)"
   ]
  },
  {
   "cell_type": "markdown",
   "metadata": {},
   "source": [
    "## Teilaufgabe c)"
   ]
  },
  {
   "cell_type": "markdown",
   "metadata": {},
   "source": [
    "Nun soll entschieden werden, wie viele Bäume der später zur Klassifizierung genutzte Baum haben soll.\n",
    "Dafür soll auf dem Trainingsdatensatz mit einer fünf-fachen Kreuzvalidierung die Werte: 1,10,100\n",
    "untersucht werden.\n",
    "Als Kriterium soll die ROC AUC genutzt werden.\n",
    "Die 100 Bäume dauern etwas."
   ]
  },
  {
   "cell_type": "code",
   "execution_count": 8,
   "metadata": {},
   "outputs": [
    {
     "name": "stdout",
     "output_type": "stream",
     "text": [
      "1\n",
      "[0.58894006 0.58943522 0.59336397 0.59356848 0.59744129]\n",
      "10\n",
      "[0.68386554 0.67673785 0.67243339 0.67598037 0.67790836]\n",
      "100\n",
      "[0.70379777 0.69905533 0.69837073 0.69902035 0.70503958]\n"
     ]
    }
   ],
   "source": [
    "from sklearn.model_selection import cross_val_score\n",
    "from sklearn.ensemble import RandomForestClassifier\n",
    "\n",
    "n = [1,10,100]\n",
    "\n",
    "for i in n:\n",
    "    print(i)\n",
    "    scores = cross_val_score(RandomForestClassifier(n_estimators= i), X_train, y_train, cv=5, scoring='roc_auc')\n",
    "    print(scores)"
   ]
  },
  {
   "cell_type": "markdown",
   "metadata": {},
   "source": [
    "Aus den Testscores wird somit ein RandomForest mit 100 Bäumen genutzt."
   ]
  },
  {
   "cell_type": "markdown",
   "metadata": {
    "collapsed": true
   },
   "source": [
    "## Teilaufgabe d)"
   ]
  },
  {
   "cell_type": "markdown",
   "metadata": {},
   "source": [
    "Nun soll ein Random Forest mit 100 Bäumen anhand des Trainigsdatensatzes trainiert und anschließend auf den Validierungsdatensatz angewandt werden."
   ]
  },
  {
   "cell_type": "code",
   "execution_count": 9,
   "metadata": {},
   "outputs": [],
   "source": [
    "clf = RandomForestClassifier(n_estimators = 100)\n",
    "clf = clf.fit(X_train, y_train)"
   ]
  },
  {
   "cell_type": "code",
   "execution_count": 10,
   "metadata": {},
   "outputs": [],
   "source": [
    "y_score = clf.predict_proba(X_test)"
   ]
  },
  {
   "cell_type": "markdown",
   "metadata": {},
   "source": [
    "Die Variable y_score bezeichnet die vom Random Forest bestimmten Vorhersagen, zu welcher Kategorie das Ereignis wohl gehört.\n",
    "Also die erse Spalte ist die Wahrscheinlichkeit, dass es zur class = 0, also Gammateilchen, gehört und die zweite Spalte gibt dies dementsprechend für Hadronen an."
   ]
  },
  {
   "cell_type": "markdown",
   "metadata": {},
   "source": [
    "## Teilaufgabe e)"
   ]
  },
  {
   "cell_type": "markdown",
   "metadata": {},
   "source": [
    "Nun soll noch die ROC-Kurve geplotted werden, sowie der AUC score berechnet werden."
   ]
  },
  {
   "cell_type": "code",
   "execution_count": 11,
   "metadata": {},
   "outputs": [],
   "source": [
    "from sklearn.metrics import roc_curve\n",
    "\n",
    "y_score = y_score[:,1]\n",
    "fpr, tpr, thr = roc_curve(y_test, y_score)"
   ]
  },
  {
   "cell_type": "code",
   "execution_count": 12,
   "metadata": {},
   "outputs": [
    {
     "data": {
      "image/png": "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\n",
      "text/plain": [
       "<Figure size 432x288 with 1 Axes>"
      ]
     },
     "metadata": {},
     "output_type": "display_data"
    }
   ],
   "source": [
    "plt.figure(1)\n",
    "plt.plot(fpr, tpr, label='Random Forest ROC')\n",
    "plt.xlabel('False positive rate')\n",
    "plt.ylabel('True positive rate')\n",
    "plt.title('ROC curve')\n",
    "plt.legend(loc='best')\n",
    "plt.show()"
   ]
  },
  {
   "cell_type": "code",
   "execution_count": 13,
   "metadata": {},
   "outputs": [
    {
     "name": "stdout",
     "output_type": "stream",
     "text": [
      "0.7020874324126914\n"
     ]
    }
   ],
   "source": [
    "from sklearn.metrics import roc_auc_score\n",
    "\n",
    "print(roc_auc_score(y_test, y_score))"
   ]
  },
  {
   "cell_type": "markdown",
   "metadata": {},
   "source": [
    "Der ROC_AUC_Score gibt dabei an, wie viel Fläche unter der ROC-Curve eingefasst ist. Je näher dieser Wert gegen 1 geht, desto besser. In diesem Fall 70% sind noch ausbaufähig.\n",
    "\n",
    "Nun soll die Anzahl der Gamma- und Hadronenereignisse entlang des classification scores geplottet werden."
   ]
  },
  {
   "cell_type": "code",
   "execution_count": 14,
   "metadata": {},
   "outputs": [],
   "source": [
    "Num_muon = y_score[y_test == 0]\n",
    "Num_hdr = y_score [y_test == 1]"
   ]
  },
  {
   "cell_type": "code",
   "execution_count": 15,
   "metadata": {},
   "outputs": [
    {
     "data": {
      "image/png": "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\n",
      "text/plain": [
       "<Figure size 432x288 with 1 Axes>"
      ]
     },
     "metadata": {},
     "output_type": "display_data"
    }
   ],
   "source": [
    "plt.figure(2)\n",
    "\n",
    "plt.hist(Num_muon,bins = 50,histtype='step')\n",
    "plt.hist(Num_hdr,bins = 50,histtype='step')\n",
    "plt.ylabel('Anzahl')\n",
    "plt.xlabel('prediction score ein Hadron zu sein')\n",
    "plt.title('Vergleich der prediction score Verteilungen')\n",
    "plt.legend(['Myonen', 'Hadronen'])\n",
    "plt.show()"
   ]
  },
  {
   "cell_type": "markdown",
   "metadata": {},
   "source": [
    "Anhand der gezeigten Verteilungen, ist es so nur schwer möglich Signal von Untergrund zu trennen.\n",
    "Sie überlappen sich hier viel zu stark.\n",
    "\n",
    "Ein perfekter Klassifizierer hingegen hätte zwei Verteilungen die sich nicht überlappen."
   ]
  }
 ],
 "metadata": {
  "kernelspec": {
   "display_name": "Python 3",
   "language": "python",
   "name": "python3"
  },
  "language_info": {
   "codemirror_mode": {
    "name": "ipython",
    "version": 3
   },
   "file_extension": ".py",
   "mimetype": "text/x-python",
   "name": "python",
   "nbconvert_exporter": "python",
   "pygments_lexer": "ipython3",
   "version": "3.7.7"
  }
 },
 "nbformat": 4,
 "nbformat_minor": 2
}
||||||| merged common ancestors
=======
{
 "cells": [
  {
   "cell_type": "markdown",
   "metadata": {},
   "source": [
    "# Abgabe zum 7.Übungsblatt von Maiworm,Koch,Birkwald\n",
    "# Aufgabe 18) Data Mining Anwendung – Gamma/Hadron-Klassifizierung "
   ]
  },
  {
   "cell_type": "markdown",
   "metadata": {},
   "source": [
    "Es soll ein reales Problem aus der Gammaastronomie untersucht werden.\n",
    "Dafür wird eine Gamma/Hadronen-Klassifizierung mit Hilfe eines Random Forest durchgeführt."
   ]
  },
  {
   "cell_type": "markdown",
   "metadata": {},
   "source": [
    "#### Warum ist das wichtig?"
   ]
  },
  {
   "cell_type": "markdown",
   "metadata": {},
   "source": [
    "Hochenergetische Gammateilchen weisen mehr oder weniger direkt an den Ort, an dem sie entstanden sind.\n",
    "Anhand ihrer Eigenschaften, wie z.B. ihrer Energie, lassen sich so Rückschlüsse auf ihre Entstehung ziehen.\n",
    "Es ist damit z.B. möglich schwarze Löcher und andere extreme galaktische Phänomene indirekt zu untersuchen.\n",
    "\n",
    "Schlussendlich wird in einem Teleskop aber nicht einmal das ursprüngliche Gammateilchen gemessen.\n",
    "Das Gammateilchen wechselwirkt mit der Atmsophäre, wo es unter Paarbildung zur Ausbildung eines Schauers aus Sekundärteilchen kommt.\n",
    "Dieser Schauer kann von einem Teleskop gemessen werden und erlaubt es das ursprüngliche Gammateilchen zu rekonstruieren.\n",
    "\n",
    "Es gibt allerdings ein Problem: Protonen.\n",
    "\n",
    "Neben hochenergetischen Gammateilchen können kosmische Protonen ebenfalls in der Atmosphäre Schauer von Sekundärteilchen erzeugen.\n",
    "Diese können ebenfalls von einem Teleskop gemessen werden.\n",
    "Da das Teleksop per se nicht weiss, ob es da ein Proton oder eine Gammateilchen gemessen hat, müssen wir nun mit Hilfe des oben bereits erwähnten Random Forests eine entsprechende Klassifizierung vornehmen."
   ]
  },
  {
   "cell_type": "markdown",
   "metadata": {},
   "source": [
    "## Teilaufgabe a)"
   ]
  },
  {
   "cell_type": "markdown",
   "metadata": {},
   "source": [
    "Hier soll zunächst der Datensatz eingelesen werden und für das Training ein Label $y_i$ erstellt werden.\n",
    "Für Gammateilchen ist $y_i = 0$ und für Protonen ist $y_i = 1$.\n",
    "Aus dem verwendeten Dataframe soll weiterhin ein Set von Features ausgewählt werden, mit denen die Klassifizierung durchgeführt werden soll."
   ]
  },
  {
   "cell_type": "code",
   "execution_count": 16,
   "metadata": {
    "collapsed": true
   },
   "outputs": [],
   "source": [
    "%matplotlib inline\n",
    "\n",
    "import numpy as np\n",
    "import matplotlib.pyplot as plt\n",
    "import pandas as pd\n",
    "import h5py\n",
    "\n",
    "\n",
    "filename = 'image_parameters_smd_train.hdf5'\n",
    "dataframe = pd.read_hdf(filename)\n"
   ]
  },
  {
   "cell_type": "code",
   "execution_count": 2,
   "metadata": {},
   "outputs": [
    {
     "data": {
      "text/html": [
       "<div>\n",
       "<style scoped>\n",
       "    .dataframe tbody tr th:only-of-type {\n",
       "        vertical-align: middle;\n",
       "    }\n",
       "\n",
       "    .dataframe tbody tr th {\n",
       "        vertical-align: top;\n",
       "    }\n",
       "\n",
       "    .dataframe thead th {\n",
       "        text-align: right;\n",
       "    }\n",
       "</style>\n",
       "<table border=\"1\" class=\"dataframe\">\n",
       "  <thead>\n",
       "    <tr style=\"text-align: right;\">\n",
       "      <th></th>\n",
       "      <th>run_id</th>\n",
       "      <th>event_num</th>\n",
       "      <th>corsika_event_header_total_energy</th>\n",
       "      <th>corsika_run_header_particle_id</th>\n",
       "      <th>concentration_cog</th>\n",
       "      <th>concentration_core</th>\n",
       "      <th>concentration_one_pixel</th>\n",
       "      <th>concentration_two_pixel</th>\n",
       "      <th>leakage1</th>\n",
       "      <th>leakage2</th>\n",
       "      <th>...</th>\n",
       "      <th>width</th>\n",
       "      <th>length</th>\n",
       "      <th>skewness_long</th>\n",
       "      <th>skewness_trans</th>\n",
       "      <th>kurtosis_long</th>\n",
       "      <th>kurtosis_trans</th>\n",
       "      <th>num_islands</th>\n",
       "      <th>num_pixel_in_shower</th>\n",
       "      <th>photoncharge_shower_mean</th>\n",
       "      <th>photoncharge_shower_variance</th>\n",
       "    </tr>\n",
       "  </thead>\n",
       "  <tbody>\n",
       "    <tr>\n",
       "      <th>1</th>\n",
       "      <td>12702</td>\n",
       "      <td>3</td>\n",
       "      <td>433.69394</td>\n",
       "      <td>1</td>\n",
       "      <td>0.586610</td>\n",
       "      <td>0.455474</td>\n",
       "      <td>0.246464</td>\n",
       "      <td>0.455474</td>\n",
       "      <td>0.0</td>\n",
       "      <td>0.0</td>\n",
       "      <td>...</td>\n",
       "      <td>5.008837</td>\n",
       "      <td>8.355993</td>\n",
       "      <td>0.038369</td>\n",
       "      <td>-0.114003</td>\n",
       "      <td>1.747550</td>\n",
       "      <td>1.689157</td>\n",
       "      <td>1</td>\n",
       "      <td>7</td>\n",
       "      <td>5.209295</td>\n",
       "      <td>4.893394</td>\n",
       "    </tr>\n",
       "    <tr>\n",
       "      <th>2</th>\n",
       "      <td>12702</td>\n",
       "      <td>4</td>\n",
       "      <td>473.65216</td>\n",
       "      <td>1</td>\n",
       "      <td>0.424287</td>\n",
       "      <td>0.424287</td>\n",
       "      <td>0.178021</td>\n",
       "      <td>0.336471</td>\n",
       "      <td>0.0</td>\n",
       "      <td>0.0</td>\n",
       "      <td>...</td>\n",
       "      <td>5.713048</td>\n",
       "      <td>9.323578</td>\n",
       "      <td>-0.034917</td>\n",
       "      <td>0.117764</td>\n",
       "      <td>1.531659</td>\n",
       "      <td>1.728964</td>\n",
       "      <td>1</td>\n",
       "      <td>9</td>\n",
       "      <td>7.086197</td>\n",
       "      <td>7.917912</td>\n",
       "    </tr>\n",
       "    <tr>\n",
       "      <th>5</th>\n",
       "      <td>12702</td>\n",
       "      <td>10</td>\n",
       "      <td>15238.82400</td>\n",
       "      <td>1</td>\n",
       "      <td>0.086792</td>\n",
       "      <td>0.464911</td>\n",
       "      <td>0.049563</td>\n",
       "      <td>0.096657</td>\n",
       "      <td>0.0</td>\n",
       "      <td>0.0</td>\n",
       "      <td>...</td>\n",
       "      <td>9.503945</td>\n",
       "      <td>36.189809</td>\n",
       "      <td>-0.796868</td>\n",
       "      <td>0.164766</td>\n",
       "      <td>3.190828</td>\n",
       "      <td>3.281966</td>\n",
       "      <td>1</td>\n",
       "      <td>100</td>\n",
       "      <td>26.658584</td>\n",
       "      <td>901.313791</td>\n",
       "    </tr>\n",
       "    <tr>\n",
       "      <th>6</th>\n",
       "      <td>12702</td>\n",
       "      <td>11</td>\n",
       "      <td>2236.51000</td>\n",
       "      <td>1</td>\n",
       "      <td>0.135448</td>\n",
       "      <td>0.356647</td>\n",
       "      <td>0.098123</td>\n",
       "      <td>0.191281</td>\n",
       "      <td>0.0</td>\n",
       "      <td>0.0</td>\n",
       "      <td>...</td>\n",
       "      <td>7.193686</td>\n",
       "      <td>18.298463</td>\n",
       "      <td>0.591534</td>\n",
       "      <td>0.384114</td>\n",
       "      <td>2.375837</td>\n",
       "      <td>2.546314</td>\n",
       "      <td>1</td>\n",
       "      <td>23</td>\n",
       "      <td>9.051240</td>\n",
       "      <td>28.829864</td>\n",
       "    </tr>\n",
       "    <tr>\n",
       "      <th>7</th>\n",
       "      <td>12702</td>\n",
       "      <td>12</td>\n",
       "      <td>525.05634</td>\n",
       "      <td>1</td>\n",
       "      <td>0.640389</td>\n",
       "      <td>0.378509</td>\n",
       "      <td>0.261880</td>\n",
       "      <td>0.478792</td>\n",
       "      <td>0.0</td>\n",
       "      <td>0.0</td>\n",
       "      <td>...</td>\n",
       "      <td>5.738275</td>\n",
       "      <td>7.390484</td>\n",
       "      <td>0.608018</td>\n",
       "      <td>-0.379429</td>\n",
       "      <td>1.691941</td>\n",
       "      <td>2.031471</td>\n",
       "      <td>1</td>\n",
       "      <td>5</td>\n",
       "      <td>5.323000</td>\n",
       "      <td>1.362421</td>\n",
       "    </tr>\n",
       "  </tbody>\n",
       "</table>\n",
       "<p>5 rows × 21 columns</p>\n",
       "</div>"
      ],
      "text/plain": [
       "   run_id  event_num  corsika_event_header_total_energy  \\\n",
       "1   12702          3                          433.69394   \n",
       "2   12702          4                          473.65216   \n",
       "5   12702         10                        15238.82400   \n",
       "6   12702         11                         2236.51000   \n",
       "7   12702         12                          525.05634   \n",
       "\n",
       "   corsika_run_header_particle_id  concentration_cog  concentration_core  \\\n",
       "1                               1           0.586610            0.455474   \n",
       "2                               1           0.424287            0.424287   \n",
       "5                               1           0.086792            0.464911   \n",
       "6                               1           0.135448            0.356647   \n",
       "7                               1           0.640389            0.378509   \n",
       "\n",
       "   concentration_one_pixel  concentration_two_pixel  leakage1  leakage2  \\\n",
       "1                 0.246464                 0.455474       0.0       0.0   \n",
       "2                 0.178021                 0.336471       0.0       0.0   \n",
       "5                 0.049563                 0.096657       0.0       0.0   \n",
       "6                 0.098123                 0.191281       0.0       0.0   \n",
       "7                 0.261880                 0.478792       0.0       0.0   \n",
       "\n",
       "               ...                  width     length  skewness_long  \\\n",
       "1              ...               5.008837   8.355993       0.038369   \n",
       "2              ...               5.713048   9.323578      -0.034917   \n",
       "5              ...               9.503945  36.189809      -0.796868   \n",
       "6              ...               7.193686  18.298463       0.591534   \n",
       "7              ...               5.738275   7.390484       0.608018   \n",
       "\n",
       "   skewness_trans  kurtosis_long  kurtosis_trans  num_islands  \\\n",
       "1       -0.114003       1.747550        1.689157            1   \n",
       "2        0.117764       1.531659        1.728964            1   \n",
       "5        0.164766       3.190828        3.281966            1   \n",
       "6        0.384114       2.375837        2.546314            1   \n",
       "7       -0.379429       1.691941        2.031471            1   \n",
       "\n",
       "   num_pixel_in_shower  photoncharge_shower_mean  photoncharge_shower_variance  \n",
       "1                    7                  5.209295                      4.893394  \n",
       "2                    9                  7.086197                      7.917912  \n",
       "5                  100                 26.658584                    901.313791  \n",
       "6                   23                  9.051240                     28.829864  \n",
       "7                    5                  5.323000                      1.362421  \n",
       "\n",
       "[5 rows x 21 columns]"
      ]
     },
     "execution_count": 2,
     "metadata": {},
     "output_type": "execute_result"
    }
   ],
   "source": [
    "dataframe.head()"
   ]
  },
  {
   "cell_type": "code",
   "execution_count": 3,
   "metadata": {
    "collapsed": true
   },
   "outputs": [],
   "source": [
    "def labeling(id):\n",
    "    if(id == 1):\n",
    "        return 1\n",
    "    else:\n",
    "        return 0\n",
    "    \n",
    "y_i = np.array(dataframe['corsika_run_header_particle_id'].apply(labeling))\n"
   ]
  },
  {
   "cell_type": "markdown",
   "metadata": {},
   "source": [
    "Einführung von X als Set von Feature zur Klassifizierung"
   ]
  },
  {
   "cell_type": "code",
   "execution_count": 4,
   "metadata": {
    "collapsed": true
   },
   "outputs": [],
   "source": [
    "X = ['concentration_cog','concentration_core','concentration_one_pixel','concentration_two_pixel','leakage1','leakage2','size','width','length','skewness_long','skewness_trans','kurtosis_long','kurtosis_trans','num_islands','num_pixel_in_shower','photoncharge_shower_mean','photoncharge_shower_variance']\n",
    "notX = ['run_id','event_num','corsika_event_header_total_energy','corsika_run_header_particle_id']\n",
    "dataframe = dataframe.drop(notX, axis=1)\n"
   ]
  },
  {
   "cell_type": "markdown",
   "metadata": {},
   "source": [
    "Jetzt wird der Datensatz in Trainings- und Validierungsdatensatz aufgeteilt."
   ]
  },
  {
   "cell_type": "code",
   "execution_count": 5,
   "metadata": {},
   "outputs": [
    {
     "data": {
      "text/html": [
       "<div>\n",
       "<style scoped>\n",
       "    .dataframe tbody tr th:only-of-type {\n",
       "        vertical-align: middle;\n",
       "    }\n",
       "\n",
       "    .dataframe tbody tr th {\n",
       "        vertical-align: top;\n",
       "    }\n",
       "\n",
       "    .dataframe thead th {\n",
       "        text-align: right;\n",
       "    }\n",
       "</style>\n",
       "<table border=\"1\" class=\"dataframe\">\n",
       "  <thead>\n",
       "    <tr style=\"text-align: right;\">\n",
       "      <th></th>\n",
       "      <th>concentration_cog</th>\n",
       "      <th>concentration_core</th>\n",
       "      <th>concentration_one_pixel</th>\n",
       "      <th>concentration_two_pixel</th>\n",
       "      <th>leakage1</th>\n",
       "      <th>leakage2</th>\n",
       "      <th>size</th>\n",
       "      <th>width</th>\n",
       "      <th>length</th>\n",
       "      <th>skewness_long</th>\n",
       "      <th>skewness_trans</th>\n",
       "      <th>kurtosis_long</th>\n",
       "      <th>kurtosis_trans</th>\n",
       "      <th>num_islands</th>\n",
       "      <th>num_pixel_in_shower</th>\n",
       "      <th>photoncharge_shower_mean</th>\n",
       "      <th>photoncharge_shower_variance</th>\n",
       "    </tr>\n",
       "  </thead>\n",
       "  <tbody>\n",
       "    <tr>\n",
       "      <th>298338</th>\n",
       "      <td>0.145136</td>\n",
       "      <td>0.417348</td>\n",
       "      <td>0.165094</td>\n",
       "      <td>0.325846</td>\n",
       "      <td>0.0</td>\n",
       "      <td>0.15412</td>\n",
       "      <td>60.886470</td>\n",
       "      <td>5.237851</td>\n",
       "      <td>18.310135</td>\n",
       "      <td>0.012092</td>\n",
       "      <td>-0.091449</td>\n",
       "      <td>1.284633</td>\n",
       "      <td>2.303035</td>\n",
       "      <td>1</td>\n",
       "      <td>12</td>\n",
       "      <td>5.073872</td>\n",
       "      <td>7.313409</td>\n",
       "    </tr>\n",
       "    <tr>\n",
       "      <th>288546</th>\n",
       "      <td>0.114989</td>\n",
       "      <td>0.431135</td>\n",
       "      <td>0.059584</td>\n",
       "      <td>0.109565</td>\n",
       "      <td>0.0</td>\n",
       "      <td>0.00000</td>\n",
       "      <td>299.140096</td>\n",
       "      <td>11.875189</td>\n",
       "      <td>18.206438</td>\n",
       "      <td>-0.271572</td>\n",
       "      <td>-0.018125</td>\n",
       "      <td>2.350277</td>\n",
       "      <td>2.082922</td>\n",
       "      <td>1</td>\n",
       "      <td>36</td>\n",
       "      <td>8.309447</td>\n",
       "      <td>11.704022</td>\n",
       "    </tr>\n",
       "    <tr>\n",
       "      <th>305783</th>\n",
       "      <td>0.110926</td>\n",
       "      <td>0.353892</td>\n",
       "      <td>0.053530</td>\n",
       "      <td>0.100798</td>\n",
       "      <td>0.0</td>\n",
       "      <td>0.00000</td>\n",
       "      <td>181.436871</td>\n",
       "      <td>11.977538</td>\n",
       "      <td>24.358672</td>\n",
       "      <td>-0.528586</td>\n",
       "      <td>-0.531132</td>\n",
       "      <td>2.583371</td>\n",
       "      <td>2.416098</td>\n",
       "      <td>2</td>\n",
       "      <td>34</td>\n",
       "      <td>5.336379</td>\n",
       "      <td>3.628204</td>\n",
       "    </tr>\n",
       "    <tr>\n",
       "      <th>19710</th>\n",
       "      <td>0.136402</td>\n",
       "      <td>0.405555</td>\n",
       "      <td>0.072386</td>\n",
       "      <td>0.142169</td>\n",
       "      <td>0.0</td>\n",
       "      <td>0.00000</td>\n",
       "      <td>322.391371</td>\n",
       "      <td>8.251606</td>\n",
       "      <td>25.541036</td>\n",
       "      <td>-0.506275</td>\n",
       "      <td>-0.063181</td>\n",
       "      <td>2.086318</td>\n",
       "      <td>2.984828</td>\n",
       "      <td>1</td>\n",
       "      <td>39</td>\n",
       "      <td>8.266445</td>\n",
       "      <td>32.529353</td>\n",
       "    </tr>\n",
       "    <tr>\n",
       "      <th>16371</th>\n",
       "      <td>0.568970</td>\n",
       "      <td>0.430080</td>\n",
       "      <td>0.225783</td>\n",
       "      <td>0.430080</td>\n",
       "      <td>0.0</td>\n",
       "      <td>0.00000</td>\n",
       "      <td>34.772601</td>\n",
       "      <td>4.176852</td>\n",
       "      <td>9.505095</td>\n",
       "      <td>-0.001493</td>\n",
       "      <td>0.667135</td>\n",
       "      <td>1.711153</td>\n",
       "      <td>1.299073</td>\n",
       "      <td>1</td>\n",
       "      <td>7</td>\n",
       "      <td>4.967514</td>\n",
       "      <td>3.327944</td>\n",
       "    </tr>\n",
       "  </tbody>\n",
       "</table>\n",
       "</div>"
      ],
      "text/plain": [
       "        concentration_cog  concentration_core  concentration_one_pixel  \\\n",
       "298338           0.145136            0.417348                 0.165094   \n",
       "288546           0.114989            0.431135                 0.059584   \n",
       "305783           0.110926            0.353892                 0.053530   \n",
       "19710            0.136402            0.405555                 0.072386   \n",
       "16371            0.568970            0.430080                 0.225783   \n",
       "\n",
       "        concentration_two_pixel  leakage1  leakage2        size      width  \\\n",
       "298338                 0.325846       0.0   0.15412   60.886470   5.237851   \n",
       "288546                 0.109565       0.0   0.00000  299.140096  11.875189   \n",
       "305783                 0.100798       0.0   0.00000  181.436871  11.977538   \n",
       "19710                  0.142169       0.0   0.00000  322.391371   8.251606   \n",
       "16371                  0.430080       0.0   0.00000   34.772601   4.176852   \n",
       "\n",
       "           length  skewness_long  skewness_trans  kurtosis_long  \\\n",
       "298338  18.310135       0.012092       -0.091449       1.284633   \n",
       "288546  18.206438      -0.271572       -0.018125       2.350277   \n",
       "305783  24.358672      -0.528586       -0.531132       2.583371   \n",
       "19710   25.541036      -0.506275       -0.063181       2.086318   \n",
       "16371    9.505095      -0.001493        0.667135       1.711153   \n",
       "\n",
       "        kurtosis_trans  num_islands  num_pixel_in_shower  \\\n",
       "298338        2.303035            1                   12   \n",
       "288546        2.082922            1                   36   \n",
       "305783        2.416098            2                   34   \n",
       "19710         2.984828            1                   39   \n",
       "16371         1.299073            1                    7   \n",
       "\n",
       "        photoncharge_shower_mean  photoncharge_shower_variance  \n",
       "298338                  5.073872                      7.313409  \n",
       "288546                  8.309447                     11.704022  \n",
       "305783                  5.336379                      3.628204  \n",
       "19710                   8.266445                     32.529353  \n",
       "16371                   4.967514                      3.327944  "
      ]
     },
     "execution_count": 5,
     "metadata": {},
     "output_type": "execute_result"
    }
   ],
   "source": [
    "from sklearn.model_selection import train_test_split\n",
    "\n",
    "X_train, X_test, y_train, y_test = train_test_split(dataframe, y_i, test_size=0.2, random_state=42)\n",
    "\n",
    "X_train.head()"
   ]
  },
  {
   "cell_type": "markdown",
   "metadata": {},
   "source": [
    "## Teilaufgabe b)"
   ]
  },
  {
   "cell_type": "markdown",
   "metadata": {},
   "source": [
    "Nun wird eine Feature-Selection mittels der F-Statistik durchgeführt.\n",
    "Dafür wird die univariante Feature-selection von sklearn genutzt.\n",
    "Für erhöhte Geschwindigkeit wird der Trainingsframe in ein Array umgewandelt."
   ]
  },
  {
   "cell_type": "code",
   "execution_count": 6,
   "metadata": {},
   "outputs": [
    {
     "name": "stdout",
     "output_type": "stream",
     "text": [
      "[6.07789994e+02 9.67972815e+01 1.44393183e+02 1.72737119e+02\n",
      " 2.78440300e+02 2.56043676e+02 5.63985189e+01 1.03391110e+03\n",
      " 1.50009856e+03 1.68848396e-01 3.76106392e-01 2.44144434e+01\n",
      " 3.25516004e+01 5.89898047e+02 2.88446807e+02 2.18953346e+02\n",
      " 3.26448417e+01]\n"
     ]
    },
    {
     "data": {
      "text/html": [
       "<div>\n",
       "<style scoped>\n",
       "    .dataframe tbody tr th:only-of-type {\n",
       "        vertical-align: middle;\n",
       "    }\n",
       "\n",
       "    .dataframe tbody tr th {\n",
       "        vertical-align: top;\n",
       "    }\n",
       "\n",
       "    .dataframe thead th {\n",
       "        text-align: right;\n",
       "    }\n",
       "</style>\n",
       "<table border=\"1\" class=\"dataframe\">\n",
       "  <thead>\n",
       "    <tr style=\"text-align: right;\">\n",
       "      <th></th>\n",
       "      <th>concentration_cog</th>\n",
       "      <th>concentration_core</th>\n",
       "      <th>concentration_one_pixel</th>\n",
       "      <th>concentration_two_pixel</th>\n",
       "      <th>leakage1</th>\n",
       "      <th>leakage2</th>\n",
       "      <th>size</th>\n",
       "      <th>width</th>\n",
       "      <th>length</th>\n",
       "      <th>skewness_long</th>\n",
       "      <th>skewness_trans</th>\n",
       "      <th>kurtosis_long</th>\n",
       "      <th>kurtosis_trans</th>\n",
       "      <th>num_islands</th>\n",
       "      <th>num_pixel_in_shower</th>\n",
       "      <th>photoncharge_shower_mean</th>\n",
       "      <th>photoncharge_shower_variance</th>\n",
       "    </tr>\n",
       "  </thead>\n",
       "  <tbody>\n",
       "    <tr>\n",
       "      <th>298338</th>\n",
       "      <td>0.145136</td>\n",
       "      <td>0.417348</td>\n",
       "      <td>0.165094</td>\n",
       "      <td>0.325846</td>\n",
       "      <td>0.0</td>\n",
       "      <td>0.15412</td>\n",
       "      <td>60.886470</td>\n",
       "      <td>5.237851</td>\n",
       "      <td>18.310135</td>\n",
       "      <td>0.012092</td>\n",
       "      <td>-0.091449</td>\n",
       "      <td>1.284633</td>\n",
       "      <td>2.303035</td>\n",
       "      <td>1</td>\n",
       "      <td>12</td>\n",
       "      <td>5.073872</td>\n",
       "      <td>7.313409</td>\n",
       "    </tr>\n",
       "    <tr>\n",
       "      <th>288546</th>\n",
       "      <td>0.114989</td>\n",
       "      <td>0.431135</td>\n",
       "      <td>0.059584</td>\n",
       "      <td>0.109565</td>\n",
       "      <td>0.0</td>\n",
       "      <td>0.00000</td>\n",
       "      <td>299.140096</td>\n",
       "      <td>11.875189</td>\n",
       "      <td>18.206438</td>\n",
       "      <td>-0.271572</td>\n",
       "      <td>-0.018125</td>\n",
       "      <td>2.350277</td>\n",
       "      <td>2.082922</td>\n",
       "      <td>1</td>\n",
       "      <td>36</td>\n",
       "      <td>8.309447</td>\n",
       "      <td>11.704022</td>\n",
       "    </tr>\n",
       "    <tr>\n",
       "      <th>305783</th>\n",
       "      <td>0.110926</td>\n",
       "      <td>0.353892</td>\n",
       "      <td>0.053530</td>\n",
       "      <td>0.100798</td>\n",
       "      <td>0.0</td>\n",
       "      <td>0.00000</td>\n",
       "      <td>181.436871</td>\n",
       "      <td>11.977538</td>\n",
       "      <td>24.358672</td>\n",
       "      <td>-0.528586</td>\n",
       "      <td>-0.531132</td>\n",
       "      <td>2.583371</td>\n",
       "      <td>2.416098</td>\n",
       "      <td>2</td>\n",
       "      <td>34</td>\n",
       "      <td>5.336379</td>\n",
       "      <td>3.628204</td>\n",
       "    </tr>\n",
       "    <tr>\n",
       "      <th>19710</th>\n",
       "      <td>0.136402</td>\n",
       "      <td>0.405555</td>\n",
       "      <td>0.072386</td>\n",
       "      <td>0.142169</td>\n",
       "      <td>0.0</td>\n",
       "      <td>0.00000</td>\n",
       "      <td>322.391371</td>\n",
       "      <td>8.251606</td>\n",
       "      <td>25.541036</td>\n",
       "      <td>-0.506275</td>\n",
       "      <td>-0.063181</td>\n",
       "      <td>2.086318</td>\n",
       "      <td>2.984828</td>\n",
       "      <td>1</td>\n",
       "      <td>39</td>\n",
       "      <td>8.266445</td>\n",
       "      <td>32.529353</td>\n",
       "    </tr>\n",
       "    <tr>\n",
       "      <th>16371</th>\n",
       "      <td>0.568970</td>\n",
       "      <td>0.430080</td>\n",
       "      <td>0.225783</td>\n",
       "      <td>0.430080</td>\n",
       "      <td>0.0</td>\n",
       "      <td>0.00000</td>\n",
       "      <td>34.772601</td>\n",
       "      <td>4.176852</td>\n",
       "      <td>9.505095</td>\n",
       "      <td>-0.001493</td>\n",
       "      <td>0.667135</td>\n",
       "      <td>1.711153</td>\n",
       "      <td>1.299073</td>\n",
       "      <td>1</td>\n",
       "      <td>7</td>\n",
       "      <td>4.967514</td>\n",
       "      <td>3.327944</td>\n",
       "    </tr>\n",
       "  </tbody>\n",
       "</table>\n",
       "</div>"
      ],
      "text/plain": [
       "        concentration_cog  concentration_core  concentration_one_pixel  \\\n",
       "298338           0.145136            0.417348                 0.165094   \n",
       "288546           0.114989            0.431135                 0.059584   \n",
       "305783           0.110926            0.353892                 0.053530   \n",
       "19710            0.136402            0.405555                 0.072386   \n",
       "16371            0.568970            0.430080                 0.225783   \n",
       "\n",
       "        concentration_two_pixel  leakage1  leakage2        size      width  \\\n",
       "298338                 0.325846       0.0   0.15412   60.886470   5.237851   \n",
       "288546                 0.109565       0.0   0.00000  299.140096  11.875189   \n",
       "305783                 0.100798       0.0   0.00000  181.436871  11.977538   \n",
       "19710                  0.142169       0.0   0.00000  322.391371   8.251606   \n",
       "16371                  0.430080       0.0   0.00000   34.772601   4.176852   \n",
       "\n",
       "           length  skewness_long  skewness_trans  kurtosis_long  \\\n",
       "298338  18.310135       0.012092       -0.091449       1.284633   \n",
       "288546  18.206438      -0.271572       -0.018125       2.350277   \n",
       "305783  24.358672      -0.528586       -0.531132       2.583371   \n",
       "19710   25.541036      -0.506275       -0.063181       2.086318   \n",
       "16371    9.505095      -0.001493        0.667135       1.711153   \n",
       "\n",
       "        kurtosis_trans  num_islands  num_pixel_in_shower  \\\n",
       "298338        2.303035            1                   12   \n",
       "288546        2.082922            1                   36   \n",
       "305783        2.416098            2                   34   \n",
       "19710         2.984828            1                   39   \n",
       "16371         1.299073            1                    7   \n",
       "\n",
       "        photoncharge_shower_mean  photoncharge_shower_variance  \n",
       "298338                  5.073872                      7.313409  \n",
       "288546                  8.309447                     11.704022  \n",
       "305783                  5.336379                      3.628204  \n",
       "19710                   8.266445                     32.529353  \n",
       "16371                   4.967514                      3.327944  "
      ]
     },
     "execution_count": 6,
     "metadata": {},
     "output_type": "execute_result"
    }
   ],
   "source": [
    "from sklearn.feature_selection import SelectKBest\n",
    "from sklearn.feature_selection import f_classif\n",
    "\n",
    "#X_ta = X_train.values\n",
    "test = SelectKBest(score_func=f_classif, k=5)\n",
    "d_fit = test.fit(X_train, y_train)\n",
    "\n",
    "print(d_fit.scores_)\n",
    "\n",
    "#X_traintemp = d_fit.transform(X_train)\n",
    "X_train.head()"
   ]
  },
  {
   "cell_type": "markdown",
   "metadata": {},
   "source": [
    "Anhand der oben berechneten Scores werden die fünf besten Features ausgewählt.\n",
    "Diese lauten:\n",
    "\n",
    "- concentration_cog\n",
    "- width\n",
    "- length\n",
    "- num_islands\n",
    "- num_pixel_in_shower"
   ]
  },
  {
   "cell_type": "code",
   "execution_count": 7,
   "metadata": {
    "collapsed": true
   },
   "outputs": [],
   "source": [
    "X_train = X_train.drop(['concentration_core', 'concentration_one_pixel', 'concentration_two_pixel', 'leakage1', 'leakage2', 'size', 'skewness_long', 'skewness_trans', 'kurtosis_long', 'kurtosis_trans', 'photoncharge_shower_mean', 'photoncharge_shower_variance'], axis=1)\n",
    "X_test = X_test.drop(['concentration_core', 'concentration_one_pixel', 'concentration_two_pixel', 'leakage1', 'leakage2', 'size', 'skewness_long', 'skewness_trans', 'kurtosis_long', 'kurtosis_trans', 'photoncharge_shower_mean', 'photoncharge_shower_variance'], axis=1)"
   ]
  },
  {
   "cell_type": "markdown",
   "metadata": {},
   "source": [
    "## Teilaufgabe c)"
   ]
  },
  {
   "cell_type": "markdown",
   "metadata": {},
   "source": [
    "Nun soll entschieden werden, wie viele Bäume der später zur Klassifizierung genutzte Baum haben soll.\n",
    "Dafür soll auf dem Trainingsdatensatz mit einer fünf-fachen Kreuzvalidierung die Werte: 1,10,100\n",
    "untersucht werden.\n",
    "Als Kriterium soll die ROC AUC genutzt werden.\n",
    "Die 100 Bäume dauern etwas."
   ]
  },
  {
   "cell_type": "code",
   "execution_count": 8,
   "metadata": {},
   "outputs": [
    {
     "name": "stdout",
     "output_type": "stream",
     "text": [
      "1\n",
      "[0.58894006 0.58943522 0.59336397 0.59356848 0.59744129]\n",
      "10\n",
      "[0.68386554 0.67673785 0.67243339 0.67598037 0.67790836]\n",
      "100\n",
      "[0.70379777 0.69905533 0.69837073 0.69902035 0.70503958]\n"
     ]
    }
   ],
   "source": [
    "from sklearn.model_selection import cross_val_score\n",
    "from sklearn.ensemble import RandomForestClassifier\n",
    "\n",
    "n = [1,10,100]\n",
    "\n",
    "for i in n:\n",
    "    print(i)\n",
    "    scores = cross_val_score(RandomForestClassifier(n_estimators= i), X_train, y_train, cv=5, scoring='roc_auc')\n",
    "    print(scores)"
   ]
  },
  {
   "cell_type": "markdown",
   "metadata": {},
   "source": [
    "Aus den Testscores wird somit ein RandomForest mit 100 Bäumen genutzt."
   ]
  },
  {
   "cell_type": "markdown",
   "metadata": {
    "collapsed": true
   },
   "source": [
    "## Teilaufgabe d)"
   ]
  },
  {
   "cell_type": "markdown",
   "metadata": {},
   "source": [
    "Nun soll ein Random Forest mit 100 Bäumen anhand des Trainigsdatensatzes trainiert und anschließend auf den Validierungsdatensatz angewandt werden."
   ]
  },
  {
   "cell_type": "code",
   "execution_count": 9,
   "metadata": {
    "collapsed": true
   },
   "outputs": [],
   "source": [
    "clf = RandomForestClassifier(n_estimators = 100)\n",
    "clf = clf.fit(X_train, y_train)"
   ]
  },
  {
   "cell_type": "code",
   "execution_count": 10,
   "metadata": {
    "collapsed": true
   },
   "outputs": [],
   "source": [
    "y_score = clf.predict_proba(X_test)"
   ]
  },
  {
   "cell_type": "markdown",
   "metadata": {},
   "source": [
    "Die Variable y_score bezeichnet die vom Random Forest bestimmten Vorhersagen, zu welcher Kategorie das Ereignis wohl gehört.\n",
    "Also die erse Spalte ist die Wahrscheinlichkeit, dass es zur class = 0, also Gammateilchen, gehört und die zweite Spalte gibt dies dementsprechend für Hadronen an."
   ]
  },
  {
   "cell_type": "markdown",
   "metadata": {},
   "source": [
    "## Teilaufgabe e)"
   ]
  },
  {
   "cell_type": "markdown",
   "metadata": {},
   "source": [
    "Nun soll noch die ROC-Kurve geplotted werden, sowie der AUC score berechnet werden."
   ]
  },
  {
   "cell_type": "code",
   "execution_count": 11,
   "metadata": {
    "collapsed": true
   },
   "outputs": [],
   "source": [
    "from sklearn.metrics import roc_curve\n",
    "\n",
    "y_score = y_score[:,1]\n",
    "fpr, tpr, thr = roc_curve(y_test, y_score)"
   ]
  },
  {
   "cell_type": "code",
   "execution_count": 12,
   "metadata": {},
   "outputs": [
    {
     "data": {
      "image/png": "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\n",
      "text/plain": [
       "<Figure size 432x288 with 1 Axes>"
      ]
     },
     "metadata": {},
     "output_type": "display_data"
    }
   ],
   "source": [
    "plt.figure(1)\n",
    "plt.plot(fpr, tpr, label='Random Forest ROC')\n",
    "plt.xlabel('False positive rate')\n",
    "plt.ylabel('True positive rate')\n",
    "plt.title('ROC curve')\n",
    "plt.legend(loc='best')\n",
    "plt.show()"
   ]
  },
  {
   "cell_type": "code",
   "execution_count": 13,
   "metadata": {},
   "outputs": [
    {
     "name": "stdout",
     "output_type": "stream",
     "text": [
      "0.7020874324126914\n"
     ]
    }
   ],
   "source": [
    "from sklearn.metrics import roc_auc_score\n",
    "\n",
    "print(roc_auc_score(y_test, y_score))"
   ]
  },
  {
   "cell_type": "markdown",
   "metadata": {},
   "source": [
    "Der ROC_AUC_Score gibt dabei an, wie viel Fläche unter der ROC-Curve eingefasst ist. Je näher dieser Wert gegen 1 geht, desto besser. In diesem Fall 70% sind noch ausbaufähig.\n",
    "\n",
    "Nun soll die Anzahl der Gamma- und Hadronenereignisse entlang des classification scores geplottet werden."
   ]
  },
  {
   "cell_type": "code",
   "execution_count": 14,
   "metadata": {
    "collapsed": true
   },
   "outputs": [],
   "source": [
    "Num_muon = y_score[y_test == 0]\n",
    "Num_hdr = y_score [y_test == 1]"
   ]
  },
  {
   "cell_type": "code",
   "execution_count": 15,
   "metadata": {},
   "outputs": [
    {
     "data": {
      "image/png": "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\n",
      "text/plain": [
       "<Figure size 432x288 with 1 Axes>"
      ]
     },
     "metadata": {},
     "output_type": "display_data"
    }
   ],
   "source": [
    "plt.figure(2)\n",
    "\n",
    "plt.hist(Num_muon,bins = 50,histtype='step')\n",
    "plt.hist(Num_hdr,bins = 50,histtype='step')\n",
    "plt.ylabel('Anzahl')\n",
    "plt.xlabel('prediction score ein Hadron zu sein')\n",
    "plt.title('Vergleich der prediction score Verteilungen')\n",
    "plt.legend(['Myonen', 'Hadronen'])\n",
    "plt.show()"
   ]
  },
  {
   "cell_type": "markdown",
   "metadata": {},
   "source": [
    "Anhand der gezeigten Verteilungen, ist es so nur schwer möglich Signal von Untergrund zu trennen.\n",
    "Sie überlappen sich hier viel zu stark.\n",
    "\n",
    "Ein perfekter Klassifizierer hingegen hätte zwei Verteilungen die sich nicht überlappen."
   ]
  }
 ],
 "metadata": {
  "kernelspec": {
   "display_name": "Python 3",
   "language": "python",
   "name": "python3"
  },
  "language_info": {
   "codemirror_mode": {
    "name": "ipython",
    "version": 3
   },
   "file_extension": ".py",
   "mimetype": "text/x-python",
   "name": "python",
   "nbconvert_exporter": "python",
   "pygments_lexer": "ipython3",
   "version": "3.6.2"
  }
 },
 "nbformat": 4,
 "nbformat_minor": 2
}
>>>>>>> New Python Notebook
