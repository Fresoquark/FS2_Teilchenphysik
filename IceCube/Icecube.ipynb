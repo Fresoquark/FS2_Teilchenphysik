{
 "cells": [
  {
   "cell_type": "code",
   "execution_count": 125,
   "metadata": {},
   "outputs": [],
   "source": [
    "%matplotlib inline\n",
    "\n",
    "import numpy as np\n",
    "import matplotlib.pyplot as plt\n",
    "import pandas as pd\n",
    "from skfeature.function.information_theoretical_based import MRMR\n",
    "\n",
    "pd.set_option('display.max_columns', None)"
   ]
  },
  {
   "cell_type": "code",
   "execution_count": 126,
   "metadata": {
    "collapsed": true
   },
   "outputs": [],
   "source": [
    "signal = pd.read_csv(\"signal.csv\", sep = \";\")\n",
    "bkg = pd.read_csv(\"daten/daten_icecube/signal.csv\", sep = \";\")\n"
   ]
  },
  {
   "cell_type": "code",
   "execution_count": 127,
   "metadata": {},
   "outputs": [],
   "source": [
    "signal = signal.drop(signal.filter(regex='MC').columns, axis=1)\n",
    "signal = signal.drop(signal.filter(regex='Weight').columns, axis=1)\n",
    "signal = signal.drop(signal.filter(regex='Corsika').columns, axis=1)\n",
    "signal = signal.drop(signal.filter(regex='end').columns, axis=1)\n",
    "signal = signal.drop(signal.filter(regex='start').columns, axis=1)\n",
    "signal = signal.drop(signal.filter(regex='time').columns, axis=1)\n",
    "#signal = signal.drop('label', axis=1)"
   ]
  },
  {
   "cell_type": "code",
   "execution_count": 128,
   "metadata": {},
   "outputs": [],
   "source": [
    "bkg = bkg.drop(bkg.filter(regex='MC').columns, axis=1)\n",
    "bkg = bkg.drop(bkg.filter(regex='Weight').columns, axis=1)\n",
    "bkg = bkg.drop(bkg.filter(regex='Corsika').columns, axis=1)\n",
    "bkg = bkg.drop(bkg.filter(regex='end').columns, axis=1)\n",
    "bkg = bkg.drop(bkg.filter(regex='start').columns, axis=1)\n",
    "bkg = bkg.drop(bkg.filter(regex='time').columns, axis=1)\n",
    "#bkg = bkg.drop('label', axis=1)"
   ]
  },
  {
   "cell_type": "code",
   "execution_count": 129,
   "metadata": {},
   "outputs": [],
   "source": [
    "bcol = bkg.columns\n",
    "scol = signal.columns"
   ]
  },
  {
   "cell_type": "code",
   "execution_count": 130,
   "metadata": {},
   "outputs": [],
   "source": [
    "for att in scol:\n",
    "    if att not in bcol:\n",
    "        signal.drop(att, axis=1, inplace = True)\n",
    "    \n",
    "for att in bcol:\n",
    "    if att not in scol:\n",
    "        bkg.drop(att, axis=1, inplace = True)"
   ]
  },
  {
   "cell_type": "code",
   "execution_count": 131,
   "metadata": {},
   "outputs": [],
   "source": [
    "signal.replace([np.inf, -np.inf], np.nan)\n",
    "signal.dropna(axis = 'columns', inplace = True)\n",
    "signal = signal.drop(signal.std()[(signal.std() == 0)].index, axis=1)\n",
    "#signal.dropna(inplace = True)"
   ]
  },
  {
   "cell_type": "code",
   "execution_count": 132,
   "metadata": {
    "collapsed": true
   },
   "outputs": [],
   "source": [
    "bkg.replace([np.inf, -np.inf], np.nan)\n",
    "bkg.dropna(axis = 'columns', inplace = True)\n",
    "bkg = bkg.drop(bkg.std()[(bkg.std() == 0)].index, axis=1)"
   ]
  },
  {
   "cell_type": "code",
   "execution_count": 140,
   "metadata": {},
   "outputs": [
    {
     "data": {
      "text/plain": [
       "Index(['HitMultiplicityValues.n_hit_strings',\n",
       "       'HitMultiplicityValues.n_hit_doms',\n",
       "       'HitMultiplicityValues.n_hit_doms_one_pulse',\n",
       "       'HitStatisticsValues.cog_z_sigma', 'HitStatisticsValues.q_max_doms',\n",
       "       'HitStatisticsValues.z_min', 'HitStatisticsValues.z_max',\n",
       "       'HitStatisticsValues.z_mean', 'HitStatisticsValues.z_sigma',\n",
       "       'HitStatisticsValues.z_travel',\n",
       "       ...\n",
       "       'SplineMPETruncatedEnergy_SPICEMie_AllDOMS_Muon.fit_status', 'NewID',\n",
       "       'label', 'NewAtt.radius', 'NewAtt.DirectEllipse', 'NewAtt.DeltaZd',\n",
       "       'NewAtt.emptyness', 'NewAtt.SepDevide', 'NewAtt.SPEBayVerRadius',\n",
       "       'NewAtt.SplineVerRadius'],\n",
       "      dtype='object', length=154)"
      ]
     },
     "execution_count": 140,
     "metadata": {},
     "output_type": "execute_result"
    }
   ],
   "source": [
    "signal.columns\n"
   ]
  },
  {
   "cell_type": "code",
   "execution_count": null,
   "metadata": {
    "collapsed": true
   },
   "outputs": [],
   "source": []
  }
 ],
 "metadata": {
  "kernelspec": {
   "display_name": "Python 3",
   "language": "python",
   "name": "python3"
  },
  "language_info": {
   "codemirror_mode": {
    "name": "ipython",
    "version": 3
   },
   "file_extension": ".py",
   "mimetype": "text/x-python",
   "name": "python",
   "nbconvert_exporter": "python",
   "pygments_lexer": "ipython3",
   "version": "3.6.2"
  }
 },
 "nbformat": 4,
 "nbformat_minor": 2
}
