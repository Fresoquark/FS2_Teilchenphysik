{
 "cells": [
  {
   "cell_type": "code",
   "execution_count": 1,
   "metadata": {},
   "outputs": [],
   "source": [
    "%matplotlib inline\n",
    "\n",
    "import numpy as np\n",
    "import matplotlib.pyplot as plt\n",
    "import pandas as pd\n",
    "from skfeature.function.information_theoretical_based import MRMR\n",
    "\n",
    "pd.set_option('display.max_columns', None)"
   ]
  },
  {
   "cell_type": "code",
   "execution_count": 2,
   "metadata": {},
   "outputs": [],
   "source": [
    "signal = pd.read_csv(\"signal.csv\", sep = \";\")\n",
    "bkg = pd.read_csv(\"background.csv\", sep = \";\")\n"
   ]
  },
  {
   "cell_type": "code",
   "execution_count": 3,
   "metadata": {},
   "outputs": [],
   "source": [
    "signal = signal.drop(signal.filter(regex='MC').columns, axis=1)\n",
    "signal = signal.drop(signal.filter(regex='Weight').columns, axis=1)\n",
    "signal = signal.drop(signal.filter(regex='Corsika').columns, axis=1)\n",
    "signal = signal.drop(signal.filter(regex='end').columns, axis=1)\n",
    "signal = signal.drop(signal.filter(regex='start').columns, axis=1)\n",
    "signal = signal.drop(signal.filter(regex='time').columns, axis=1)\n",
    "signal = signal.drop('label', axis=1)"
   ]
  },
  {
   "cell_type": "code",
   "execution_count": 4,
   "metadata": {},
   "outputs": [],
   "source": [
    "bkg = bkg.drop(bkg.filter(regex='MC').columns, axis=1)\n",
    "bkg = bkg.drop(bkg.filter(regex='Weight').columns, axis=1)\n",
    "bkg = bkg.drop(bkg.filter(regex='Corsika').columns, axis=1)\n",
    "bkg = bkg.drop(bkg.filter(regex='end').columns, axis=1)\n",
    "bkg = bkg.drop(bkg.filter(regex='start').columns, axis=1)\n",
    "bkg = bkg.drop(bkg.filter(regex='time').columns, axis=1)\n",
    "bkg = bkg.drop('label', axis=1)"
   ]
  },
  {
   "cell_type": "code",
   "execution_count": 5,
   "metadata": {},
   "outputs": [],
   "source": [
    "signal.replace([np.inf, -np.inf], np.nan)\n",
    "signal.dropna(axis = 'columns', inplace = True)\n",
    "signal = signal.drop(signal.std()[(signal.std() == 0)].index, axis=1)\n",
    "#signal.dropna(inplace = True)\n",
    "\n",
    "bkg.replace([np.inf, -np.inf], np.nan)\n",
    "bkg.dropna(axis = 'columns', inplace = True)\n",
    "bkg = bkg.drop(bkg.std()[(bkg.std() == 0)].index, axis=1)\n",
    "#bkg.dropna(inplace = True)"
   ]
  },
  {
   "cell_type": "code",
   "execution_count": 6,
   "metadata": {},
   "outputs": [],
   "source": [
    "bcol = bkg.columns\n",
    "scol = signal.columns"
   ]
  },
  {
   "cell_type": "code",
   "execution_count": 7,
   "metadata": {},
   "outputs": [],
   "source": [
    "for att in scol:\n",
    "    if att not in bcol:\n",
    "        signal.drop(att, axis=1, inplace = True)\n",
    "    \n",
    "for att in bcol:\n",
    "    if att not in scol:\n",
    "        bkg.drop(att, axis=1, inplace = True)"
   ]
  },
  {
   "cell_type": "code",
   "execution_count": 8,
   "metadata": {},
   "outputs": [
    {
     "data": {
      "text/plain": [
       "118"
      ]
     },
     "execution_count": 8,
     "metadata": {},
     "output_type": "execute_result"
    }
   ],
   "source": [
    "len(signal.columns)"
   ]
  },
  {
   "cell_type": "code",
   "execution_count": 9,
   "metadata": {},
   "outputs": [
    {
     "data": {
      "text/plain": [
       "118"
      ]
     },
     "execution_count": 9,
     "metadata": {},
     "output_type": "execute_result"
    }
   ],
   "source": [
    "len(bkg.columns)"
   ]
  },
  {
   "cell_type": "code",
   "execution_count": 10,
   "metadata": {},
   "outputs": [],
   "source": [
    "#removed_scol = [j for i, j in zip(signal.columns, bkg.columns) if i != j]\n",
    "#removed_scol"
   ]
  },
  {
   "cell_type": "code",
   "execution_count": 11,
   "metadata": {},
   "outputs": [],
   "source": [
    "import scipy.io\n",
    "from sklearn.metrics import accuracy_score\n",
    "from sklearn.model_selection import cross_validate\n",
    "from sklearn import svm"
   ]
  },
  {
   "cell_type": "code",
   "execution_count": 12,
   "metadata": {},
   "outputs": [],
   "source": [
    "sig_label = np.zeros(signal.shape[0])\n",
    "bkg_label = np.ones(bkg.shape[0])"
   ]
  },
  {
   "cell_type": "code",
   "execution_count": 13,
   "metadata": {},
   "outputs": [],
   "source": [
    "combined_df = pd.concat([signal, bkg], ignore_index=True)\n",
    "combined_label = np.append(sig_label, bkg_label)"
   ]
  },
  {
   "cell_type": "code",
   "execution_count": 14,
   "metadata": {},
   "outputs": [],
   "source": [
    "combined_df.insert(118, 'label', combined_label)\n",
    "shuffled = combined_df.sample(frac = 1)"
   ]
  },
  {
   "cell_type": "code",
   "execution_count": 15,
   "metadata": {},
   "outputs": [],
   "source": [
    "y = shuffled['label']\n",
    "X = shuffled.drop('label', axis=1)"
   ]
  },
  {
   "cell_type": "code",
   "execution_count": 16,
   "metadata": {},
   "outputs": [],
   "source": [
    "from sklearn import (\n",
    "    ensemble, linear_model, neighbors, svm, tree, naive_bayes,\n",
    "    gaussian_process, neural_network, dummy)\n",
    "from sklearn.model_selection import KFold\n",
    "from sklearn.base import clone\n",
    "from tqdm import tqdm\n",
    "model = ensemble.RandomForestRegressor(n_estimators=100)"
   ]
  },
  {
   "cell_type": "code",
   "execution_count": 17,
   "metadata": {},
   "outputs": [],
   "source": [
    "from sklearn.feature_selection import SelectKBest, chi2, mutual_info_classif\n",
    "X_new = SelectKBest(score_func=mutual_info_classif, k=20)\n",
    "data_selected = X_new.fit_transform(X, y)\n",
    "data_selec_cols = X.columns.values[X_new.get_support()]\n",
    "df = pd.DataFrame(data_selected, columns = data_selec_cols)"
   ]
  },
  {
   "cell_type": "code",
   "execution_count": null,
   "metadata": {},
   "outputs": [],
   "source": [
    "cv = KFold(5, shuffle=True, random_state=1337)\n",
    "\n",
    "from sklearn.metrics import accuracy_score\n",
    "from pymrmre import mrmr\n",
    "models = []\n",
    "predictions = []\n",
    "true_values = []\n",
    "\n",
    "#n_feat = 10\n",
    "\n",
    "for train_index, test_index in cv.split(df):\n",
    "    X_train, X_test = df.iloc[train_index, :], df.iloc[test_index, :]\n",
    "    y_train, y_test = y[train_index], y[test_index]\n",
    "    \n",
    "    model.fit(X_train, y_train)\n",
    "    pred = model.predict(X_test)\n",
    "    t_val = y_test\n",
    "    \n",
    "    predictions.append(pred)\n",
    "    true_values.append(t_val)\n",
    "    models.append(model)"
   ]
  },
  {
   "cell_type": "code",
   "execution_count": null,
   "metadata": {},
   "outputs": [],
   "source": [
    "predictions"
   ]
  },
  {
   "cell_type": "code",
   "execution_count": null,
   "metadata": {},
   "outputs": [],
   "source": [
    "from sklearn.metrics import r2_score\n",
    "for i in range(5):\n",
    "    r2 = r2_score(predictions[i], true_values[i])\n",
    "    print(r2)"
   ]
  },
  {
   "cell_type": "code",
   "execution_count": null,
   "metadata": {},
   "outputs": [],
   "source": []
  },
  {
   "cell_type": "code",
   "execution_count": null,
   "metadata": {},
   "outputs": [],
   "source": []
  }
 ],
 "metadata": {
  "kernelspec": {
   "display_name": "Python 3",
   "language": "python",
   "name": "python3"
  },
  "language_info": {
   "codemirror_mode": {
    "name": "ipython",
    "version": 3
   },
   "file_extension": ".py",
   "mimetype": "text/x-python",
   "name": "python",
   "nbconvert_exporter": "python",
   "pygments_lexer": "ipython3",
   "version": "3.7.7"
  }
 },
 "nbformat": 4,
 "nbformat_minor": 2
}
