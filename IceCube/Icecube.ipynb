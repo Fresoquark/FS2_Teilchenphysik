{
 "cells": [
  {
   "cell_type": "code",
   "execution_count": 1,
   "metadata": {},
   "outputs": [],
   "source": [
    "%matplotlib inline\n",
    "\n",
    "import numpy as np\n",
    "import matplotlib.pyplot as plt\n",
    "import pandas as pd\n",
    "from skfeature.function.information_theoretical_based import MRMR\n",
    "\n",
    "pd.set_option('display.max_columns', None)"
   ]
  },
  {
   "cell_type": "code",
   "execution_count": 2,
   "metadata": {},
   "outputs": [],
   "source": [
    "signal = pd.read_csv(\"signal.csv\", sep = \";\")\n",
    "bkg = pd.read_csv(\"background.csv\", sep = \";\")\n"
   ]
  },
  {
   "cell_type": "code",
   "execution_count": 3,
   "metadata": {},
   "outputs": [],
   "source": [
    "signal = signal.drop(signal.filter(regex='MC').columns, axis=1)\n",
    "signal = signal.drop(signal.filter(regex='Weight').columns, axis=1)\n",
    "signal = signal.drop(signal.filter(regex='Corsika').columns, axis=1)\n",
    "signal = signal.drop(signal.filter(regex='end').columns, axis=1)\n",
    "signal = signal.drop(signal.filter(regex='start').columns, axis=1)\n",
    "signal = signal.drop(signal.filter(regex='time').columns, axis=1)\n",
    "signal = signal.drop('label', axis=1)"
   ]
  },
  {
   "cell_type": "code",
   "execution_count": 4,
   "metadata": {},
   "outputs": [],
   "source": [
    "bkg = bkg.drop(bkg.filter(regex='MC').columns, axis=1)\n",
    "bkg = bkg.drop(bkg.filter(regex='Weight').columns, axis=1)\n",
    "bkg = bkg.drop(bkg.filter(regex='Corsika').columns, axis=1)\n",
    "bkg = bkg.drop(bkg.filter(regex='end').columns, axis=1)\n",
    "bkg = bkg.drop(bkg.filter(regex='start').columns, axis=1)\n",
    "bkg = bkg.drop(bkg.filter(regex='time').columns, axis=1)\n",
    "bkg = bkg.drop('label', axis=1)"
   ]
  },
  {
   "cell_type": "code",
   "execution_count": 5,
   "metadata": {},
   "outputs": [],
   "source": [
    "signal.replace([np.inf, -np.inf], np.nan)\n",
    "signal.dropna(axis = 'columns', inplace = True)\n",
    "signal = signal.drop(signal.std()[(signal.std() == 0)].index, axis=1)\n",
    "#signal.dropna(inplace = True)\n",
    "\n",
    "bkg.replace([np.inf, -np.inf], np.nan)\n",
    "bkg.dropna(axis = 'columns', inplace = True)\n",
    "bkg = bkg.drop(bkg.std()[(bkg.std() == 0)].index, axis=1)\n",
    "#bkg.dropna(inplace = True)"
   ]
  },
  {
   "cell_type": "code",
   "execution_count": 6,
   "metadata": {},
   "outputs": [],
   "source": [
    "bcol = bkg.columns\n",
    "scol = signal.columns"
   ]
  },
  {
   "cell_type": "code",
   "execution_count": 7,
   "metadata": {},
   "outputs": [],
   "source": [
    "for att in scol:\n",
    "    if att not in bcol:\n",
    "        signal.drop(att, axis=1, inplace = True)\n",
    "    \n",
    "for att in bcol:\n",
    "    if att not in scol:\n",
    "        bkg.drop(att, axis=1, inplace = True)"
   ]
  },
  {
   "cell_type": "code",
   "execution_count": 8,
   "metadata": {},
   "outputs": [
    {
     "data": {
      "text/plain": [
       "118"
      ]
     },
     "execution_count": 8,
     "metadata": {},
     "output_type": "execute_result"
    }
   ],
   "source": [
    "len(signal.columns)"
   ]
  },
  {
   "cell_type": "code",
   "execution_count": 9,
   "metadata": {},
   "outputs": [
    {
     "data": {
      "text/plain": [
       "118"
      ]
     },
     "execution_count": 9,
     "metadata": {},
     "output_type": "execute_result"
    }
   ],
   "source": [
    "len(bkg.columns)"
   ]
  },
  {
   "cell_type": "code",
   "execution_count": 10,
   "metadata": {},
   "outputs": [],
   "source": [
    "#removed_scol = [j for i, j in zip(signal.columns, bkg.columns) if i != j]\n",
    "#removed_scol"
   ]
  },
  {
   "cell_type": "code",
   "execution_count": 11,
   "metadata": {},
   "outputs": [],
   "source": [
    "import scipy.io\n",
    "from sklearn.metrics import accuracy_score\n",
    "from sklearn.model_selection import cross_validate\n",
    "from sklearn import svm"
   ]
  },
  {
   "cell_type": "code",
   "execution_count": 12,
   "metadata": {},
   "outputs": [],
   "source": [
    "sig_label = np.zeros(signal.shape[0])\n",
    "bkg_label = np.ones(bkg.shape[0])"
   ]
  },
  {
   "cell_type": "code",
   "execution_count": 13,
   "metadata": {},
   "outputs": [],
   "source": [
    "combined_df = pd.concat([signal, bkg], ignore_index=True)\n",
    "combined_label = np.append(sig_label, bkg_label)"
   ]
  },
  {
   "cell_type": "code",
   "execution_count": 14,
   "metadata": {},
   "outputs": [],
   "source": [
    "combined_df.insert(118, 'label', combined_label)\n",
    "shuffled = combined_df.sample(frac = 1)"
   ]
  },
  {
   "cell_type": "code",
   "execution_count": 15,
   "metadata": {},
   "outputs": [],
   "source": [
    "y = shuffled['label']\n",
    "X = shuffled.drop('label', axis=1)"
   ]
  },
  {
   "cell_type": "code",
   "execution_count": 16,
   "metadata": {},
   "outputs": [],
   "source": [
    "from sklearn import (\n",
    "    ensemble, linear_model, neighbors, svm, tree, naive_bayes,\n",
    "    gaussian_process, neural_network, dummy)\n",
    "from sklearn.model_selection import KFold\n",
    "from sklearn.model_selection import cross_val_score\n",
    "from sklearn.base import clone\n",
    "from tqdm import tqdm\n",
    "model = ensemble.RandomForestClassifier(n_estimators=100)\n",
    "model.get_params()\n",
    "from sklearn.model_selection import train_test_split"
   ]
  },
  {
   "cell_type": "code",
   "execution_count": 18,
   "metadata": {},
   "outputs": [
    {
     "name": "stdout",
     "output_type": "stream",
     "text": [
      "[0.95796538 0.9637487  0.96265348 0.96906122 0.95953687]\n",
      "[0.9989289  0.99957261 0.99888388 0.99928691 0.99983359]\n",
      "[0.99998599 0.99988369 0.99999121 0.99998936 0.9998853 ]\n",
      "[0.99999316 0.99998247 0.99999321 0.99999619 0.99999146]\n",
      "[0.99999668 0.99999971 0.99999951 0.99999897 0.99999922]\n"
     ]
    }
   ],
   "source": [
    "X_train, X_test, y_train, y_test = train_test_split(X, y, test_size=0.2, random_state=42)\n",
    "n_trees = [1, 5, 10, 50, 100]\n",
    "for i in n_trees:\n",
    "    Sc = cross_val_score(ensemble.RandomForestClassifier(n_estimators= i), X_train, y_train, cv=5, scoring='roc_auc')\n",
    "    print(Sc)"
   ]
  },
  {
   "cell_type": "code",
   "execution_count": 19,
   "metadata": {},
   "outputs": [
    {
     "name": "stdout",
     "output_type": "stream",
     "text": [
      "['LineFit_TTParams.lf_vel_z', 'I3EventHeader.Run', 'I3EventHeader.Event', 'HitStatisticsValues.z_travel', 'LineFit_TT.zenith', 'SplineMPEFitParams.rlogl', 'MuEXAngular4.zenith', 'SplineMPEMuEXDifferential.zenith', 'SplineMPETruncatedEnergy_SPICEMie_AllBINS_Muon.zenith', 'SplineMPE.zenith', 'SplineMPETruncatedEnergy_SPICEMie_AllDOMS_Muon.zenith', 'MPEFitHighNoise.zenith', 'MPEFitParaboloid.zenith', 'MPEFitParaboloidFitParams.zenith', 'SplineMPEDirectHitsA.n_dir_strings', 'SplineMPEDirectHitsA.n_dir_doms', 'SplineMPEDirectHitsC.dir_track_length', 'SplineMPETruncatedEnergy_SPICEMie_AllDOMS_MuEres.value', 'SplineMPEDirectHitsC.n_dir_doms', 'HitStatisticsValues.cog_z_sigma', 'HitStatisticsValues.z_sigma', 'HitStatisticsValues.z_min', 'NewAtt.DirectEllipse', 'SPEFit2Bayesian.z', 'SplineMPEDirectHitsE.dir_track_length', 'NewAtt.SplineVerRadius', 'NewAtt.radius', 'SplineMPECharacteristics.track_hits_separation_length', 'SplineMPETruncatedEnergy_SPICEMie_AllBINS_MuEres.value', 'MuEXAngular4_Sigma.value', 'SplineMPEDirectHitsC.n_dir_strings', 'MPEFitHighNoise.z', 'MPEFitParaboloid.z', 'MuEXAngular4.z', 'SplineMPEMuEXDifferential.z', 'SplineMPEDirectHitsE.n_dir_doms', 'SplineMPE.z', 'SplineMPETruncatedEnergy_SPICEMie_AllBINS_Muon.z', 'SplineMPETruncatedEnergy_SPICEMie_AllDOMS_Muon.z', 'HitStatisticsValues.z_mean', 'HitStatisticsValues.cog_z', 'SplineMPECharacteristics.avg_dom_dist_q_tot_dom', 'NewAtt.DeltaZd', 'LineFit_TT.z', 'SPEFit2Bayesian.zenith', 'SplineMPEDirectHitsE.n_dir_strings', 'LineFit_TTParams.lf_vel', 'SPEFit2BayesianFitParams.logl', 'HitMultiplicityValues.n_hit_doms_one_pulse', 'HitStatisticsValues.z_max', 'MPEFitParaboloidFitParams.err1', 'SplineMPECharacteristics.track_hits_distribution_smoothness', 'SplineMPEMuEXDifferential.energy', 'SplineMPEDirectHitsA.n_late_strings', 'HitMultiplicityValues.n_hit_strings', 'SplineMPEMuEXDifferential_r.value', 'NewID', 'MPEFitParaboloidFitParams.err2', 'SplineMPEDirectHitsC.n_late_strings', 'HitMultiplicityValues.n_hit_doms']\n"
     ]
    }
   ],
   "source": [
    "from sklearn.feature_selection import SelectKBest, chi2, mutual_info_classif, f_classif\n",
    "# Anzahl der features die wir nehmen wollen\n",
    "N_feat = 60\n",
    "X_new = SelectKBest(score_func=f_classif, k=N_feat)\n",
    "d_fit = X_new.fit(X_train, y_train)\n",
    "# generiere scores die die güte des features angeben\n",
    "scores = d_fit.scores_\n",
    "# sortiere nach größe...\n",
    "sorted_scores = sorted(scores, reverse=True)\n",
    "args_max = np.argsort(scores)[::-1]\n",
    "# print(args_max)\n",
    "# lese die N_feat wichtigsten features aus und speichere sie weg\n",
    "features = []\n",
    "for i in range(N_feat):\n",
    "    features.append(X.columns.tolist()[args_max[i]])\n",
    "print(features)\n",
    "# werfe aus den trainingsdaten und testdaten alle features bis auf die wichtigsten raus\n",
    "X_train = X_train.loc[:, features]\n",
    "X_test = X_test.loc[:, features]"
   ]
  },
  {
   "cell_type": "code",
   "execution_count": 20,
   "metadata": {},
   "outputs": [],
   "source": [
    "from sklearn.metrics import accuracy_score\n",
    "from sklearn.metrics import r2_score, roc_auc_score, roc_curve\n",
    "# trainiere den lerner\n",
    "model.fit(X_train, y_train)\n",
    "# sage die labels vorher\n",
    "y_pred = model.predict(X_test)\n",
    "fpr, tpr, thr = roc_curve(y_test, y_pred)"
   ]
  },
  {
   "cell_type": "code",
   "execution_count": 21,
   "metadata": {},
   "outputs": [
    {
     "data": {
      "image/png": "[encoded data removed]",
      "text/plain": [
       "<Figure size 432x288 with 1 Axes>"
      ]
     },
     "metadata": {
      "needs_background": "light"
     },
     "output_type": "display_data"
    }
   ],
   "source": [
    "plt.figure(1)\n",
    "plt.plot(fpr, tpr, label='Random Forest ROC')\n",
    "plt.xlabel('False positive rate')\n",
    "plt.ylabel('True positive rate')\n",
    "plt.title('ROC curve')\n",
    "plt.legend(loc='best')\n",
    "plt.show()"
   ]
  },
  {
   "cell_type": "code",
   "execution_count": 22,
   "metadata": {},
   "outputs": [
    {
     "name": "stdout",
     "output_type": "stream",
     "text": [
      "0.9998759612999255\n",
      "0.9994999699669461\n"
     ]
    }
   ],
   "source": [
    "print(roc_auc_score(y_test, y_pred))\n",
    "print(r2_score(y_test, y_pred))\n",
    "# das kann nicht sein"
   ]
  },
  {
   "cell_type": "code",
   "execution_count": null,
   "metadata": {},
   "outputs": [],
   "source": [
    "#cv = KFold(5, shuffle=True, random_state=42)\n",
    "\n",
    "#models = []\n",
    "#predictions = []\n",
    "#true_values = []\n",
    "\n",
    "#n_feat = 10\n",
    "\n",
    "#for train_index, test_index in cv.split(df):\n",
    "#    X_train, X_test = df.iloc[train_index, :], df.iloc[test_index, :]\n",
    "#    y_train, y_test = y[train_index], y[test_index]\n",
    "#    \n",
    "#    model.fit(X_train, y_train)\n",
    "#    pred = model.predict(X_test)\n",
    "#    t_val = y_test\n",
    "    \n",
    "#    predictions.append(pred)\n",
    "#    true_values.append(t_val)\n",
    "#    models.append(model)"
   ]
  },
  {
   "cell_type": "code",
   "execution_count": null,
   "metadata": {},
   "outputs": [],
   "source": [
    "#predictions"
   ]
  },
  {
   "cell_type": "code",
   "execution_count": null,
   "metadata": {},
   "outputs": [],
   "source": [
    "\n",
    "#for i in range(5):\n",
    "#    r2 = r2_score(true_values[i], predictions[i])\n",
    "#    roc = roc_auc_score(true_values[i], predictions[i])\n",
    "#    print(\"r2 score: \\n\", r2)\n",
    "#    print(\"roc auc score: \\n\", roc)"
   ]
  },
  {
   "cell_type": "code",
   "execution_count": null,
   "metadata": {},
   "outputs": [],
   "source": []
  }
 ],
 "metadata": {
  "kernelspec": {
   "display_name": "Python 3",
   "language": "python",
   "name": "python3"
  },
  "language_info": {
   "codemirror_mode": {
    "name": "ipython",
    "version": 3
   },
   "file_extension": ".py",
   "mimetype": "text/x-python",
   "name": "python",
   "nbconvert_exporter": "python",
   "pygments_lexer": "ipython3",
   "version": "3.7.7"
  }
 },
 "nbformat": 4,
 "nbformat_minor": 2
}
