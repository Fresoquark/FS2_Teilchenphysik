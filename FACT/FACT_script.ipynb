{
 "cells": [
  {
   "cell_type": "code",
   "execution_count": 1,
   "metadata": {},
   "outputs": [],
   "source": [
    "from fact.io import read_h5py, to_h5py\n",
    "import pandas as pd\n",
    "import numpy as np"
   ]
  },
  {
   "cell_type": "code",
   "execution_count": 2,
   "metadata": {},
   "outputs": [],
   "source": [
    "crab_events = read_h5py('/home/nbreer/Downloads/data/open_crab_sample_dl3.hdf5', key='events')\n",
    "crab_runs = read_h5py('/home/nbreer/Downloads/data/open_crab_sample_dl3.hdf5', key='runs')\n",
    "gamma_events = read_h5py('/home/nbreer/Downloads/data/gamma_test_dl3.hdf5', key='events')\n",
    "corsika_events = read_h5py('/home/nbreer/Downloads/data/gamma_corsika_headers.hdf5', key='corsika_events')\n",
    "corsika_runs = read_h5py('/home/nbreer/Downloads/data/gamma_corsika_headers.hdf5', key='corsika_runs')"
   ]
  },
  {
   "cell_type": "code",
   "execution_count": 3,
   "metadata": {},
   "outputs": [],
   "source": [
    "lim_theta = np.sqrt(0.025)\n",
    "crab_events_pred = crab_events[crab_events['gamma_prediction'] > 0.8]\n",
    "crab_events_sel = crab_events_pred[crab_events_pred['theta_deg'] < lim_theta]"
   ]
  },
  {
   "cell_type": "markdown",
   "metadata": {},
   "source": [
    "Detektor-Signifikanz für den Krebsnebel"
   ]
  },
  {
   "cell_type": "code",
   "execution_count": 32,
   "metadata": {},
   "outputs": [],
   "source": [
    "import matplotlib.pyplot as plt\n",
    "lim_theta_plot = np.sqrt(0.3)\n",
    "\n",
    "crab_events_pred_1 = crab_events_pred[crab_events_pred['theta_deg_off_1'] < lim_theta_plot]\n",
    "crab_events_pred_2 = crab_events_pred[crab_events_pred['theta_deg_off_2'] < lim_theta_plot]\n",
    "crab_events_pred_3 = crab_events_pred[crab_events_pred['theta_deg_off_3'] < lim_theta_plot]\n",
    "crab_events_pred_4 = crab_events_pred[crab_events_pred['theta_deg_off_4'] < lim_theta_plot]\n",
    "crab_events_pred_5 = crab_events_pred[crab_events_pred['theta_deg_off_5'] < lim_theta_plot]\n",
    "\n",
    "crab_events_sel = crab_events_pred[crab_events_pred['theta_deg'] < lim_theta_plot]"
   ]
  },
  {
   "cell_type": "code",
   "execution_count": 33,
   "metadata": {},
   "outputs": [],
   "source": [
    "crab_events_sel_1 = crab_events_pred[crab_events_pred['theta_deg_off_1'] < lim_theta]\n",
    "crab_events_sel_2 = crab_events_pred[crab_events_pred['theta_deg_off_2'] < lim_theta]\n",
    "crab_events_sel_3 = crab_events_pred[crab_events_pred['theta_deg_off_3'] < lim_theta]\n",
    "crab_events_sel_4 = crab_events_pred[crab_events_pred['theta_deg_off_4'] < lim_theta]\n",
    "crab_events_sel_5 = crab_events_pred[crab_events_pred['theta_deg_off_5'] < lim_theta]\n",
    "bkg = pd.concat([crab_events_sel_1, crab_events_sel_2, crab_events_sel_3, crab_events_sel_4, crab_events_sel_5])"
   ]
  },
  {
   "cell_type": "code",
   "execution_count": 34,
   "metadata": {},
   "outputs": [],
   "source": [
    "theta_deg_off = []\n",
    "for i in [1, 2, 3, 4, 5]:\n",
    "    exec('x = crab_events_pred_{}.theta_deg_off_{}.values'.format(i, i))\n",
    "    for el in x:\n",
    "        theta_deg_off.append(el)"
   ]
  },
  {
   "cell_type": "code",
   "execution_count": 37,
   "metadata": {},
   "outputs": [
    {
     "name": "stdout",
     "output_type": "stream",
     "text": [
      "250\n"
     ]
    },
    {
     "data": {
      "image/png": "[encoded data removed]",
      "text/plain": [
       "<Figure size 432x288 with 1 Axes>"
      ]
     },
     "metadata": {
      "needs_background": "light"
     },
     "output_type": "display_data"
    }
   ],
   "source": [
    "crab_events_sel_on = np.array(crab_events_sel['theta_deg'].values)\n",
    "plt.hist((crab_events_sel_on)**2, bins =40, histtype='step', color='cyan', label='On-events')\n",
    "\n",
    "plt.hist(np.array(theta_deg_off)**2, bins=40, histtype='step', color='dodgerblue', label='Off-events', weights=np.array([0.2 for el in theta_deg_off]))\n",
    "plt.vlines(0.025, color='c', linestyle='-.', ymin=0, ymax=400, label=r'$\\theta^{2}-cut$')\n",
    "plt.xlabel(r'$\\theta^2$ / $\\deg^2$')\n",
    "plt.legend()\n",
    "plt.text(0.06, 350,\n",
    "         r'''Source: Crab, $t_\\mathrm{{obs}}$ = 17.7h\n",
    "        $N_\\mathrm{{on}}$ = {non}, $N_\\mathrm{{off}}$ = {noff}, $\\alpha$ = 0.2'''.format(non=len(crab_events_sel), noff=len(bkg)))\n",
    "plt.savefig('On_Off.pdf')\n",
    "print(len(crab_events_sel_1.theta_deg_off_1.values))"
   ]
  },
  {
   "cell_type": "code",
   "execution_count": 38,
   "metadata": {},
   "outputs": [
    {
     "data": {
      "text/plain": [
       "96.572336261452"
      ]
     },
     "execution_count": 38,
     "metadata": {},
     "output_type": "execute_result"
    }
   ],
   "source": [
    "alpha = 0.2\n",
    "n_on = len(crab_events_sel)\n",
    "n_off = len(bkg)\n",
    "sum1 = n_on * np.log((1 + alpha) / alpha * (n_on / (n_on + n_off)))\n",
    "sum2 = n_off * np.log((1 + alpha) * (n_off / (n_on + n_off)))\n",
    "S = np.sqrt(2) * np.sqrt(sum1 + sum2)\n",
    "S"
   ]
  },
  {
   "cell_type": "code",
   "execution_count": 41,
   "metadata": {},
   "outputs": [],
   "source": [
    "gammas_pred = gamma_events[gamma_events['gamma_prediction'] > 0.8]\n",
    "gammas_sel = gammas_pred[gammas_pred['theta_deg'] < lim_theta]"
   ]
  },
  {
   "cell_type": "code",
   "execution_count": 53,
   "metadata": {},
   "outputs": [],
   "source": [
    "gamma_Epred = gammas_sel['gamma_energy_prediction']\n",
    "corsika_totalE = gammas_sel['corsika_event_header_total_energy']\n",
    "\n",
    "max_bin = max(max(gamma_Epred), max(corsika_totalE))\n",
    "min_bin = min(min(gamma_Epred), min(corsika_totalE))\n",
    "\n",
    "if max_bin<= max(np.logspace(np.log10(500), np.log10(20e3), 11)):\n",
    "    next_bin = 12\n",
    "    bins_1 = np.ones(next_bin)\n",
    "else:\n",
    "    next_bin = 13\n",
    "    bins_1 = np.ones(next_bin)\n",
    "    bins_1[-1] = 50e3\n",
    "bins_1[0] = 0\n",
    "for i in range(1, next_bin-1, 1):\n",
    "    bins_1[i] = np.logspace(np.log10(500), np.log10(20e3), 11)[i-1]"
   ]
  },
  {
   "cell_type": "code",
   "execution_count": 54,
   "metadata": {},
   "outputs": [],
   "source": [
    "bins1 = np.ones(8)\n",
    "bins1[0] = 0\n",
    "for i in range(1, 7, 1):\n",
    "    bins1[i] = np.logspace(np.log10(500), np.log10(15e3), 6)[i-1]\n",
    "bins1[-1] = 50e3"
   ]
  },
  {
   "cell_type": "code",
   "execution_count": 55,
   "metadata": {},
   "outputs": [
    {
     "data": {
      "text/plain": [
       "<Figure size 432x288 with 0 Axes>"
      ]
     },
     "metadata": {},
     "output_type": "display_data"
    },
    {
     "data": {
      "image/png": "[encoded data removed]",
      "text/plain": [
       "<Figure size 288x493.714 with 2 Axes>"
      ]
     },
     "metadata": {
      "needs_background": "light"
     },
     "output_type": "display_data"
    }
   ],
   "source": [
    "plt.figure(constrained_layout=True)\n",
    "matrix, xedge, yedge = np.histogram2d(gamma_Epred, corsika_totalE, bins=[bins_1, bins1])\n",
    "\n",
    "matrix = matrix / np.sum(matrix, axis=0)\n",
    "plt.matshow(matrix)\n",
    "plt.xlabel('corsika')\n",
    "plt.ylabel('gamma prediction')\n",
    "plt.colorbar()\n",
    "plt.savefig('Matrix.pdf')"
   ]
  },
  {
   "cell_type": "code",
   "execution_count": 62,
   "metadata": {},
   "outputs": [
    {
     "data": {
      "image/png": "[encoded data removed]",
      "text/plain": [
       "<Figure size 432x288 with 2 Axes>"
      ]
     },
     "metadata": {
      "needs_background": "light"
     },
     "output_type": "display_data"
    }
   ],
   "source": [
    "plt.subplot(1, 2, 1)\n",
    "a = np.full_like(bkg['gamma_energy_prediction'], 0.2)\n",
    "b, bins_b, p = plt.hist(bkg['gamma_energy_prediction'], bins=xedge, weights=a, color='b', label='Off-Events')\n",
    "\n",
    "plt.xscale('log')\n",
    "plt.yscale('log')\n",
    "plt.xlim(1e2, 1e5)\n",
    "plt.xlabel('E_Est / GeV')\n",
    "plt.ylabel('# Events')\n",
    "plt.legend()\n",
    "plt.title('Energieverteilung')\n",
    "plt.subplot(1, 2, 2)\n",
    "g, bins_g, p = plt.hist(crab_events_sel['gamma_energy_prediction'], bins=xedge, color='c', label='On-Events')\n",
    "\n",
    "plt.xscale('log')\n",
    "plt.yscale('log')\n",
    "plt.xlim(1e2, 1e5)\n",
    "plt.xlabel('E_Est / GeV')\n",
    "plt.legend()\n",
    "plt.title('Energieverteilung')\n",
    "plt.savefig('E_verteilung.pdf')"
   ]
  },
  {
   "cell_type": "code",
   "execution_count": 67,
   "metadata": {},
   "outputs": [
    {
     "name": "stdout",
     "output_type": "stream",
     "text": [
      "[[-4.68170762e-15  4.02782338e+00 -4.38649193e-01 -2.84924632e-01\n",
      "   7.32481308e-01 -4.56038605e-01 -4.15146222e-02  1.43701722e-01\n",
      "  -2.94487866e-02 -4.21212433e-02  1.35849807e-02  1.67651264e-02]\n",
      " [ 5.23412889e-15 -3.72829747e+00  1.95896808e+00 -7.79787284e-02\n",
      "  -1.02547834e+00  6.83661945e-01  5.96429680e-02 -2.13066714e-01\n",
      "   4.37092686e-02  6.24454722e-02 -2.01371657e-02 -2.48520204e-02]\n",
      " [-1.38488362e-15  8.87979379e-01 -6.52089929e-01  1.77484486e+00\n",
      "   9.32844871e-01 -8.33787862e-01 -6.33686621e-02  2.51891454e-01\n",
      "  -5.18270325e-02 -7.38094035e-02  2.37885318e-02  2.93633211e-02]\n",
      " [ 3.68309589e-16 -3.00521679e-01  2.11184093e-01 -6.60521054e-01\n",
      "   7.01400188e-01  1.84862785e+00 -3.65264339e-02 -6.04477697e-01\n",
      "   1.42401875e-01  1.85693043e-01 -6.15413585e-02 -7.49966809e-02]\n",
      " [-1.66312774e-16  1.09012109e-01 -7.63584933e-02  2.38349529e-01\n",
      "  -3.04849714e-01 -4.27099363e-01  1.52524234e+00  1.41877945e+00\n",
      "  -5.26996029e-01 -5.31728574e-01  1.96373630e-01  2.28346384e-01]\n",
      " [-6.56115298e-17 -4.24610685e-02  2.97697497e-02 -9.30324107e-02\n",
      "   1.20895397e-01  1.49564831e-01 -6.17972967e-01  7.64497092e-02\n",
      "   1.86713486e+00  1.05707280e+00 -6.13823829e-01 -6.09653167e-01]\n",
      " [-2.19278567e-17  1.27666664e-02 -8.95179716e-03  2.79794054e-02\n",
      "  -3.63809113e-02 -4.46672034e-02  1.87880378e-01 -5.94577487e-02\n",
      "  -4.88080531e-01  3.55975377e-01  1.64787678e+00  1.14665246e+00]]\n",
      "[ 264.85736642 1368.83019204 1325.59296195  639.41695084  264.78798556\n",
      "   35.87652269   18.26293093]\n",
      "[1368.8301920373126+/-101.26135450147977\n",
      " 1325.5929619468102+/-72.76160822228087\n",
      " 639.4169508434386+/-49.51488734642461\n",
      " 264.7879855645551+/-32.38189453731155\n",
      " 35.87652269104627+/-18.982952989928947]\n",
      "fNSVD:  [1368.83019204 1325.59296195  639.41695084  264.78798556   35.87652269]\n"
     ]
    }
   ],
   "source": [
    "# svd entfaltung\n",
    "from scipy.stats import poisson\n",
    "from scipy.optimize import minimize\n",
    "from scipy.optimize import curve_fit\n",
    "from uncertainties import unumpy as unp\n",
    "\n",
    "pseudo_inv = unp.ulinalg.pinv(matrix)\n",
    "print(pseudo_inv)\n",
    "from uncertainties import ufloat\n",
    "\n",
    "g_unc = np.array([ufloat(x, np.sqrt(x)) for x in g])\n",
    "b_unc = np.array([ufloat(x, np.sqrt(x)) for x in b])\n",
    "\n",
    "# entfaltung JETZT\n",
    "ev = g-b\n",
    "ev_unc = g_unc - b_unc\n",
    "fNSVD = pseudo_inv@ev\n",
    "fNSVD_unc = pseudo_inv.dot(ev_unc)[1:-1]\n",
    "print(fNSVD)\n",
    "print(fNSVD_unc)\n",
    "fNSVD = fNSVD[1:-1]\n",
    "print('fNSVD: ', fNSVD)"
   ]
  },
  {
   "cell_type": "code",
   "execution_count": 69,
   "metadata": {},
   "outputs": [],
   "source": [
    "xpos = [yedge[i] - (yedge[i] - yedge[i-1])/2 for i in range(1, len(yedge))]\n",
    "xpos = xpos[1:-1]\n",
    "xerr = [(yedge[i] - yedge[i-1])/2 for i in range(2, len(yedge)-1)]"
   ]
  },
  {
   "cell_type": "code",
   "execution_count": 71,
   "metadata": {},
   "outputs": [
    {
     "data": {
      "image/png": "[encoded data removed]",
      "text/plain": [
       "<Figure size 432x288 with 1 Axes>"
      ]
     },
     "metadata": {
      "needs_background": "light"
     },
     "output_type": "display_data"
    }
   ],
   "source": [
    "plt.errorbar(xpos, [x.nominal_value for x in fNSVD_unc], xerr=xerr, yerr=[x.std_dev for x in fNSVD_unc], fmt='bx')\n",
    "plt.xscale('log')\n",
    "plt.yscale('log')\n",
    "plt.xlabel('E_est / GeV')\n",
    "plt.ylabel('# Events')\n",
    "plt.title('SVD Entfaltung')\n",
    "plt.savefig('NSVD.pdf')"
   ]
  },
  {
   "cell_type": "code",
   "execution_count": 73,
   "metadata": {},
   "outputs": [
    {
     "name": "stdout",
     "output_type": "stream",
     "text": [
      "cov matrix:  [[ 4.04241554e+03 -5.22194434e+03  6.34399330e+02 -2.21094578e+02\n",
      "   1.04980064e+00 -1.61221190e+01  2.46062476e+01]\n",
      " [-5.22194434e+03  8.72449000e+03 -1.14728896e+03  7.68321775e+02\n",
      "  -6.34573908e+02  2.83314735e+02 -5.05994707e+01]\n",
      " [ 6.34399330e+02 -1.14728896e+03  8.90029969e+02 -6.90528487e+02\n",
      "   1.44672421e+02 -9.10379998e+01  3.29380011e+01]\n",
      " [-2.21094578e+02  7.68321775e+02 -6.90528487e+02  1.48642391e+03\n",
      "  -6.36737456e+02  2.62948928e+02 -6.92178636e+01]\n",
      " [ 1.04980064e+00 -6.34573908e+02  1.44672421e+02 -6.36737456e+02\n",
      "   9.34185933e+02 -4.65686289e+02  8.55369859e+01]\n",
      " [-1.61221190e+01  2.83314735e+02 -9.10379998e+01  2.62948928e+02\n",
      "  -4.65686289e+02  2.60358009e+02 -5.18378093e+01]\n",
      " [ 2.46062476e+01 -5.05994707e+01  3.29380011e+01 -6.92178636e+01\n",
      "   8.55369859e+01 -5.18378093e+01  2.81768928e+01]]\n"
     ]
    }
   ],
   "source": [
    "# poisson likelihood UnFoLiNg\n",
    "def PoiHoodEntf(f, A, b, g):\n",
    "    lam = A@f + b\n",
    "    return -poisson.logpmf(g, lam).sum()\n",
    "\n",
    "f, yedges = np.histogram(gamma_Epred, bins=yedge)\n",
    "Bounds = [(1, 100000)]*len(f)\n",
    "\n",
    "estimator = minimize(PoiHoodEntf, f+100, args=(matrix, b, g), method='L-BFGS-B', bounds=Bounds)\n",
    "fLike = estimator['x']\n",
    "fLike_plot = estimator['x'][1:-1]\n",
    "\n",
    "Hesse_inv = estimator['hess_inv'].todense()\n",
    "print('cov matrix: ', Hesse_inv)"
   ]
  },
  {
   "cell_type": "code",
   "execution_count": 75,
   "metadata": {},
   "outputs": [
    {
     "name": "stdout",
     "output_type": "stream",
     "text": [
      "[93.40497847 29.83337005 38.55416853 30.56445538 16.13561306]\n"
     ]
    }
   ],
   "source": [
    "diag_cov = np.diag(Hesse_inv)\n",
    "diag_cov_sqrt = np.sqrt(diag_cov)\n",
    "print(diag_cov_sqrt[1:-1])\n",
    "std_devs = diag_cov_sqrt[1:-1]"
   ]
  },
  {
   "cell_type": "code",
   "execution_count": 77,
   "metadata": {},
   "outputs": [
    {
     "data": {
      "image/png": "[encoded data removed]",
      "text/plain": [
       "<Figure size 432x288 with 1 Axes>"
      ]
     },
     "metadata": {
      "needs_background": "light"
     },
     "output_type": "display_data"
    }
   ],
   "source": [
    "plt.errorbar(xpos, fLike_plot, xerr=xerr, yerr=std_devs, fmt='bx')\n",
    "plt.xscale('log')\n",
    "plt.yscale('log')\n",
    "plt.xlabel('E_wahr / GeV')\n",
    "plt.ylabel('# Events')\n",
    "plt.title('Entfaltung')\n",
    "plt.savefig('Entfaltung_2.pdf')\n",
    "\n",
    "plt.errorbar(xpos, fNSVD, xerr=xerr, yerr=[x.std_dev for x in fNSVD_unc], fmt='rx')\n",
    "plt.errorbar(xpos, fLike_plot, xerr=xerr, yerr=std_devs, fmt='bx')\n",
    "plt.xscale('log')\n",
    "plt.yscale('log')\n",
    "plt.xlabel('E_wahr / GeV')\n",
    "plt.ylabel('# Events')\n",
    "plt.title('Entfaltung')\n",
    "plt.savefig('Entfaltung_vgl.pdf')"
   ]
  },
  {
   "cell_type": "code",
   "execution_count": 79,
   "metadata": {},
   "outputs": [
    {
     "name": "stdout",
     "output_type": "stream",
     "text": [
      "[93.03693359 29.79849948 38.99121137 30.75542835 16.2159971 ]\n"
     ]
    }
   ],
   "source": [
    "#Zufallszahlen mit Multivarianten Gauss \n",
    "fLike_Var = np.random.multivariate_normal(fLike, Hesse_inv, size=10000)\n",
    "fLike_Var = fLike_Var[:,1:-1]\n",
    "fLike_Var[:, 0]\n",
    "std_devs = np.ones(5)\n",
    "for i in range(5):\n",
    "    std_devs[i] = np.std(fLike_Var[:, i])\n",
    "print(std_devs)"
   ]
  },
  {
   "cell_type": "code",
   "execution_count": 80,
   "metadata": {},
   "outputs": [],
   "source": [
    "def flux(f, A, dE, t):\n",
    "    return f / (A * dE * t)\n",
    "\n",
    "t_obs = crab_runs['ontime'].sum()\n",
    "\n",
    "Delta_E = np.diff(yedge[1:-1]*10**(-3))"
   ]
  },
  {
   "cell_type": "code",
   "execution_count": 81,
   "metadata": {},
   "outputs": [
    {
     "name": "stdout",
     "output_type": "stream",
     "text": [
      "A_eff:  [3.14066687e+07 2.44481124e+08 4.32338918e+08 5.49470259e+08\n",
      " 5.50166488e+08]\n"
     ]
    }
   ],
   "source": [
    "# detektorflaeche fuer effektive flaeche\n",
    "A = np.pi * 27000**2\n",
    "# N_sel / N_dim\n",
    "hist_sel, yedges = np.histogram(gamma_Epred, bins=yedge)\n",
    "hist_sim, yedges = np.histogram(corsika_events['total_energy'], bins=yedge)\n",
    "\n",
    "A_eff = hist_sel[1:-1] / hist_sim[1:-1] * A / 0.7\n",
    "print('A_eff: ', A_eff)"
   ]
  },
  {
   "cell_type": "code",
   "execution_count": 82,
   "metadata": {},
   "outputs": [
    {
     "name": "stdout",
     "output_type": "stream",
     "text": [
      "Phi_NSVD: [1.4018890204763758e-09+/-1.0370693304397901e-10\n",
      " 8.833372329309032e-11+/-4.848625446553254e-12\n",
      " 1.220386074903245e-11+/-9.450371770449845e-13\n",
      " 2.0140361631716092e-12+/-2.463038739884763e-13\n",
      " 1.3804005947663244e-13+/-7.303963046635752e-14]\n",
      "Phi_Like: [1.41279332e-09 8.56653452e-11 1.31116925e-11 1.71410722e-12\n",
      " 2.29675909e-13]\n",
      "Mean: [1.41241468e-09 8.56587376e-11 1.31171213e-11 1.71133490e-12\n",
      " 2.30437080e-13]\n",
      "Std: [9.52838829e-11 1.98568677e-12 7.44183140e-13 2.33932611e-13\n",
      " 6.23933714e-14]\n"
     ]
    },
    {
     "data": {
      "image/png": "[encoded data removed]",
      "text/plain": [
       "<Figure size 432x288 with 1 Axes>"
      ]
     },
     "metadata": {
      "needs_background": "light"
     },
     "output_type": "display_data"
    }
   ],
   "source": [
    "#Berechnung des Flusswertes\n",
    "phi_NSVD = fNSVD_unc/(A_eff * Delta_E * t_obs)\n",
    "phi_Like = fLike_plot/(A_eff * Delta_E * t_obs)\n",
    "\n",
    "#Mittelwert und Standardabweichung\n",
    "phi_Like_Var = fLike_Var/(A_eff * Delta_E * t_obs)\n",
    "mean = phi_Like_Var.mean(axis=0)\n",
    "std = phi_Like_Var.std(axis=0)\n",
    "print('Phi_NSVD:', phi_NSVD)\n",
    "print('Phi_Like:', phi_Like)\n",
    "print('Mean:',mean)\n",
    "print('Std:',std)\n",
    "\n",
    "plt.errorbar(xpos, [x.nominal_value for x in phi_NSVD], xerr=xerr, yerr=[x.std_dev for x in phi_NSVD], fmt ='rx', label='Naive SVD')\n",
    "plt.errorbar(xpos, phi_Like, xerr=xerr, yerr=std, fmt ='bx', label='Likelihood') \n",
    "plt.xscale('log')\n",
    "plt.yscale('log')\n",
    "plt.xlabel('Energie$_\\mathrm{wahr}$ /GeV')\n",
    "plt.ylabel(r'$\\frac{\\mathrm{d}N}{\\mathrm{d}E \\, \\mathrm{d}A \\, t_{obs}}$ [TeV$^{-1}$ cm$^{-2}$ s$^{-1}$]')\n",
    "plt.legend()\n",
    "plt.savefig('Fluss.pdf')"
   ]
  },
  {
   "cell_type": "code",
   "execution_count": 83,
   "metadata": {},
   "outputs": [],
   "source": [
    "def func(x, a, b, c, d):\n",
    "     return a * (x/b) ** (-c + d * np.log(x/b))"
   ]
  },
  {
   "cell_type": "code",
   "execution_count": 84,
   "metadata": {},
   "outputs": [
    {
     "data": {
      "image/png": "[encoded data removed]",
      "text/plain": [
       "<Figure size 432x288 with 1 Axes>"
      ]
     },
     "metadata": {
      "needs_background": "light"
     },
     "output_type": "display_data"
    }
   ],
   "source": [
    "x = np.linspace(450, 17000, 10000)\n",
    "y = func(x, 3.23*10**(-11), 1000, 2.47,-0.24)\n",
    "plt.plot(x, y, 'm-', label='MAGIC')                         \n",
    "plt.errorbar(xpos, mean, yerr = std, xerr=xerr, fmt='bx', label='Likelihood')\n",
    "#plt.fill_between(yedge[1:-1],mean-std,mean+std,facecolor='b',alpha=0.2, label='$1 \\sigma$-Umgebung') \n",
    "#plt.fill_betweenx(mean, yedge[1:-1]-[(yedge[i] - yedge[i-1])/2 for i in range(1,len(yedge)-1)], yedge[1:-1]+[(yedge[i] - yedge[i-1])/2 for i in range(1,len(yedge)-1)],facecolor='b',alpha=0.2) \n",
    "plt.xscale('log')\n",
    "plt.yscale('log')\n",
    "plt.xlabel('Energie$_\\mathrm{wahr}$ /GeV')\n",
    "plt.ylabel(r'$\\frac{\\mathrm{d}N}{\\mathrm{d}E \\, \\mathrm{d}A \\, t_{obs}}$ [TeV$^{-1}$ cm$^{-2}$ s$^{-1}$]')\n",
    "plt.legend()\n",
    "plt.savefig('Fluss_Like.pdf')"
   ]
  },
  {
   "cell_type": "code",
   "execution_count": null,
   "metadata": {},
   "outputs": [],
   "source": []
  }
 ],
 "metadata": {
  "kernelspec": {
   "display_name": "Python 3",
   "language": "python",
   "name": "python3"
  },
  "language_info": {
   "codemirror_mode": {
    "name": "ipython",
    "version": 3
   },
   "file_extension": ".py",
   "mimetype": "text/x-python",
   "name": "python",
   "nbconvert_exporter": "python",
   "pygments_lexer": "ipython3",
   "version": "3.7.7"
  }
 },
 "nbformat": 4,
 "nbformat_minor": 4
}
