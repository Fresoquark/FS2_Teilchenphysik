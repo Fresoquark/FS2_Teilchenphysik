{
 "cells": [
  {
   "cell_type": "code",
   "execution_count": 3,
   "metadata": {},
   "outputs": [],
   "source": [
    "from fact.io import read_h5py, to_h5py\n",
    "import pandas as pd\n",
    "import numpy as np"
   ]
  },
  {
   "cell_type": "code",
   "execution_count": 4,
   "metadata": {},
   "outputs": [],
   "source": [
    "crab_events = read_h5py('/home/nicole/Dokumente/TUDortmund/Master_second_semester/Schwerpunktspraktikum/FACT/open_crab_sample_dl3.hdf5', key='events')\n",
    "crab_runs = read_h5py('/home/nicole/Dokumente/TUDortmund/Master_second_semester/Schwerpunktspraktikum/FACT/open_crab_sample_dl3.hdf5', key='runs')\n",
    "gamma_events = read_h5py('/home/nicole/Dokumente/TUDortmund/Master_second_semester/Schwerpunktspraktikum/FACT/gamma_test_dl3.hdf5', key='events')\n",
    "corsika_events = read_h5py('/home/nicole/Dokumente/TUDortmund/Master_second_semester/Schwerpunktspraktikum/FACT/gamma_corsika_headers.hdf5', key='corsika_events')\n",
    "corsika_runs = read_h5py('/home/nicole/Dokumente/TUDortmund/Master_second_semester/Schwerpunktspraktikum/FACT/gamma_corsika_headers.hdf5', key='corsika_runs')"
   ]
  },
  {
   "cell_type": "code",
   "execution_count": 5,
   "metadata": {},
   "outputs": [],
   "source": [
    "lim_theta = np.sqrt(0.025)\n",
    "crab_events_pred = crab_events[crab_events['gamma_prediction'] > 0.8]\n",
    "crab_events_sel = crab_events_pred[crab_events_pred['theta_deg'] < lim_theta]"
   ]
  },
  {
   "cell_type": "markdown",
   "metadata": {},
   "source": [
    "Detektor-Signifikanz für den Krebsnebel"
   ]
  },
  {
   "cell_type": "code",
   "execution_count": 6,
   "metadata": {},
   "outputs": [],
   "source": [
    "import matplotlib.pyplot as plt\n",
    "lim_theta_plot = np.sqrt(0.3)\n",
    "\n",
    "crab_events_pred_1 = crab_events_pred[crab_events_pred['theta_deg_off_1'] < lim_theta_plot]\n",
    "crab_events_pred_2 = crab_events_pred[crab_events_pred['theta_deg_off_2'] < lim_theta_plot]\n",
    "crab_events_pred_3 = crab_events_pred[crab_events_pred['theta_deg_off_3'] < lim_theta_plot]\n",
    "crab_events_pred_4 = crab_events_pred[crab_events_pred['theta_deg_off_4'] < lim_theta_plot]\n",
    "crab_events_pred_5 = crab_events_pred[crab_events_pred['theta_deg_off_5'] < lim_theta_plot]\n",
    "\n",
    "crab_events_sel_plot = crab_events_pred[crab_events_pred['theta_deg'] < lim_theta_plot]"
   ]
  },
  {
   "cell_type": "code",
   "execution_count": 7,
   "metadata": {},
   "outputs": [],
   "source": [
    "crab_events_sel_1 = crab_events_pred[crab_events_pred['theta_deg_off_1'] < lim_theta]\n",
    "crab_events_sel_2 = crab_events_pred[crab_events_pred['theta_deg_off_2'] < lim_theta]\n",
    "crab_events_sel_3 = crab_events_pred[crab_events_pred['theta_deg_off_3'] < lim_theta]\n",
    "crab_events_sel_4 = crab_events_pred[crab_events_pred['theta_deg_off_4'] < lim_theta]\n",
    "crab_events_sel_5 = crab_events_pred[crab_events_pred['theta_deg_off_5'] < lim_theta]\n",
    "bkg = pd.concat([crab_events_sel_1, crab_events_sel_2, crab_events_sel_3, crab_events_sel_4, crab_events_sel_5])"
   ]
  },
  {
   "cell_type": "code",
   "execution_count": 8,
   "metadata": {},
   "outputs": [],
   "source": [
    "theta_deg_off = []\n",
    "for i in [1, 2, 3, 4, 5]:\n",
    "    exec('x = crab_events_pred_{}.theta_deg_off_{}.values'.format(i, i))\n",
    "    for el in x:\n",
    "        theta_deg_off.append(el)"
   ]
  },
  {
   "cell_type": "code",
   "execution_count": 32,
   "metadata": {},
   "outputs": [
    {
     "name": "stdout",
     "output_type": "stream",
     "text": [
      "250\n"
     ]
    },
    {
     "data": {
      "image/png": "[encoded data removed]",
      "text/plain": [
       "<Figure size 432x288 with 1 Axes>"
      ]
     },
     "metadata": {
      "needs_background": "light"
     },
     "output_type": "display_data"
    }
   ],
   "source": [
    "crab_events_sel_on = np.array(crab_events_sel_plot['theta_deg'].values)\n",
    "plt.hist((crab_events_sel_on)**2, bins =40, histtype='step', color='deeppink', label='On-events')\n",
    "\n",
    "plt.hist(np.array(theta_deg_off)**2, bins=40, histtype='step', color='dodgerblue', label='Off-events', weights=np.array([0.2 for el in theta_deg_off]))\n",
    "plt.vlines(0.025, color='black', linestyle='-.', ymin=0, ymax=400, label=r'$\\theta^{2}-cut$')\n",
    "plt.xlabel(r'$\\theta^2$ / $\\deg^2$')\n",
    "plt.legend()\n",
    "plt.text(0.06, 350,\n",
    "         r'''Source: Crab, $t_\\mathrm{{obs}}$ = 17.7h\n",
    "$N_\\mathrm{{on}}$ = {non}, $N_\\mathrm{{off}}$ = {noff}, $\\alpha$ = 0.2'''.format(non=len(crab_events_sel), noff=len(bkg)))\n",
    "plt.savefig('On_Off2.pdf')\n",
    "print(len(crab_events_sel_1.theta_deg_off_1.values))"
   ]
  },
  {
   "cell_type": "code",
   "execution_count": 10,
   "metadata": {},
   "outputs": [
    {
     "data": {
      "text/plain": [
       "26.275871877931035"
      ]
     },
     "execution_count": 10,
     "metadata": {},
     "output_type": "execute_result"
    }
   ],
   "source": [
    "alpha = 0.2\n",
    "n_on = len(crab_events_sel)\n",
    "n_off = len(bkg)\n",
    "sum1 = n_on * np.log((1 + alpha) / alpha * (n_on / (n_on + n_off)))\n",
    "sum2 = n_off * np.log((1 + alpha) * (n_off / (n_on + n_off)))\n",
    "S = np.sqrt(2) * np.sqrt(sum1 + sum2)\n",
    "S"
   ]
  },
  {
   "cell_type": "code",
   "execution_count": 11,
   "metadata": {},
   "outputs": [],
   "source": [
    "gammas_pred = gamma_events[gamma_events['gamma_prediction'] > 0.8]\n",
    "gammas_sel = gammas_pred[gammas_pred['theta_deg'] < lim_theta]"
   ]
  },
  {
   "cell_type": "code",
   "execution_count": 12,
   "metadata": {},
   "outputs": [],
   "source": [
    "gamma_Epred = gammas_sel['gamma_energy_prediction']\n",
    "corsika_totalE = gammas_sel['corsika_event_header_total_energy']\n",
    "\n",
    "max_bin = max(max(gamma_Epred), max(corsika_totalE))\n",
    "min_bin = min(min(gamma_Epred), min(corsika_totalE))\n",
    "\n",
    "if max_bin<= max(np.logspace(np.log10(500), np.log10(20e3), 11)):\n",
    "    next_bin = 12\n",
    "    bins_1 = np.ones(next_bin)\n",
    "else:\n",
    "    next_bin = 13\n",
    "    bins_1 = np.ones(next_bin)\n",
    "    bins_1[-1] = 50e3\n",
    "bins_1[0] = 0\n",
    "for i in range(1, next_bin-1, 1):\n",
    "    bins_1[i] = np.logspace(np.log10(500), np.log10(15e3), 11)[i-1]"
   ]
  },
  {
   "cell_type": "code",
   "execution_count": 13,
   "metadata": {},
   "outputs": [],
   "source": [
    "bins1 = np.ones(8)\n",
    "bins1[0] = 0\n",
    "for i in range(1, 7, 1):\n",
    "    bins1[i] = np.logspace(np.log10(500), np.log10(15e3), 6)[i-1]\n",
    "bins1[-1] = 50e3"
   ]
  },
  {
   "cell_type": "code",
   "execution_count": 14,
   "metadata": {},
   "outputs": [
    {
     "data": {
      "text/plain": [
       "<Figure size 432x288 with 0 Axes>"
      ]
     },
     "metadata": {},
     "output_type": "display_data"
    },
    {
     "data": {
      "image/png": "[encoded data removed]",
      "text/plain": [
       "<Figure size 288x493.714 with 2 Axes>"
      ]
     },
     "metadata": {
      "needs_background": "light"
     },
     "output_type": "display_data"
    }
   ],
   "source": [
    "plt.figure(constrained_layout=True)\n",
    "matrix, xedge, yedge = np.histogram2d(gamma_Epred, corsika_totalE, bins=[bins_1, bins1])\n",
    "\n",
    "matrix = matrix / np.sum(matrix, axis=0)\n",
    "# print(matrix)\n",
    "plt.matshow(matrix)\n",
    "plt.xlabel('corsika')\n",
    "plt.ylabel('gamma prediction')\n",
    "plt.colorbar()\n",
    "plt.savefig('Matrix.pdf')"
   ]
  },
  {
   "cell_type": "code",
   "execution_count": 15,
   "metadata": {},
   "outputs": [
    {
     "data": {
      "image/png": "[encoded data removed]",
      "text/plain": [
       "<Figure size 432x288 with 2 Axes>"
      ]
     },
     "metadata": {
      "needs_background": "light"
     },
     "output_type": "display_data"
    }
   ],
   "source": [
    "plt.subplot(1, 2, 1)\n",
    "a = np.full_like(bkg['gamma_energy_prediction'], 0.2)\n",
    "b, bins_b, p = plt.hist(bkg['gamma_energy_prediction'], bins=xedge, weights=a, color='b', label='Off-Events')\n",
    "\n",
    "plt.xscale('log')\n",
    "plt.yscale('log')\n",
    "plt.xlim(1e2, 1e5)\n",
    "plt.xlabel('E_Est / GeV')\n",
    "plt.ylabel('# Events')\n",
    "plt.legend()\n",
    "plt.title('Energieverteilung')\n",
    "plt.subplot(1, 2, 2)\n",
    "g, bins_g, p = plt.hist(crab_events_sel['gamma_energy_prediction'], bins=xedge, color='c', label='On-Events')\n",
    "\n",
    "plt.xscale('log')\n",
    "plt.yscale('log')\n",
    "plt.xlim(1e2, 1e5)\n",
    "plt.xlabel('E_Est / GeV')\n",
    "plt.legend()\n",
    "plt.title('Energieverteilung')\n",
    "plt.savefig('E_verteilung.pdf')"
   ]
  },
  {
   "cell_type": "code",
   "execution_count": 34,
   "metadata": {},
   "outputs": [
    {
     "name": "stdout",
     "output_type": "stream",
     "text": [
      "[[-1.09680173e-15  3.67026028e+00  3.70914269e-01 -1.72583365e+00\n",
      "   1.99119817e+00 -5.31961583e-01 -4.76535113e-01  2.09981307e-01\n",
      "   1.25408197e-01 -8.48608370e-02 -4.48368334e-02  3.34308740e-02]\n",
      " [ 1.32951507e-15 -3.90480604e+00  1.18115318e+00  1.88410598e+00\n",
      "  -2.70024946e+00  7.40921917e-01  6.55078307e-01 -2.88991971e-01\n",
      "  -1.72498058e-01  1.16701059e-01  6.16657960e-02 -4.59724567e-02]\n",
      " [-4.27125389e-16  1.25722623e+00 -5.66334524e-01  8.53045349e-01\n",
      "   2.07471393e+00 -7.04717127e-01 -5.58180686e-01  2.49845354e-01\n",
      "   1.48037729e-01 -1.00180316e-01 -5.29527431e-02  3.94440485e-02]\n",
      " [ 3.33764419e-17 -4.38839092e-01  1.87265067e-01 -3.56133814e-01\n",
      "  -9.58822486e-02  1.89596004e+00  8.69905052e-01 -5.90367604e-01\n",
      "  -3.00161403e-01  2.26239202e-01  1.17069325e-01 -8.80127757e-02]\n",
      " [ 2.97201291e-17  1.50361191e-01 -6.33239475e-02  1.20318885e-01\n",
      "  -2.02659416e-03 -5.87120043e-01  5.46667820e-01  1.91946632e+00\n",
      "   6.13331628e-01 -7.26104744e-01 -3.47997849e-01  2.75104735e-01]\n",
      " [ 2.06605494e-16 -5.46108424e-02  2.29721094e-02 -4.37434081e-02\n",
      "   3.04445707e-03  2.02915967e-01 -2.29245833e-01 -5.65041581e-01\n",
      "   8.17372513e-01  1.86494131e+00  6.79541839e-01 -7.65570715e-01]\n",
      " [-1.56135630e-16  1.23610372e-02 -5.19887955e-03  9.90336659e-03\n",
      "  -7.59646644e-04 -4.56509125e-02  5.35214461e-02  1.19300474e-01\n",
      "  -2.08100307e-01 -2.62507680e-01  4.77319731e-01  1.59745681e+00]]\n",
      "[ -0.31269851 210.21412235 235.60702628 102.47084228  63.46346073\n",
      "  16.90320039   2.57228695]\n",
      "[210.21412235374987+/-60.87596837752988\n",
      " 235.60702627553025+/-36.73728066611531\n",
      " 102.47084227890043+/-24.205279710878436\n",
      " 63.46346073183984+/-16.530707158186438\n",
      " 16.903200387556158+/-9.938095967118656]\n",
      "fNSVD:  [210.21412235 235.60702628 102.47084228  63.46346073  16.90320039]\n"
     ]
    }
   ],
   "source": [
    "# svd entfaltung\n",
    "from scipy.stats import poisson\n",
    "from scipy.optimize import minimize\n",
    "from scipy.optimize import curve_fit\n",
    "from uncertainties import unumpy as unp\n",
    "\n",
    "pseudo_inv = unp.ulinalg.pinv(matrix)\n",
    "print(pseudo_inv)\n",
    "from uncertainties import ufloat\n",
    "\n",
    "g_unc = np.array([ufloat(x, np.sqrt(x)) for x in g])\n",
    "b_unc = np.array([ufloat(x, np.sqrt(x)) for x in b])\n",
    "\n",
    "# entfaltung JETZT\n",
    "ev = g-b\n",
    "ev_unc = g_unc - b_unc\n",
    "fNSVD = pseudo_inv@ev\n",
    "fNSVD_unc = pseudo_inv.dot(ev_unc)[1:-1]\n",
    "print(fNSVD)\n",
    "print(fNSVD_unc)\n",
    "fNSVD = fNSVD[1:-1]\n",
    "print('fNSVD: ', fNSVD)"
   ]
  },
  {
   "cell_type": "code",
   "execution_count": 17,
   "metadata": {},
   "outputs": [],
   "source": [
    "xpos = [yedge[i] - (yedge[i] - yedge[i-1])/2 for i in range(1, len(yedge))]\n",
    "xpos = xpos[1:-1]\n",
    "xerr = [(yedge[i] - yedge[i-1])/2 for i in range(2, len(yedge)-1)]"
   ]
  },
  {
   "cell_type": "code",
   "execution_count": 18,
   "metadata": {},
   "outputs": [
    {
     "data": {
      "image/png": "[encoded data removed]",
      "text/plain": [
       "<Figure size 432x288 with 1 Axes>"
      ]
     },
     "metadata": {
      "needs_background": "light"
     },
     "output_type": "display_data"
    }
   ],
   "source": [
    "plt.errorbar(xpos, [x.nominal_value for x in fNSVD_unc], xerr=xerr, yerr=[x.std_dev for x in fNSVD_unc], fmt='bx')\n",
    "plt.xscale('log')\n",
    "plt.yscale('log')\n",
    "plt.xlabel('E_est / GeV')\n",
    "plt.ylabel('# Events')\n",
    "plt.title('SVD Entfaltung')\n",
    "plt.savefig('NSVD.pdf')"
   ]
  },
  {
   "cell_type": "code",
   "execution_count": 36,
   "metadata": {},
   "outputs": [
    {
     "name": "stdout",
     "output_type": "stream",
     "text": [
      "[188.74639742 241.08359446  99.47169522  67.20560448  13.37277384]\n",
      "cov matrix:  [[ 8.48177345e+02 -1.02755801e+03  2.66934581e+02 -3.11169653e+01\n",
      "   1.52010133e+01 -1.29205620e+01  2.21546262e+00]\n",
      " [-1.02755801e+03  1.67899283e+03 -3.37658376e+02  3.76711351e+01\n",
      "  -2.48550989e+01  1.83605946e+01  7.74475540e+00]\n",
      " [ 2.66934581e+02 -3.37658376e+02  2.46574195e+02 -4.12416684e+01\n",
      "   5.39000119e+01 -4.53633545e+00 -1.31495791e+01]\n",
      " [-3.11169653e+01  3.76711351e+01 -4.12416684e+01  3.14853434e+02\n",
      "  -1.15559877e+02  9.74869504e+00  4.76577915e-01]\n",
      " [ 1.52010133e+01 -2.48550989e+01  5.39000119e+01 -1.15559877e+02\n",
      "   1.93824758e+02 -4.68983099e+01  5.59121846e+00]\n",
      " [-1.29205620e+01  1.83605946e+01 -4.53633545e+00  9.74869504e+00\n",
      "  -4.68983099e+01  3.89390430e+01 -5.08580971e+00]\n",
      " [ 2.21546262e+00  7.74475540e+00 -1.31495791e+01  4.76577915e-01\n",
      "   5.59121846e+00 -5.08580971e+00  6.99845060e+00]]\n"
     ]
    }
   ],
   "source": [
    "# poisson likelihood UnFoLiNg\n",
    "def PoiHoodEntf(f, A, b, g):\n",
    "    lam = A@f + b\n",
    "    return -poisson.logpmf(g, lam).sum()\n",
    "\n",
    "f, yedges = np.histogram(gamma_Epred, bins=yedge)\n",
    "Bounds = [(1, 100000)]*len(f)\n",
    "\n",
    "estimator = minimize(PoiHoodEntf, f+100, args=(matrix, b, g), method='L-BFGS-B', bounds=Bounds)\n",
    "fLike = estimator['x']\n",
    "fLike_plot = estimator['x'][1:-1]\n",
    "\n",
    "Hesse_inv = estimator['hess_inv'].todense()\n",
    "print(fLike_plot)\n",
    "print('cov matrix: ', Hesse_inv)"
   ]
  },
  {
   "cell_type": "code",
   "execution_count": 39,
   "metadata": {},
   "outputs": [
    {
     "name": "stdout",
     "output_type": "stream",
     "text": [
      "[40.97551499 15.70268115 17.74410983 13.92209604  6.24011562]\n"
     ]
    }
   ],
   "source": [
    "diag_cov = np.diag(Hesse_inv)\n",
    "diag_cov_sqrt = np.sqrt(diag_cov)\n",
    "print(diag_cov_sqrt[1:-1])\n",
    "std_devs = diag_cov_sqrt[1:-1]"
   ]
  },
  {
   "cell_type": "code",
   "execution_count": 21,
   "metadata": {},
   "outputs": [
    {
     "data": {
      "image/png": "[encoded data removed]",
      "text/plain": [
       "<Figure size 432x288 with 1 Axes>"
      ]
     },
     "metadata": {
      "needs_background": "light"
     },
     "output_type": "display_data"
    }
   ],
   "source": [
    "plt.errorbar(xpos, fLike_plot, xerr=xerr, yerr=std_devs, fmt='bx')\n",
    "plt.xscale('log')\n",
    "plt.yscale('log')\n",
    "plt.xlabel('E_wahr / GeV')\n",
    "plt.ylabel('# Events')\n",
    "plt.title('Entfaltung')\n",
    "plt.savefig('Entfaltung_2.pdf')\n",
    "\n",
    "plt.errorbar(xpos, fNSVD, xerr=xerr, yerr=[x.std_dev for x in fNSVD_unc], fmt='rx')\n",
    "plt.errorbar(xpos, fLike_plot, xerr=xerr, yerr=std_devs, fmt='bx')\n",
    "plt.xscale('log')\n",
    "plt.yscale('log')\n",
    "plt.xlabel('E_wahr / GeV')\n",
    "plt.ylabel('# Events')\n",
    "plt.title('Entfaltung')\n",
    "plt.savefig('Entfaltung_vgl.pdf')"
   ]
  },
  {
   "cell_type": "code",
   "execution_count": 22,
   "metadata": {},
   "outputs": [
    {
     "name": "stdout",
     "output_type": "stream",
     "text": [
      "[40.78711964 15.70602932 17.9812369  13.92231714  6.19905858]\n"
     ]
    }
   ],
   "source": [
    "#Zufallszahlen mit Multivarianten Gauss \n",
    "fLike_Var = np.random.multivariate_normal(fLike, Hesse_inv, size=10000)\n",
    "fLike_Var = fLike_Var[:,1:-1]\n",
    "fLike_Var[:, 0]\n",
    "std_devs = np.ones(5)\n",
    "for i in range(5):\n",
    "    std_devs[i] = np.std(fLike_Var[:, i])\n",
    "print(std_devs)"
   ]
  },
  {
   "cell_type": "code",
   "execution_count": 23,
   "metadata": {},
   "outputs": [],
   "source": [
    "def flux(f, A, dE, t):\n",
    "    return f / (A * dE * t)\n",
    "\n",
    "t_obs = crab_runs['ontime'].sum()\n",
    "\n",
    "Delta_E = np.diff(yedge[1:-1]*10**(-3))"
   ]
  },
  {
   "cell_type": "code",
   "execution_count": 24,
   "metadata": {},
   "outputs": [
    {
     "name": "stdout",
     "output_type": "stream",
     "text": [
      "A_eff:  [3.14066687e+07 2.44481124e+08 4.32338918e+08 5.49470259e+08\n",
      " 5.50166488e+08]\n"
     ]
    }
   ],
   "source": [
    "# detektorflaeche fuer effektive flaeche\n",
    "A = np.pi * 27000**2\n",
    "# N_sel / N_dim\n",
    "hist_sel, yedges = np.histogram(gamma_Epred, bins=yedge)\n",
    "hist_sim, yedges = np.histogram(corsika_events['total_energy'], bins=yedge)\n",
    "\n",
    "A_eff = hist_sel[1:-1] / hist_sim[1:-1] * A / 0.7\n",
    "print('A_eff: ', A_eff)"
   ]
  },
  {
   "cell_type": "code",
   "execution_count": 25,
   "metadata": {},
   "outputs": [
    {
     "name": "stdout",
     "output_type": "stream",
     "text": [
      "Phi_NSVD: [2.1529103594521411e-10+/-6.234619325009738e-11\n",
      " 1.5700178306895414e-11+/-2.4480673012440442e-12\n",
      " 1.9557502946367194e-12+/-4.619800313289931e-13\n",
      " 4.827171621152915e-13+/-1.2573622609198917e-13\n",
      " 6.503748445570554e-14+/-3.823824761946384e-14]\n",
      "Phi_Like: [1.93304841e-10 1.60651211e-11 1.89850881e-12 5.11180738e-13\n",
      " 5.14536627e-14]\n",
      "Mean: [1.93037710e-10 1.60684895e-11 1.89678679e-12 5.10774176e-13\n",
      " 5.13352210e-14]\n",
      "Std: [4.17721756e-11 1.04660487e-12 3.43188448e-13 1.05896233e-13\n",
      " 2.38517658e-14]\n"
     ]
    },
    {
     "data": {
      "image/png": "[encoded data removed]",
      "text/plain": [
       "<Figure size 432x288 with 1 Axes>"
      ]
     },
     "metadata": {
      "needs_background": "light"
     },
     "output_type": "display_data"
    }
   ],
   "source": [
    "#Berechnung des Flusswertes\n",
    "phi_NSVD = fNSVD_unc/(A_eff * Delta_E * t_obs)\n",
    "phi_Like = fLike_plot/(A_eff * Delta_E * t_obs)\n",
    "\n",
    "#Mittelwert und Standardabweichung\n",
    "phi_Like_Var = fLike_Var/(A_eff * Delta_E * t_obs)\n",
    "mean = phi_Like_Var.mean(axis=0)\n",
    "std = phi_Like_Var.std(axis=0)\n",
    "print('Phi_NSVD:', phi_NSVD)\n",
    "print('Phi_Like:', phi_Like)\n",
    "print('Mean:',mean)\n",
    "print('Std:',std)\n",
    "\n",
    "plt.errorbar(xpos, [x.nominal_value for x in phi_NSVD], xerr=xerr, yerr=[x.std_dev for x in phi_NSVD], fmt ='rx', label='Naive SVD')\n",
    "plt.errorbar(xpos, phi_Like, xerr=xerr, yerr=std, fmt ='bx', label='Likelihood') \n",
    "plt.xscale('log')\n",
    "plt.yscale('log')\n",
    "plt.xlabel('Energie$_\\mathrm{wahr}$ /GeV')\n",
    "plt.ylabel(r'$\\frac{\\mathrm{d}N}{\\mathrm{d}E \\, \\mathrm{d}A \\, t_{obs}}$ [TeV$^{-1}$ cm$^{-2}$ s$^{-1}$]')\n",
    "plt.legend()\n",
    "plt.savefig('Fluss.pdf')"
   ]
  },
  {
   "cell_type": "code",
   "execution_count": 26,
   "metadata": {},
   "outputs": [],
   "source": [
    "def func(x, a, b, c, d):\n",
    "     return a * (x/b) ** (-c + d * np.log(x/b))"
   ]
  },
  {
   "cell_type": "code",
   "execution_count": 27,
   "metadata": {},
   "outputs": [
    {
     "data": {
      "image/png": "[encoded data removed]",
      "text/plain": [
       "<Figure size 432x288 with 1 Axes>"
      ]
     },
     "metadata": {
      "needs_background": "light"
     },
     "output_type": "display_data"
    }
   ],
   "source": [
    "x = np.linspace(450, 17000, 10000)\n",
    "y = func(x, 3.23*10**(-11), 1000, 2.47,-0.24)\n",
    "phi_hegra = func(x, 2.83*10**(-11), 1000, 2.62, 0)\n",
    "plt.plot(x, y, 'm-', label='MAGIC')  \n",
    "plt.plot(x, phi_hegra, 'g-', label='HEGRA')\n",
    "plt.errorbar(xpos, mean, yerr = std, xerr=xerr, fmt='bx', label='Likelihood')\n",
    "#plt.fill_between(yedge[1:-1],mean-std,mean+std,facecolor='b',alpha=0.2, label='$1 \\sigma$-Umgebung') \n",
    "#plt.fill_betweenx(mean, yedge[1:-1]-[(yedge[i] - yedge[i-1])/2 for i in range(1,len(yedge)-1)], yedge[1:-1]+[(yedge[i] - yedge[i-1])/2 for i in range(1,len(yedge)-1)],facecolor='b',alpha=0.2) \n",
    "plt.xscale('log')\n",
    "plt.yscale('log')\n",
    "plt.xlabel('Energie$_\\mathrm{wahr}$ /GeV')\n",
    "plt.ylabel(r'$\\frac{\\mathrm{d}N}{\\mathrm{d}E \\, \\mathrm{d}A \\, t_{obs}}$ [TeV$^{-1}$ cm$^{-2}$ s$^{-1}$]')\n",
    "plt.legend()\n",
    "plt.savefig('Fluss_Like.pdf')"
   ]
  },
  {
   "cell_type": "code",
   "execution_count": null,
   "metadata": {},
   "outputs": [],
   "source": []
  },
  {
   "cell_type": "code",
   "execution_count": null,
   "metadata": {},
   "outputs": [],
   "source": []
  },
  {
   "cell_type": "code",
   "execution_count": null,
   "metadata": {},
   "outputs": [],
   "source": []
  },
  {
   "cell_type": "code",
   "execution_count": null,
   "metadata": {},
   "outputs": [],
   "source": []
  }
 ],
 "metadata": {
  "kernelspec": {
   "display_name": "Python 3",
   "language": "python",
   "name": "python3"
  },
  "language_info": {
   "codemirror_mode": {
    "name": "ipython",
    "version": 3
   },
   "file_extension": ".py",
   "mimetype": "text/x-python",
   "name": "python",
   "nbconvert_exporter": "python",
   "pygments_lexer": "ipython3",
   "version": "3.8.3"
  }
 },
 "nbformat": 4,
 "nbformat_minor": 4
}
