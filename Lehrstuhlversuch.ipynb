{
 "cells": [
  {
   "cell_type": "markdown",
   "metadata": {
    "heading_collapsed": true
   },
   "source": [
    "# Messung von Materie-Antimaterie Unterschieden mit dem LHCb-Experiment"
   ]
  },
  {
   "cell_type": "markdown",
   "metadata": {
    "hidden": true
   },
   "source": [
    "![](http://lhcb-public.web.cern.ch/lhcb-public/en/LHCb-outreach/multimedia/LHCbDetectorpnglight1.png)"
   ]
  },
  {
   "cell_type": "markdown",
   "metadata": {
    "heading_collapsed": true
   },
   "source": [
    "# Einführung\n",
    "### Drückt den grauen Pfeil um den jeweiligen Abschnitt zu erweitern"
   ]
  },
  {
   "cell_type": "markdown",
   "metadata": {
    "hidden": true
   },
   "source": [
    "<b> Willkommen zu dem E5a FP2 Teilchenphysik Versuch mit LHCb Open Data</b>\n",
    "\n",
    "<div align=\"justify\"> Dieses Notebook hilft euch die vom Large Hadron Collider (LHC) am Cern aufgezeichneten Daten zu analysieren. Das Ziel eurer Analyse ist es einen Unterschied im Verhalten von Materie und [Antimaterie](https://en.wikipedia.org/wiki/Antimatter) sichtbar zu machen. Dieser Versuch soll euch in die Lage bringen selber eine Datenanalyse durchzuführen auf einem zu der aktuellen CERN Forschung ähnlichem Niveau. Dabei wird keine tiefergehende Kenntnis der Teilchenphysik vorausgesetzt.\n",
    "    \n"
   ]
  },
  {
   "cell_type": "markdown",
   "metadata": {
    "heading_collapsed": true
   },
   "source": [
    "# Erste Schritte\n",
    "\n",
    "## Ziele:\n",
    "* Vertraut Werden mit der Programmier-Hilfe\n",
    "* Simulierte Daten einlesen\n",
    "____"
   ]
  },
  {
   "cell_type": "markdown",
   "metadata": {
    "hidden": true
   },
   "source": [
    "<div align=\"justify\"> Wie Forscher am CERN werdet ihr euren eigenen Code für die Analyse schreiben. Dazu soll die Programmiersprache Python verwendet werden. Es werden jedoch keine vorherigen Kenntnisse dieser Sprache vorausgesetzt, da bei den Aufgaben Hinweise und Beispiele zu finden sein werden. Sollten euch diese dennoch nicht aurreichen, findet ihr möglicherweise [Python Tutorials](http://www.tutorialspoint.com/python/) hilfreich.\n",
    "\n",
    "Eine große Hilfe für das Schreiben des Python Codes kann eine [Analyse von Nobelpreisträgern](Example-Analysis.ipynb) sein. Diese Analyse verwendet sehr ähnliche Techniken, wie sie für diesen Versuch benötigt werden.\n",
    "Das Lesen und Verstehen des entsprechenden Codes sollte daher diesen Versuch deutlich einfacher gestalten.\n",
    "\n",
    "WICHTIG: Jede der folgenden Code-Boxen wird ausgeführt, indem Shift+Enter gedrückt wird, nachdem die Box ausgewählt worden ist.\n",
    "Wenn `In [x]:` durch `In [*]:` ersetzt wird, bedeutet dies, dass der Code der entsprechenden Box gerade läuft.\n"
   ]
  },
  {
   "cell_type": "markdown",
   "metadata": {
    "heading_collapsed": true,
    "hidden": true
   },
   "source": [
    "## Einlesen der simulierten Daten"
   ]
  },
  {
   "cell_type": "markdown",
   "metadata": {
    "hidden": true
   },
   "source": [
    "Um anzufangen und die Funktion des ersten Codes zu überprüfen ist es sinnvoll mit der Analyse von simulierten anstelle von echten Daten zu beginnen. Echte Daten enthalten sowohl Ereignisse der Art, die untersucht werden sollen, also Signal, als auch andere ähnliche Ereignisse als Untergrund. Darüber hinaus unterliegen echte Daten verschiedenen Effekten der Detektorauflösung.\n",
    "Die hier zur Verfügung gestellten simulierten Daten hingegen enthalten auschließlich von einem perfekten Detektor aufgezeichnete Signalereignisse."
   ]
  },
  {
   "cell_type": "code",
   "execution_count": 1,
   "metadata": {
    "hidden": true,
    "run_control": {
     "frozen": false,
     "read_only": false
    }
   },
   "outputs": [
    {
     "name": "stdout",
     "output_type": "stream",
     "text": [
      "Populating the interactive namespace from numpy and matplotlib\n",
      "Welcome to JupyROOT 6.16/00\n"
     ]
    }
   ],
   "source": [
    "from __future__ import print_function\n",
    "from __future__ import division\n",
    "\n",
    "%pylab inline\n",
    "# Setup the notebook\n",
    "\n",
    "import functools\n",
    "import os\n",
    "import warnings\n",
    "from subprocess import check_output\n",
    "\n",
    "import numpy\n",
    "from ipywidgets import interact\n",
    "import pandas\n",
    "from root_pandas import read_root\n",
    "from scipy import stats as st\n",
    "from matplotlib import pyplot as plt\n",
    "\n",
    "\n",
    "warnings.filterwarnings(\"ignore\")\n",
    "rcParams['image.cmap'] = 'Blues'  # change default colormap\n",
    "pandas.set_option('display.max_columns', None)\n"
   ]
  },
  {
   "cell_type": "markdown",
   "metadata": {
    "hidden": true
   },
   "source": [
    "Falls ihr Hilfe benötigt, werft einen Blick in den [Beispiel Code](Example-Analysis.ipynb), in die Hinweise in jedem Abschnitt, in die Funktionsübersicht in eurer Anleitung oder fragt euren Betreuer."
   ]
  },
  {
   "cell_type": "code",
   "execution_count": 2,
   "metadata": {
    "hidden": true
   },
   "outputs": [],
   "source": [
    "# Let us now load the simulated data\n",
    "sim_data = read_root('/data/PhaseSpaceSimulation.root')"
   ]
  },
  {
   "cell_type": "markdown",
   "metadata": {
    "hidden": true
   },
   "source": [
    "<div align=\"justify\">\n",
    "Jetzt, wo ihr Zugang zu den Daten habt, könnt ihr eine Vielzahl an Funktionen nutzen um die Daten zu analysieren. Diese Funktionen stammen aus den Bilbliotheken, die ihr am Anfang geladen habt. Versucht eine Tabelle mit Informationen aus euren Daten zu erstellen um eine Übersicht über die typischen Werte für die verschiedenen Variablen zu bekommen. Die Kenntnis über die jeweiligen Wertebereiche wird euch später beim Plotten der Daten helfen.</div>\n",
    "\n",
    "Die Daten enthalten Informationen von Ereignissen, die vom Detektor aufgezeichnet worden sind. Ein Ereignis umfasst dabei die Teilchen, die in der Kollision zweier Protonenpakete enstanden sind. Stellt man sich die Daten als Tabelle vor, so beschreibt jede Zeile ein einzelnes Ereignis und jede Spalte eine gemessene Größe. \n",
    "\n",
    "Bei diesem Versuch sollt ihr die Zerfälle von, als B<sup>+</sup> und B<sup>-</sup> Mesonen bekannten, Teilchen in drei Kaonen (K<sup>+</sup> oder K<sup>-</sup>) untersuchen. Die euch zur Verfügung gestellten Daten enthalten Ereignisse, bei denen dieser Zerfall stattgefunden haben könnte. Dabei sind Detektorinformationen genutzt worden um Spuren von möglichen Kaonen zu rekonstruieren. Die Daten enthalten den gemessenen Impuls, die Ladung und einen Wert für die Wahrscheinlichkeit zu einem Kaon zu gehören für jede Spur. Dabei enthält jedes Ereignis in den Daten jeweils drei rekonstruierte Spuren, die aus dem Zerfall eines B<sup>+</sup> or B<sup>-</sup> Meson stammen könnten. Eine Übersicht über die in den Daten enthaltenen Informationen kann der Anleitung entnomen werden."
   ]
  },
  {
   "cell_type": "code",
   "execution_count": 18,
   "metadata": {
    "hidden": true,
    "run_control": {
     "frozen": false,
     "read_only": false
    }
   },
   "outputs": [
    {
     "name": "stdout",
     "output_type": "stream",
     "text": [
      "B_FlightDistance\n",
      "B_VertexChi2\n",
      "H1_PX\n",
      "H1_PY\n",
      "H1_PZ\n",
      "H1_ProbK\n",
      "H1_ProbPi\n",
      "H1_Charge\n",
      "H1_IPChi2\n",
      "H1_isMuon\n",
      "H2_PX\n",
      "H2_PY\n",
      "H2_PZ\n",
      "H2_ProbK\n",
      "H2_ProbPi\n",
      "H2_Charge\n",
      "H2_IPChi2\n",
      "H2_isMuon\n",
      "H3_PX\n",
      "H3_PY\n",
      "H3_PZ\n",
      "H3_ProbK\n",
      "H3_ProbPi\n",
      "H3_Charge\n",
      "H3_IPChi2\n",
      "H3_isMuon\n"
     ]
    }
   ],
   "source": [
    "# make a table of the data variables here \n",
    "for col in sim_data.columns:\n",
    "    print(col)"
   ]
  },
  {
   "cell_type": "markdown",
   "metadata": {
    "heading_collapsed": true,
    "hidden": true
   },
   "source": [
    "### Hinweise"
   ]
  },
  {
   "cell_type": "markdown",
   "metadata": {
    "hidden": true
   },
   "source": [
    "**Erstellen einer Tabelle** - Use your `head()` - und vergesst nicht in den [Beispiel Code](Example-Analysis.ipynb) zu sehen um zu erfahren, wie dort bestimmmte Sachen umgesetzt wurden."
   ]
  },
  {
   "cell_type": "markdown",
   "metadata": {},
   "source": [
    "# Rekonstruktion der invarianten Masse\n",
    "\n",
    "## Ziele:\n",
    "* Plottet ein Histogram mit dem Impuls eines Kaon Kandidaten\n",
    "* Berechnet die Energie eines jeweiligen Kaon Kandidaten\n",
    "* Plottet die invariante Masse der B<sup>+</sup> / B<sup>-</sup> Mesonen"
   ]
  },
  {
   "cell_type": "markdown",
   "metadata": {},
   "source": [
    "### Plotten eines Features:\n",
    "Ihr könnt jedes in den Daten enthaltenes Feature in ein Histogram plotten. Dabei kann das Binning beliebig gewählt werden. Achtet darauf ein geeignetes Binning zu verwenden, bei dem die Verteilung der Variable gut erkennbar ist. Versucht nun die x-Komponente vom Impuls des ersten Kaon Kandidaten (`H1_PX`) zu plotten.\n",
    "\n"
   ]
  },
  {
   "cell_type": "code",
   "execution_count": null,
   "metadata": {
    "collapsed": true,
    "run_control": {
     "frozen": false,
     "read_only": false
    }
   },
   "outputs": [],
   "source": [
    "# make a histogram of the H1_PX variable here"
   ]
  },
  {
   "cell_type": "markdown",
   "metadata": {},
   "source": [
    "Der Impuls ist eine **vektorielle** Größe und hat eine x-, y- und z-Komponente. Vergleicht die Verteilungen der verschiedenen Impulskomponenten.\n",
    "Berechnet anschließend den Betrag des Impulses vom ersten Kaon und plottet ihn als Histogramm. (Dafür werdet ihr die Variablen `H1_PX`, `H1_PY` und `H1_PZ` benötigen)\n"
   ]
  },
  {
   "cell_type": "code",
   "execution_count": null,
   "metadata": {
    "collapsed": true
   },
   "outputs": [],
   "source": [
    "# make a histogram of the H1_PX, H1_PY and H1_PZ variables here"
   ]
  },
  {
   "cell_type": "code",
   "execution_count": null,
   "metadata": {
    "collapsed": true
   },
   "outputs": [],
   "source": [
    "# calculate a variable for the magnitude of the momentum of the first kaon "
   ]
  },
  {
   "cell_type": "markdown",
   "metadata": {
    "heading_collapsed": true
   },
   "source": [
    "### Hinweise"
   ]
  },
  {
   "cell_type": "markdown",
   "metadata": {
    "hidden": true
   },
   "source": [
    "**Histogramm plotten** - Ihr könnt die `hist()` Funktion nutzen. Mit den Parametern `bins(n)`und `range(x,y)`könnt ihr das Binning und den Bereich des Histogramms festlegen.\n"
   ]
  },
  {
   "cell_type": "markdown",
   "metadata": {},
   "source": [
    "## Energie und Masse\n",
    "\n",
    "Einsteins Spezielle Relativitätstheorie verknüpft Energie, Masse und Impuls.\n",
    "Der Impuls der Kaon Kandidaten wird vom Detektor gemessen (Eine Komponente und den Betrag habt ihr bereits geplottet). Die invariante Masse des Kaon ist gut bekannt und kann recherchiert werden. Aus diesen Größen könnt ihr nun die Energie der drei Kaonen berechnen.   \n",
    "\n",
    "\n",
    "<center> $E^2 = p^2 + m^2$ </center>"
   ]
  },
  {
   "cell_type": "code",
   "execution_count": null,
   "metadata": {
    "collapsed": true,
    "run_control": {
     "frozen": false,
     "read_only": false
    }
   },
   "outputs": [],
   "source": [
    "# calculate the energy of the first kaon"
   ]
  },
  {
   "cell_type": "code",
   "execution_count": null,
   "metadata": {
    "collapsed": true
   },
   "outputs": [],
   "source": [
    "# plot a histogram of this variable"
   ]
  },
  {
   "cell_type": "markdown",
   "metadata": {
    "heading_collapsed": true
   },
   "source": [
    "### Hinweise"
   ]
  },
  {
   "cell_type": "markdown",
   "metadata": {
    "hidden": true
   },
   "source": [
    "**Energie Berechnung** - Nutzt den zuvor bestimmten Betrag des Impulses und die bekannte invariante Masse um die Energie des ersten Hadrons. Berechnet zunächst das Quadrat der Energie und dann die Energie.\n",
    "\n",
    "**Kaon Masse** - Ihr könnt die Masse des Kaon im Internet oder in Büchern recherchieren. Eine in der Teilchenphysi häufig genutzte Referenz ist beispielsweise die Particle Data Group ([PDG](http://pdg.lbl.gov/2014/reviews/rpp2014-rev-charged-kaon-mass.pdf)). Dort sind alle Kenntnisse über die Eigenschaften der bekannten Teilchen gesammelt.\n"
   ]
  },
  {
   "cell_type": "markdown",
   "metadata": {
    "hidden": true
   },
   "source": [
    "Berechnet nun auch die Impulse und Energien der beiden übrigen Kaonen.\n"
   ]
  },
  {
   "cell_type": "code",
   "execution_count": null,
   "metadata": {
    "collapsed": true,
    "hidden": true,
    "run_control": {
     "frozen": false,
     "read_only": false
    }
   },
   "outputs": [],
   "source": [
    "# calculate variables for the energy of the other two kaons"
   ]
  },
  {
   "cell_type": "markdown",
   "metadata": {},
   "source": [
    "## Weitere Feature des $B$ Meson\n",
    "\n",
    "In dieser Analyse werden  B<sup>+</sup> und B<sup>-</sup> Mesonen ([B Meson](https://en.wikipedia.org/wiki/B_meson)) untersucht,  die in drei geladene Kaonen [Kaon](https://en.wikipedia.org/wiki/Kaon) zerfallen.\n",
    "\n",
    "Energie ist eine erhaltenen Größe. Daraus folgt, dass ihr die Energie der drei \"Tochter\"-Kaonen, die ihr zuvor berechnet habt, verwenden könnt um die des B Meson zu bestimmen.\n",
    "\n",
    "Ebenso ist der Impuls eine erhaltene Größe. Daher könnt ihr auch aus den Impuls des B Meson aus den Impulsen der Töchter bestimmen. Beachtet, dass der Impuls eine **verktorielle** Größe ist.\n",
    "\n",
    "Aus der Energie und dem Impuls kann unter erneuter Verwendung der Energie-Impuls Relation die invariante Masse des B Meson ermittelt werden.\n"
   ]
  },
  {
   "cell_type": "code",
   "execution_count": null,
   "metadata": {
    "collapsed": true,
    "run_control": {
     "frozen": false,
     "read_only": false
    }
   },
   "outputs": [],
   "source": [
    "# calculate the energy of the B meson"
   ]
  },
  {
   "cell_type": "code",
   "execution_count": null,
   "metadata": {
    "collapsed": true,
    "run_control": {
     "frozen": false,
     "read_only": false
    }
   },
   "outputs": [],
   "source": [
    "# calculate the momentum components of the B meson \n",
    "    \n",
    "# and the magnitude of the momentum of the B meson"
   ]
  },
  {
   "cell_type": "code",
   "execution_count": null,
   "metadata": {
    "collapsed": true,
    "run_control": {
     "frozen": false,
     "read_only": false
    },
    "scrolled": true
   },
   "outputs": [],
   "source": [
    "# calculate the B meson invariant mass\n",
    "\n",
    "# plot the B meson invariant mass in a histogram"
   ]
  },
  {
   "cell_type": "markdown",
   "metadata": {},
   "source": [
    "Ihr solltet nun einen Graphen mit einem scharfen Peak bei der Masse der B<sup>+</sup> Mesonen haben. Die Masse der B<sup>+</sup> und der B<sup>-</sup> Mesonen ist identisch. Vergleicht die Position des Peaks mit der bekannten [B Masse](http://pdg.lbl.gov/2014/listings/rpp2014-list-B-plus-minus.pdf)\n",
    "\n",
    "Bedenkt, dass für diesen Plot simulierte Daten verwendet worden sind. Welche Unterschiede erwartet ihr für die realen Daten, mit denen ihr im Folgenden arbeiten werdet?"
   ]
  },
  {
   "cell_type": "markdown",
   "metadata": {
    "heading_collapsed": true
   },
   "source": [
    "### Hinweise"
   ]
  },
  {
   "cell_type": "markdown",
   "metadata": {
    "hidden": true
   },
   "source": [
    "**B Meson Energie** - Aus der Energieerhaltung folgt, dass die Energie des B Meson der Summe der Energien von den drei Kaonen entspricht: $E_B=E_{K1}+E_{K2}+E_{K3}$, mit der B Meson Energie $E_B$ und den Energien $E_{K1}, E_{K2}, E_{K3}$ der drei Kaonen.\n",
    "\n",
    "**B Meson Impuls** - Aus der Impulserhaltung folgt, dass die x-Komponente B Meson Impulses der Summer der x-Komponenten der drei Kaon Impulse entspricht: $px_B=px_{K1}+px_{K2}+px_{K3}$, wobei $px$ der Impuls des B Meson in x-Richtung ist und $px_{K1},px_{K2},px_{K3}$ die x-Komponenten der drei Kaon Impulsen ist. Das selbe gilt auch für die y- und z-Komponente. Aus den einzelnen Richtungskomponenten des Impulses lässt sich anschließend der Betrag des B Meson Impuleses ermitteln.\n",
    "\n",
    "**Invariante B Meson Masse** - Umstellen der Gleichung $E^2=p^2+m^2$ liefert $m^2$. Aus dem Betrag des Impulses und der Energie lässt sich nun die invariante Masse des B Meson ermitteln.\n",
    "\n",
    "**Histogrammieren** - Achtet darauf, dass der Wertebereich und das Binning so gewählt sind, dass ihr den Massen Peak gut erkennen könnt.\n",
    "\n",
    "**Einheiten** - Die gegebenen Daten verwenden die Einheit 'MeV/c' für die Impulse."
   ]
  },
  {
   "cell_type": "markdown",
   "metadata": {},
   "source": [
    "# Echte Daten\n",
    "## Ziele:\n",
    "\n",
    "* Sortiert die Daten aus, die nicht aus dem Zerfall B<sup>+</sup> → K<sup>+</sup>K<sup>+</sup>K<sup>−</sup> oder dem konjugierten Zerfall B<sup>+</sup> → K<sup>+</sup>K<sup>+</sup>K<sup>−</sup> stammen\n",
    "\n",
    "* Plottet ein Histogramm der B Masse aus den echten Daten und beobachtet, wie unterschiedliche Selektionen diese beeinflussen"
   ]
  },
  {
   "cell_type": "markdown",
   "metadata": {},
   "source": [
    "In dem vorherigen Abschnitt habt ihr simulierte Daten verwendet um die die invariante Masse zu bestimmen. Jetzt werdet ihr echte LHCb Daten verwenden. Diese wurden 2011 während der ersten wesentlichen Betriebsphase des LHC aufgenommen.\n",
    "\n",
    "Die vorhandenen Daten sind so ausgewählt, dass sie mit hoher Wahrscheinlichkeit aus Zerfällen von B<sup>+</sup> oder B<sup>-</sup> in drei geladene Endzustandsteilchen stammen. Zunächst soll sich mit Fall mit drei geladenen Kaonen im Endzustand betrachtet werden.\n",
    "\n",
    "\n",
    "## Vorselektion\n",
    "Nun müsst ihr durch eine Vorselektion Daten auswählen, die mit hoher Wahrscheinlichkeit drei Kaonen im Endzustand aufweisen. Dazu müsst ihr:\n",
    "* Sicher gehen, dass es keine Myonen sind (nutzt `H1_isMuon` und entsprechendes für `H2` und `H3`)\n",
    "* Fordern, dass die Wahrscheinlichkeit ein Pion zu sein gering ist (z.B. `H1_ProbPi < 0.5`)\n",
    "* Fordern, dass die Wahrscheinlichkeit ein Kaon zu sein hoch ist (z.B. `H1_ProbK > 0.5`)\n",
    "\n",
    "Bei eurer Selektion müsst ihr die Balance halten zwischen zu losen Schnitten mit zu vielen Untergrundereignissen und zu festen Schnitten, die zu viel von eurem Signal verwerfen.\n",
    "Falls ihr im späteren Verlauf der Analyse feststellt, dass eure Selektion unzureichend ist, könnt ihr jeder Zeit hierhin zurückkehren und eure Selektion anpassen.\n",
    "\n",
    "Stellt nun eure Vorselektion auf und gebt ihr den Namen `'preselection'`. Ein Beispiel einer möglichen Vorselektion befindet sich in den Hinweisen. Falls ihr zunächst unsicher seid, könnt ihr mit dieser beginnen und sie anpassen, sobald ihr euch mit den folgenden Plots und dem Einfluss der Selektion vertraut gemacht habt.\n",
    "\n"
   ]
  },
  {
   "cell_type": "code",
   "execution_count": null,
   "metadata": {
    "collapsed": true,
    "run_control": {
     "frozen": false,
     "read_only": false
    }
   },
   "outputs": [],
   "source": [
    "# Make your preselection here, this line applies no preselection\n",
    "preselection = \"\""
   ]
  },
  {
   "cell_type": "markdown",
   "metadata": {},
   "source": [
    "Der folgende Code lädt die echten Daten in ein neues Dataframe und wendet die Vorselektion `'preselection'` an. Das Laden der Daten kann dabei, aufgrund der Größe, etwas länger dauern."
   ]
  },
  {
   "cell_type": "code",
   "execution_count": null,
   "metadata": {
    "collapsed": true
   },
   "outputs": [],
   "source": [
    "real_data = read_root(['/data/B2HHH_MagnetUp.root','/data/B2HHH_MagnetDown.root'],where=preselection)"
   ]
  },
  {
   "cell_type": "markdown",
   "metadata": {},
   "source": [
    "Erzeugt nun ein Histogramm für die Wahrscheinlichkeiten, dass ein Endzustandsteilchen ein Kaon oder Pion ist.\n",
    "Dies wird euch dabei helfen geeignete Schnittpunkte für die Selektion zu finden.\n",
    "\n",
    "Ihr könnt auch verschiedene tiefergehende Ansätze verfolgen wie 2d Histogramme der Wahrscheinlichkeiten oder unterschiedliche Schnittpunkte für verschiedene Endzustandsteilchen."
   ]
  },
  {
   "cell_type": "code",
   "execution_count": null,
   "metadata": {
    "collapsed": true,
    "run_control": {
     "frozen": false,
     "read_only": false
    }
   },
   "outputs": [],
   "source": [
    "# plot the probability that a final state particle is a kaon"
   ]
  },
  {
   "cell_type": "code",
   "execution_count": null,
   "metadata": {
    "collapsed": true
   },
   "outputs": [],
   "source": [
    "# plot the probability that a final state particle is a pion"
   ]
  },
  {
   "cell_type": "markdown",
   "metadata": {},
   "source": [
    "Berechnet nun die invariante Masse der B Mesonen und plottet diese in ein Histogramm. Welche Unterschiede zeigt die Verteilung im Vergleich zu den simulierten Daten? Versucht diese Unterschiede zu erklären."
   ]
  },
  {
   "cell_type": "code",
   "execution_count": null,
   "metadata": {
    "collapsed": true,
    "run_control": {
     "frozen": false,
     "read_only": false
    }
   },
   "outputs": [],
   "source": [
    "\n"
   ]
  },
  {
   "cell_type": "markdown",
   "metadata": {},
   "source": [
    "Experimentiert mit verschiedenen Schnitten und beobachtet, wie verschiedenen Schnitte die Verteilung der invarianten Masse verändern. Ihr solltet für die folgenden Aufgaben ein Set von Schnitten auswählen, das möglich viel Signal erhält und möglichst viel Untergrund verwirft.\n",
    "Nach der Selektion mit Hilfe der Teilchenidentifikation könnt ihr auch nun auch mit Schnitten den B Meson Massen Peak isolieren und so den Untergrund mit hohen und niedrigen Massen entfernen."
   ]
  },
  {
   "cell_type": "markdown",
   "metadata": {
    "heading_collapsed": true
   },
   "source": [
    "### Hinweis: Vorselektions Beispiel"
   ]
  },
  {
   "cell_type": "markdown",
   "metadata": {
    "hidden": true
   },
   "source": [
    "Dieser String zeigt euch die passende Syntax und lässt sich als guter Ausgangspunkt für die Selektion verwenden."
   ]
  },
  {
   "cell_type": "code",
   "execution_count": null,
   "metadata": {
    "collapsed": true,
    "hidden": true
   },
   "outputs": [],
   "source": [
    "# preselection = \"H1_ProbPi < 0.5 & H2_ProbPi < 0.5 & H3_ProbPi < 0.5 & H1_ProbK > 0.5 & H2_ProbK > 0.5 & H3_ProbK > 0.5 & !H1_isMuon & !H2_isMuon & !H3_isMuon\"\n"
   ]
  },
  {
   "cell_type": "markdown",
   "metadata": {
    "heading_collapsed": true
   },
   "source": [
    "# Suche nach globalen Materie-Antimaterie Unterschieden\n",
    "\n",
    "In diesem Abschnittwerdet ihr anfangen Materie-Antimaterie Unterschiede (CP Verletzung) zu untersuchen. Das Attribut 'global' bedeutet in diesem Kontext, dass der gesamte kinematische (Energie und Impuls) Bereich der Tochter Kaonen betrachtet wird. Später werdet ihr noch nach 'lokalen' Unterschieden in verschiedenen kinematischen Bereichen der B Meson Zerfälle suchen.\n",
    "\n",
    "## Ziele:\n",
    "* Berechnet die globale CP Asymmetrie\n",
    "* Bestimmt die statistische Unsicherheit\n",
    "* Erkennt, ob sich eine CP Verletzung beobachten lässt"
   ]
  },
  {
   "cell_type": "markdown",
   "metadata": {
    "collapsed": true,
    "hidden": true
   },
   "source": [
    "Um Unterschiede im Verhalten von Materie und Antimaterie sichtbar zu machen, wollen wir B<sup>+</sup> Mesonen mit ihren B<sup>-</sup> Antiteilchen vergleichen. Verwendet die zu Verfügung stehenden Ladungsinformationen (`H1_Charge`, `H2_Charge` und `H3_Charge`) um zwischen B<sup>+</sup> und B<sup>-</sup> zu unterscheiden."
   ]
  },
  {
   "cell_type": "code",
   "execution_count": null,
   "metadata": {
    "collapsed": true,
    "hidden": true,
    "run_control": {
     "frozen": false,
     "read_only": false
    }
   },
   "outputs": [],
   "source": [
    "# make a variable for the charge of the B mesons"
   ]
  },
  {
   "cell_type": "markdown",
   "metadata": {
    "hidden": true
   },
   "source": [
    "Zählt nun die Anzahl (N<sup>+</sup> und N<sup>-</sup>) an Ereignissen mit einem Zerfall des jeweiligen Teilchens und bestimmt auch deren Differenz."
   ]
  },
  {
   "cell_type": "code",
   "execution_count": null,
   "metadata": {
    "collapsed": true,
    "hidden": true,
    "run_control": {
     "frozen": false,
     "read_only": false
    }
   },
   "outputs": [],
   "source": [
    "# make variables for the numbers of positive and negative B mesons"
   ]
  },
  {
   "cell_type": "markdown",
   "metadata": {
    "hidden": true
   },
   "source": [
    "Um die Asymmetrie zu berechnen könnt ihr die folgende Formel verwenden:\n",
    "\n",
    "<latex>$A = \\frac{N^+ - N^-}{N^+ + N^-}$</latex>"
   ]
  },
  {
   "cell_type": "code",
   "execution_count": null,
   "metadata": {
    "collapsed": true,
    "hidden": true,
    "run_control": {
     "frozen": false,
     "read_only": false
    }
   },
   "outputs": [],
   "source": [
    "# calculate the value of the asymmetry, by using the formula above, and then print it"
   ]
  },
  {
   "cell_type": "markdown",
   "metadata": {
    "heading_collapsed": true,
    "hidden": true
   },
   "source": [
    "### Hinweise"
   ]
  },
  {
   "cell_type": "markdown",
   "metadata": {
    "hidden": true
   },
   "source": [
    "**Zwischen B<sup>+</sup> und B<sup>-</sup> unterscheiden**\n",
    "\n",
    " - Ladung ist eine erhaltene Größe. Die Ladung des $B$ Meson entspricht der Gesamtladung der drei Töchter.\n",
    " - Ihr könnt ` len(real_data.query('B_Charge == charge'))` verwenden um die Zahl an Mesonen zu bestimmen, deren `B_Charge` mit der Ladung `charge` (`1` oder `-1`) übereinstimmt."
   ]
  },
  {
   "cell_type": "markdown",
   "metadata": {
    "hidden": true
   },
   "source": [
    "### Bestimmung der Signifikanz der Abweichung\n",
    "\n",
    "Ihr müsst nun die statstische Unsicherheit auf die berechnete Asymmetrie bestimmen. Dies könnt ihr mit folgender Formel:\n",
    "\n",
    "<latex>$\\sigma_A = \\sqrt{\\frac{1-A^2}{N^+ + N^-}}$</latex>\n",
    "\n",
    "Die Signifikanz des Ergebnisses wird bestimmt, indem der ermittelte Wert durch seine Unsicherheit geteilt wird. Ein Wert von mehr als drei Standardabweichungen $\\sigma$ wird in der Teilchenphysik als \"Hinweis\" deklariert, ein Wert von mehr als $5\\sigma$ als \"Beobachtung\" oder \"Entdeckung\" betrachtet."
   ]
  },
  {
   "cell_type": "code",
   "execution_count": null,
   "metadata": {
    "collapsed": true,
    "hidden": true,
    "run_control": {
     "frozen": false,
     "read_only": false
    }
   },
   "outputs": [],
   "source": [
    "# calculate the statistical significance of your result and print it"
   ]
  },
  {
   "cell_type": "markdown",
   "metadata": {
    "hidden": true
   },
   "source": [
    "**Glückwunsch!** Ihr habt nun eure erste Suche nach CP Verletzung durch geführt.\n",
    "\n",
    "Bisher habt ihr lediglich die statistische Unsicherheit auf die Messung berücksichtigt. Es gibt jedoch bei solchen Messungen auch noch weitere, systematische Unsicherheiten.\n",
    "Berücksichtigt nun zusätzlich eine systematische Unsicherheit für eine Produktionsasymmetrie und berechnet erneut die Signifikanz.\n"
   ]
  },
  {
   "cell_type": "code",
   "execution_count": null,
   "metadata": {
    "collapsed": true
   },
   "outputs": [],
   "source": []
  },
  {
   "cell_type": "markdown",
   "metadata": {
    "heading_collapsed": true
   },
   "source": [
    "# Dalitz Plots und Zweikörper-Resonanzen\n",
    "## Ziele:\n",
    "* Erzeugt Dalitz Plots mit den simulierten und mit den echten Daten\n",
    "* Verwendet eine Sortierung um die Dalitz Plots deutlicher zu machen\n",
    "* Identifiziert Zweikörper-Resonanzen in den Dalitz Plots"
   ]
  },
  {
   "cell_type": "markdown",
   "metadata": {
    "hidden": true
   },
   "source": [
    "An dieser Stelle wollen wir eine wichtige Technik für die Analyse von Dreikörperzerfällen, in diesem Fall dem Zerfall der geladenen B Mesonen in drei Kaonen, einführen. Diese ist als Dalitz Plot bekannt.\n",
    "\n",
    "Der Zerfall der B Mesonen kann entweder direkt in den Dreikörper Endzustand stattfinden oder unter zwischenzeitlicher Erezugung eines weiter zerfallenden Teilchens. So kann der Zerfall B<sup>+</sup> → K<sup>+</sup>K<sup>+</sup>K<sup>−</sup> durch den Zerfall B<sup>+</sup> → K<sup>+</sup>R<sup>0</sup> mit einer Resonanz eines ungeladenen Teilchens, das seinerseits weiter nach R<sup>0</sup> → K<sup>+</sup>K<sup>-</sup> zerfällt. Dalitz Plots  können genutzt werden um diese Zwischenresonanzen als Bänder im Dalitz Plot sichtbar zu machen.\n",
    "\n",
    "Die Kinematik eines Dreikörperzerfalles kann vollständig unter Verwendung zweier Variablen beschrieben werden. Die Energien und Impulse der drei Kaonen sind nicht unabhängig voneinander, da sie alle aus dem selben B Meson stammen, dessen Energie und Impuls erhalten bleiben. Die Achsen der Dalitz Plots beschreiben gewöhnlich die Quadrate der invarianten Massen von zwei Paaren aus Endzustandsteilchen. Auf diese Weise entstehen 2D Plots, deren Dichteverteilung verschiedene Strukturen aufweisen können.\n",
    "\n",
    "In unserem Zerfall B<sup>+</sup> → K<sup>+</sup><sub>1</sub>K<sup>+</sup><sub>2</sub>K<sup>−</sup><sub>3</sub> sind unsere Kaonen nummeriert um sie zu unterscheiden. So gibt es drei möglich Kombinationen von Endzustandsteilchen zu Zweikörper Resonanzen: R<sup>0</sup><sub>1</sub> → K<sup>+</sup><sub>1</sub>K<sup>-</sup><sub>2</sub>, R<sup>++</sup><sub>2</sub> → K<sup>+</sup><sub>1</sub>K<sup>+</sup><sub>3</sub> und R<sup>0</sup><sub>3</sub> → K<sup>-</sup><sub>2</sub>K<sup>+</sup><sub>3</sub>. \n",
    "\n",
    "Die mögliche Resonanz R<sup>++</sup><sub>2</sub> wäre eine doppelt geladenen Resonanz. Eine solche wird für Mesonen nicht erwartet, da es sich bei Mesonen um Teilchen aus einem Quark und einem Anti-Quark handelt, deren Ladung nicht zu dem Wert 2 addiert werden können.\n",
    "\n",
    "Die ungeladenen R<sup>0</sup><sub>1</sub> und R<sup>0</sup><sub>3</sub> Resonanzen sind jedoch ohne Weiteres möglich. Daher sollt ihr nun die invarianten Massen für diese Kombinationen berechnen. Anschließend sollt ihr die Quadrate dieser Massen in einem 2D Histogramm als Dalitz Plot auftragen.\n",
    "\n",
    "Es wird empfohlen mit den simulierten Daten zu beginnen. Diese enthalten keine Zwischenresonanzen. Daher wird in den Dalitz Plots eine gleichmäßige Dichteverteilung im physikalisch erlaubten Bereich von Energie und Impulsen erwartet.\n",
    "\t"
   ]
  },
  {
   "cell_type": "code",
   "execution_count": null,
   "metadata": {
    "collapsed": true,
    "hidden": true,
    "run_control": {
     "frozen": false,
     "read_only": false
    }
   },
   "outputs": [],
   "source": [
    "# calculate the invariant masses for each possible hadron pair combination"
   ]
  },
  {
   "cell_type": "code",
   "execution_count": null,
   "metadata": {
    "collapsed": true,
    "hidden": true
   },
   "outputs": [],
   "source": [
    "# plot the invariant mass for one of these combinations "
   ]
  },
  {
   "cell_type": "code",
   "execution_count": null,
   "metadata": {
    "collapsed": true,
    "hidden": true,
    "run_control": {
     "frozen": false,
     "read_only": false
    }
   },
   "outputs": [],
   "source": [
    "# make a Dalitz plot with labelled axes for the simulation data"
   ]
  },
  {
   "cell_type": "markdown",
   "metadata": {
    "heading_collapsed": true,
    "hidden": true
   },
   "source": [
    "### Hinweise"
   ]
  },
  {
   "cell_type": "markdown",
   "metadata": {
    "hidden": true
   },
   "source": [
    "**Berechnung der invarianten Massen** - Nutzt die selbe Technik wie für das B Meson. Verwendet dabei jedoch nur zwei anstelle der drei Endzustandsteilchen\n",
    "**Dalitz Plot plotten** - Ihr könnt die `scatter()` Funktion der `matplotlib` Bibliothek verwenden oder in der Beispiel Analyse nachsehen. Vergesst nicht das Quadrat der Zweikörpermasse zu verwenden."
   ]
  },
  {
   "cell_type": "markdown",
   "metadata": {
    "hidden": true
   },
   "source": [
    "## Dalitz Plot mit echten Daten\n",
    "Erstelt nun einen Dalitz Plot für die echten Daten. Kontrolliert, dass eure gebildeten Resonanzen R<sup>0</sup><sub>1</sub> und R<sup>0</sup><sub>3</sub> ungeladen sind."
   ]
  },
  {
   "cell_type": "code",
   "execution_count": null,
   "metadata": {
    "collapsed": true,
    "hidden": true,
    "run_control": {
     "frozen": false,
     "read_only": false
    }
   },
   "outputs": [],
   "source": [
    "# calculate the invariant masses for each possible hadron pair combination in the real data"
   ]
  },
  {
   "cell_type": "code",
   "execution_count": null,
   "metadata": {
    "collapsed": true,
    "hidden": true
   },
   "outputs": [],
   "source": [
    "# make a Dalitz plot for the real data (with your preselection cuts applied)\n",
    "# make a Dalitz plot with labelled axes for the simulation data"
   ]
  },
  {
   "cell_type": "markdown",
   "metadata": {
    "hidden": true
   },
   "source": [
    "<div align=\"justify\">Beschriftet auch die Achsen des Dalitz Plot. Vergleicht den Dalitz Plot der echten Daten mit den simulierten. Wo liegen die größten Unterschiede?\n",
    "</div>"
   ]
  },
  {
   "cell_type": "markdown",
   "metadata": {
    "hidden": true
   },
   "source": [
    "### Sortieren der Dalitz Variablen\n",
    "Die Sichtbarkeit von Resonanzen in Dalitz kann noch weiter erhöht werden. Die verwendeten Resonanzen R<sup>0</sup><sub>1</sub> und R<sup>0</sup><sub>3</sub> sind beide aus der selben Sorte Teilchen, K<sup>+</sup>K<sup>-</sup>, zusammengesetzt. Daher haben sie ie selben Verteilungen.\n",
    "Es ist hilfreich eine Sortierung in diese beiden Resonanzen zu bringen um zusätzliche Informationen zu gewinnen. Dazu verwenden sortieren wir die beiden Resonanzen in eine Kombination der Kaonen mit der jeweils höheren Masse R<sup>0</sup><sub>High</sub> und eine mit der dazu gehörenden niedrigeren Masse R<sup>0</sup><sub>Low</sub>. Werden die Massen dieser sortierten Kombinationen als Dalitz Variablen verwendet, wird der Dalitz Plot quasi in der Mitte \"umgeklappt\". Der nun deutlich kleinere kinematische Bereich enthält weiterhin die selbe Menge an Statistik. Die Ereignisdichte in dem Bereich wird daurch jedoch deutlich größer, sodass Strukturen deutlich besser zu erkennen sind. \n",
    "\n"
   ]
  },
  {
   "cell_type": "code",
   "execution_count": null,
   "metadata": {
    "collapsed": true,
    "hidden": true,
    "run_control": {
     "frozen": false,
     "read_only": false
    }
   },
   "outputs": [],
   "source": [
    "# make a new Dalitz plot with a mass ordering of the axes"
   ]
  },
  {
   "cell_type": "markdown",
   "metadata": {
    "heading_collapsed": true,
    "hidden": true
   },
   "source": [
    "### Hinweise"
   ]
  },
  {
   "cell_type": "markdown",
   "metadata": {
    "hidden": true
   },
   "source": [
    "**Sortierung** - Ihr könnt die größere / kleinere Masse durch elementweises Vergleichen der bestimmten Massen R<sup>0</sup><sub>1</sub> und R<sup>0</sup><sub>3</sub> bestimmen. Dabei können auch die `numpy` Funktionen `numpy.min(a,b)` und `numpy.max(a,b)` helfen. Diese führen einen elementweisen Vergleich zwischen den Arrays `a` und `b` durch und geben einen Array mit den jeweiligen Minima/Maxima zurück."
   ]
  },
  {
   "cell_type": "markdown",
   "metadata": {
    "heading_collapsed": true,
    "hidden": true
   },
   "source": [
    "### Gebinnter Dalitz Plot\n",
    "Die Darstellung des Dalitz Plots lässt sich durch das Verwenden eines Binnings verbessern. Dazu könnt ihr die `hist2d()` Funktion verwenden um ein 2D Histogramm zu erstellen."
   ]
  },
  {
   "cell_type": "code",
   "execution_count": null,
   "metadata": {
    "collapsed": true,
    "hidden": true,
    "run_control": {
     "frozen": false,
     "read_only": false
    }
   },
   "outputs": [],
   "source": [
    "# plot a binned Dalitz Plot\n",
    "# use colorbar() to make a legend for your plot at the side"
   ]
  },
  {
   "cell_type": "markdown",
   "metadata": {
    "heading_collapsed": true,
    "hidden": true
   },
   "source": [
    "## Zweikörper-Resonanzen"
   ]
  },
  {
   "cell_type": "markdown",
   "metadata": {
    "hidden": true
   },
   "source": [
    "Ihr könnt nun den Dalitz Plot verwenden um Zwischenresonanzen zu beobachten. Diese Resonanzen bilden Bänder mit höherer Ereignisdichte in den Dalitz Plots. Mit Hilfe des PDG Booklets oder der [PDG Seite](http://pdg.lbl.gov/2015/tables/contents_tables.html) könnt ihr nun versuchen die entsprechenden Resonanzen zu identifizieren. Dazu sind die Massen, Zerfallsbreiten und jeweiligen Zerfallkanäle angegeben. Ihr sucht nach Mesonen, die in zwei geladene Kaonen K<sup>+</sup>K<sup>-</sup> zerfallen und die die zu den Bändern passenden Massen haben."
   ]
  },
  {
   "cell_type": "markdown",
   "metadata": {
    "heading_collapsed": true
   },
   "source": [
    "# Suche nach lokalen Materie-Antimaterie Unterschieden\n",
    "## Ziele:\n",
    "* Beobachtet Materie-Antimaterie Unterschiede (CP Verletzung) in bestimmten Regionen des Dalitz Plots der B<sup>+</sup> und B<sup>-</sup> Mesonen.\n",
    "* Erzeugt Plots um die CP Verletzung in den entsprechenden Bereichen deutlich zu machen."
   ]
  },
  {
   "cell_type": "markdown",
   "metadata": {
    "hidden": true
   },
   "source": [
    "In einem vorherigen Abschnitt habt ihr bereits nach globaler CP Verletzung gesucht. Vermutlich hatte euer Ergebnis keine sehr hohe Signifikanz.\n",
    "\n",
    "CP Verletzung kommt aus der Interferenz von verschiedenen Zerfallsketten mit unterschiedlichen zwischen Resonanzen in einen gemeinsamen Endzustand. Daher kann es vorkommen das die Stärke und das Vorzeichen der CP Verletzung in verschiedenen kinematischen Bereichen variiert. Daher werden wir nun die selbe Formel wie für die globale CP Verletzung nutzen\n",
    "\n",
    "<latex>$A = \\frac{N^+ - N^-}{N^+ + N^-}$</latex>\n",
    "\n",
    "Diese wird jedoch auf unterschiedliche Bereiche im Dalitz Plot angewendet.\n"
   ]
  },
  {
   "cell_type": "markdown",
   "metadata": {
    "heading_collapsed": true,
    "hidden": true
   },
   "source": [
    "## Entfernen der Charm Resonanzen "
   ]
  },
  {
   "cell_type": "markdown",
   "metadata": {
    "hidden": true
   },
   "source": [
    "Diese hier durchgeführte Analyse ist darauf ausgelegt CP Verletzung in Charm-freien B Meson Zerfällen zu untersuchen.\n",
    "Charm-frei bedeutet, dass in dem Zerfall kein charm Quark vorhanden ist. Die häufigsten Zerfälle von B Mesonen hängen jedoch mit dem Zerfall eines *b* Quarks in ein *c* Quark zusammen. Ein Großteil dieser Ereignisse lässt sich verwerfen, indem Ereignisse mit einem D<sup>0</sup> Meson (welches ein *c* Quark enthält) in der Zerfallskette entfernt.\n",
    "\n",
    "In dem vorherigen Abschnitt habt ihr wahrscheinlich bereits eine D<sup>0</sup> Meson Resonanz in den Dalitz Plots identifizieren können. Nun sollt ihr alle Ereignisse die in dem entsprechenden kinematischen Bereich liegen verwerfen um diesen Anteil zu unterdrücken. Ihr könnt dies bereits in eurer Vorselektion tun und durch einfaches Ausführen der bisherigen Schritte die Veränderungen in den Dalitz Plots beobachten."
   ]
  },
  {
   "cell_type": "code",
   "execution_count": null,
   "metadata": {
    "collapsed": true
   },
   "outputs": [],
   "source": []
  },
  {
   "cell_type": "markdown",
   "metadata": {
    "heading_collapsed": true,
    "hidden": true
   },
   "source": [
    "## Vergleich der Dalitz Plots"
   ]
  },
  {
   "cell_type": "markdown",
   "metadata": {
    "hidden": true
   },
   "source": [
    "Erzeugt seperate Dalitz Plots für B<sup>+</sup> und B<sup>-</sup> Zerfälle. Lokale CP verletzung sollte als Asymmetrie zwischen den beiden Plots sichtbar werden.\n",
    "Damit die statistischen Fehler in den jeweiligen Bins nicht zu groß werden, muss in jedem Bin eine ausreichend große Menge an Ereignissen sein. Daher werdet ihr vermutlich ein gröberes Binning benötigen als bei den Dalitz Plots, mit denen ihr nach den Resonanzen gesucht habt. Eine geeignete Ausgangsbreite für die Bins dürfte in dem Bereich einiger weniger $\\text{GeV}^2/\\text{c}^4$ liegen."
   ]
  },
  {
   "cell_type": "code",
   "execution_count": null,
   "metadata": {
    "collapsed": true,
    "hidden": true,
    "run_control": {
     "frozen": false,
     "read_only": false
    }
   },
   "outputs": [],
   "source": [
    "# make a Dalitz plot for the B+ events"
   ]
  },
  {
   "cell_type": "code",
   "execution_count": null,
   "metadata": {
    "collapsed": true,
    "hidden": true,
    "run_control": {
     "frozen": false,
     "read_only": false
    }
   },
   "outputs": [],
   "source": [
    "# make a Dalitz plot for the B- events"
   ]
  },
  {
   "cell_type": "code",
   "execution_count": null,
   "metadata": {
    "collapsed": true,
    "hidden": true
   },
   "outputs": [],
   "source": [
    "# Make a plot showing the asymmetry between these two Daltz plots\n",
    "# i.e. calculate the asymmetry between each bin of the B+ and B- Dalitz plots and show the result in another 2D plot"
   ]
  },
  {
   "cell_type": "markdown",
   "metadata": {
    "hidden": true
   },
   "source": [
    "Die Beobachtung einer großen Asymmetrie in einer bestimmten Region des Plots bedeutet nicht unbedingt, dass dor auch CP verletzung beobachtbar ist. Wenn nur eine sehr geringe Anzahl an Ereignissen in diesem Bereich liegt, kann die statistische Unsicherheit so groß werden, dass auch eine große Asymmetrie kompatibel mit Null wird.\n",
    "\n",
    "Ihr könnt die statistische Unsicherheit in jedem Bin mit der bereits zuvor für die globale Asymmetrie verwendeten Formel berechnen. Anschließend könnt ihr einen Plot erzeugen, der die Unsicherheit in jedem Bin zeigt.\n",
    "\n",
    "Das Teilen der Bineinträge des Asymmetrie Plots durch die Bineinträge des Unsicherheitsplots liefert die Signifikanz der CP Verletzung in jedem Bin. Das Plotten der Signifikanz macht es möglich Regionen auszuwählen, in denen CP Verletzung vorliegt."
   ]
  },
  {
   "cell_type": "code",
   "execution_count": null,
   "metadata": {
    "collapsed": true,
    "hidden": true
   },
   "outputs": [],
   "source": [
    "# Make a plot showing the uncertainty on the asymmetry \n",
    "#Asig = abs(A / Aerr)"
   ]
  },
  {
   "cell_type": "code",
   "execution_count": null,
   "metadata": {
    "collapsed": true,
    "hidden": true
   },
   "outputs": [],
   "source": [
    "# Make a plot showing the statistical significance of the asymmetry"
   ]
  },
  {
   "cell_type": "markdown",
   "metadata": {
    "heading_collapsed": true,
    "hidden": true
   },
   "source": [
    "## Beobachtung der CP Verletzung\n",
    "\n",
    "Die vorherigen Untersuchungen der Asymmetrie und ihrer Signifikanz sollte es auch nun ermöglichen eine Region im Dalitz Plot auszuwählen, die Anzeichen für signifikante CP Verletzung einer gewissen Größe aufweist. Diese lässt sich durch eine Ansammlung zusammenhängender Bins mit signifikanter positiver (oder negativer) Asymmetrie. Eventuell hilft es das Binning zu variieren um die optimale Region auszuwählen.\n",
    "\n",
    "Ihr könnt nun die entsprechende kinematische Region in euren Daten selektieren. Anschließend plottet ihr mit einem einfachen 1D Histogramm die invarianten Massenverteilungen für die B<sup>+</sup> und die B<sup>-</sup> Mesonen, so wie ihr es bereits bei der globalen Asymmetrie getan habt. Diesmal liegen die Ereignisse jedoch ausschließlich in der kinematischen Region von Interesse. Nun wiederholt das Vorgehen zur Bestimmung der CP Verletzung für die selektierten Daten, zählt die jeweilige Ereignisrate, berechnet die Asymmetrie, ihre statistische Unsicherheit und die daraus folgende Signifikanz der gemessenen CP Verletzung."
   ]
  },
  {
   "cell_type": "code",
   "execution_count": null,
   "metadata": {
    "collapsed": true,
    "hidden": true
   },
   "outputs": [],
   "source": [
    "# Make a plot showing the invariant mass of the B+ meson particles\n",
    "# using events from a region of the Dalitz plot showing sizeable CP asymmetries"
   ]
  },
  {
   "cell_type": "code",
   "execution_count": null,
   "metadata": {
    "collapsed": true,
    "hidden": true
   },
   "outputs": [],
   "source": [
    "# Make a plot showing the invariant mass of the B- meson particles using events from the same region"
   ]
  },
  {
   "cell_type": "markdown",
   "metadata": {
    "hidden": true
   },
   "source": [
    "**Glückwunsch!** Ihr solltet nun erfolgreich signifikante Hinweise auf CP Verletzung beobachtet haben. Eure Plots sollten deutlich zeigen, dass sie Zerfallsraten von Teilchen und Antiteilchen in verschiedenen kinematischen Bereichen unterschiedlich sind. Eventuell wollt ihr eure Ergebnisse mit denen der LHCb Collaboration vergleichen die in diesem [Paper](http://lhcbproject.web.cern.ch/lhcbproject/Publications/LHCbProjectPublic/LHCb-PAPER-2013-027.html) veröffentlicht sind."
   ]
  },
  {
   "cell_type": "markdown",
   "metadata": {
    "heading_collapsed": true
   },
   "source": [
    "# Weitere mögliche Analysen"
   ]
  },
  {
   "cell_type": "markdown",
   "metadata": {
    "hidden": true
   },
   "source": [
    "Die hier verwendeten Daten umfassen ein vollständiges Set von am LHCb Experiment aufgezeichneten Daten für Zerfälle von geladenen B Mesonen in drei Endzustandsspuren. Dieser Datensatz ist auch noch für zwei weitere wichtige Veröffentlichungen verwendet worden (zu finden [hier](http://lhcbproject.web.cern.ch/lhcbproject/Publications/LHCbProjectPublic/LHCb-PAPER-2013-027.html) und [hier](http://lhcbproject.web.cern.ch/lhcbproject/Publications/LHCbProjectPublic/LHCb-PAPER-2013-051.html)).\n",
    "\n",
    "Es gibt auch noch weitere Möglichkeiten diese Analyse auszuweiten. Die Folgenden Möglichkeiten werden im Weiteren diskutiert:\n",
    "<ul>\n",
    "<li>Zusätzliche Elemente für die Analyse von B<sup>+</sup> → K<sup>+</sup>K<sup>+</sup>K<sup>−</sup> </li>\n",
    "<li>Ähnliche Analysen auf diesem Datensatz</li>\n",
    "</ul>"
   ]
  },
  {
   "cell_type": "markdown",
   "metadata": {
    "hidden": true
   },
   "source": [
    "## Erweiterungen der Analyse\n",
    "\n",
    "### Systematische Unsicherheiten\n",
    "In dieser Analyse sind nur die statistischen Unsicherheiten berücksichtigt worden. Diese ist durch die limitierte Anzahl an Ereignissen bedingt. Darüberhinaus gibt es auch noch [Systematische Unsicherheiten](https://en.wikipedia.org/wiki/Observational_error#Systematic_versus_random_error), die durch Fehlannahmen in der Messung bedingt werden. Drei mögliche Quellen für systematische Unsicherheiten in dieser Analyse werden im Folgenden erläuter:\n",
    "<ul>\n",
    "<li> Produktions-Asymmetrie. Der LHC ist ein Proton-Proton Collider. Daher ist der Ausgangszustand der Kollision nicht Materie-Antimaterie symmetrisch. Somit werden B<sup>+</sup> und B<sup>-</sup> Mesonen auch nicht in exakt gleicher Zahl produziert. Diese kleine Produktions-Asymmetrie beträgt etwa 1% und kann mit Daten gemessen werden, wie in dem entsprechenden Paper diskutiert wird.</li>\n",
    "<li> Detektions-Asymmetrie. Der LHCb Detektor kann unterschieldich effizient im Detektieren der B<sup>+</sup> und B<sup>-</sup> Endzustände sein. Dies ist dadurch bedingt, dass positiv und negativ geladenen Kaonen im Magnetfeld in unterschiedliche Richtungen abgelenkt werden. Falls der Detektor nun in bestimmten Bereichen unterschiedlich effizient arbeitet, kommt es zu unterschiedlichen Effizienzen für K<sup>+</sup> und K<sup>-</sup> und daher auch für B<sup>+</sup> und B<sup>-</sup>. Aus diesem Grund wird die Magnetfeld Polarität gelegentlich umgekehrt. Die verwendeten Daten enthalten beide Polaritäten. Daher sollte diese Asymmetrie zum großen Teil ausgelöscht werden.\n",
    "Ihr könnt jedoch auch die Daten der jeweiligen Polarität einzeln laden und die CP Asymmetrie für die jeweilige Polarität einzeln und auch ihren Unterschied bestimmen. </li>\n",
    "<li>Analyse Techniken. Die verwendeten Techniken können auch Einfluss nehmen. In dieser Analyse wurde eine Vereinfachte Technik zum Verwerfen der Untergrundereignisse angewandt. Dabei wurde die Auswirkung von den verbleibenden Untergrundereignissen nicht weiter betrachtet. </li>\n",
    "</ul>\n",
    "\n",
    "### Verwendung der Massenseitenbänder\n",
    "\n",
    "Eine Quelle von Untergrund ist die zufällige Kombination von Spuren zu einem Kandidaten, der signalartige Eigenschaften hat. Dieser Untergrund wird zwar keinen Peak in den Daten verursachen, aber eine stetige Verteilung zu der wahren Massen Verteilung hinzufügen. Das Betrachten der Massenverteilung abseits des Massenpeaks ermöglicht eine Abschätzung, wie groß der Anteil an diesem kombinatorischen Untergrund im Signal Bereich ist.\n",
    "\n",
    "### Verteilungen Fitten\n",
    "\n",
    "Alternativ kann auch die Verteilung von Untergund und Signal in der B Masse gefittet werden. Auf diese Weise kann auch die Anzahl der jeweiligen Ereignisse bestimmt werden. Wie dies funktioniert kann auch dem Referenz LHCb Paper entnommen werden. Die entsprechenden Fits werden meist mit dem [CERN root framework](https://root.cern.ch/) durchgeführt."
   ]
  },
  {
   "cell_type": "markdown",
   "metadata": {
    "hidden": true
   },
   "source": [
    "## Weitere Analysen\n",
    "\n",
    "In den LHCb Papern, die diese Daten verwendeten, sind vier verschiedene Zerfallskanäle des geladenen B Meson untersucht worden. Jede dieser Analysen könnt ihr auch mit diesen Daten durchführen.\n",
    "<ul>\n",
    "<li>B<sup>+</sup> → K<sup>+</sup>K<sup>+</sup>K<sup>−</sup> (und ladungskonjugierte). Dies ist die Analyse die hier durchgeführt worden ist. Dieser Zerfallskanal hat den geringsten Untergrund. Daher nimmt unser vereinfachter Umgang mit dem Untergrund hier den geringsten Einfluss.</li>\n",
    "<li>B<sup>+</sup> → &pi;<sup>+</sup>&pi;<sup>+</sup>&pi;<sup>−</sup> (und ladungskonjugierte). Bei dieser Analyse befinden sich drei Pionen im Endzustand. Da Pionen die häufigsten am LHC erzeugten Hadronen sind, gibt es hier einen signifikant größeren Untergrund. Daher sollte bei dieser Analyse ein Verfahren zum Umgang mit dem verbleibenden Untergrund hinzugefügt werden.</li>\n",
    "<li>B<sup>+</sup> → K<sup>+</sup>&pi;<sup>+</sup>&pi;<sup>−</sup> (und ladungskonjugierte). In diesem Fall befinden sich sowohl Kaonen als auch Pionen im Endzustand. Daher muss hier zunächst entschieden werden, welcher der Kandiaten am ehesten das Kaon ist, und die Selektion daran angepasst werden.</li>\n",
    "<li>B<sup>+</sup> → &pi;<sup>+</sup>K<sup>+</sup>K<sup>−</sup> (und ladungskonjugierte). Dieser Zerfallskanal hat zusätzlich ein schlechteres Verhältnis von Signal zu Untergrund.</li>\n",
    "</ul>"
   ]
  },
  {
   "cell_type": "code",
   "execution_count": null,
   "metadata": {
    "collapsed": true
   },
   "outputs": [],
   "source": []
  },
  {
   "cell_type": "code",
   "execution_count": null,
   "metadata": {
    "collapsed": true
   },
   "outputs": [],
   "source": []
  },
  {
   "cell_type": "code",
   "execution_count": null,
   "metadata": {
    "collapsed": true
   },
   "outputs": [],
   "source": []
  },
  {
   "cell_type": "code",
   "execution_count": null,
   "metadata": {
    "collapsed": true
   },
   "outputs": [],
   "source": []
  },
  {
   "cell_type": "code",
   "execution_count": null,
   "metadata": {
    "collapsed": true
   },
   "outputs": [],
   "source": []
  },
  {
   "cell_type": "code",
   "execution_count": null,
   "metadata": {
    "collapsed": true
   },
   "outputs": [],
   "source": []
  },
  {
   "cell_type": "code",
   "execution_count": null,
   "metadata": {
    "collapsed": true
   },
   "outputs": [],
   "source": []
  },
  {
   "cell_type": "code",
   "execution_count": null,
   "metadata": {
    "collapsed": true
   },
   "outputs": [],
   "source": []
  }
 ],
 "metadata": {
  "kernelspec": {
   "display_name": "Python 3",
   "language": "python",
   "name": "python3"
  },
  "language_info": {
   "codemirror_mode": {
    "name": "ipython",
    "version": 3
   },
   "file_extension": ".py",
   "mimetype": "text/x-python",
   "name": "python",
   "nbconvert_exporter": "python",
   "pygments_lexer": "ipython3",
   "version": "3.7.1"
  },
  "toc": {
   "toc_cell": false,
   "toc_number_sections": true,
   "toc_threshold": 6,
   "toc_window_display": false
  },
  "widgets": {
   "state": {},
   "version": "1.1.2"
  }
 },
 "nbformat": 4,
 "nbformat_minor": 1
}
